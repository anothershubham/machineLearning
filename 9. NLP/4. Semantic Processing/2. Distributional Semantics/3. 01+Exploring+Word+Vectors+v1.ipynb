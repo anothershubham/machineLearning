{
 "cells": [
  {
   "cell_type": "code",
   "execution_count": 37,
   "metadata": {
    "scrolled": true
   },
   "outputs": [],
   "source": [
    "import nltk\n",
    "from gensim.models import word2vec\n",
    "from gensim.models.word2vec import Word2Vec"
   ]
  },
  {
   "cell_type": "code",
   "execution_count": 38,
   "metadata": {},
   "outputs": [],
   "source": [
    "import numpy as np\n",
    "import matplotlib.pyplot as plt\n",
    "import os"
   ]
  },
  {
   "cell_type": "markdown",
   "metadata": {},
   "source": [
    "### Creating our sentences to train the word vectors"
   ]
  },
  {
   "cell_type": "code",
   "execution_count": 39,
   "metadata": {},
   "outputs": [],
   "source": [
    "TextCorpus  = [\"I like Upgrad\",\n",
    "               \"Upgrad has a good ML program\",\n",
    "               \"Upgrad has good faculty\",\n",
    "               \"Rahim is that good faculty\",\n",
    "               \"I like ML\"\n",
    "]"
   ]
  },
  {
   "cell_type": "code",
   "execution_count": 40,
   "metadata": {},
   "outputs": [
    {
     "data": {
      "text/plain": [
       "[['I', 'like', 'Upgrad'], ['Upgrad', 'has', 'a', 'good', 'ML', 'program']]"
      ]
     },
     "execution_count": 40,
     "metadata": {},
     "output_type": "execute_result"
    }
   ],
   "source": [
    "text_tokens = [sent.split() for sent in TextCorpus]\n",
    "text_tokens[:2]"
   ]
  },
  {
   "cell_type": "markdown",
   "metadata": {},
   "source": [
    "#### Training the word vectors"
   ]
  },
  {
   "cell_type": "code",
   "execution_count": 44,
   "metadata": {},
   "outputs": [],
   "source": [
    "model = Word2Vec(text_tokens,min_count=1,vector_size=500)"
   ]
  },
  {
   "cell_type": "code",
   "execution_count": 45,
   "metadata": {
    "scrolled": true,
    "tags": []
   },
   "outputs": [
    {
     "data": {
      "text/plain": [
       "array([-1.43818860e-03,  8.46578099e-04,  4.32678702e-04,  1.48814300e-03,\n",
       "       -9.77853313e-04, -9.12869466e-04, -1.21963501e-03,  6.59873476e-04,\n",
       "       -8.99892824e-04,  1.70457701e-03, -8.57765670e-04, -1.82108406e-03,\n",
       "       -9.63271130e-04,  1.28329801e-03, -1.27426477e-03, -1.05230766e-03,\n",
       "       -1.46088214e-03,  1.20445201e-03,  6.71518792e-04,  5.69677853e-04,\n",
       "       -6.27710368e-04,  1.20617822e-03, -1.23054930e-03, -3.96020419e-04,\n",
       "       -1.19661668e-03, -1.99136251e-04, -4.04197228e-04,  1.69718883e-03,\n",
       "        1.56002043e-05, -1.71506545e-03, -1.08581968e-03, -1.37519743e-03,\n",
       "        5.38475986e-04,  1.89132930e-03, -1.16319943e-03,  1.65300514e-03,\n",
       "        1.70641043e-03, -1.41252798e-03, -1.77664275e-03,  1.89383654e-03,\n",
       "        1.67487282e-03, -9.38178564e-04, -1.34520815e-03,  1.56842708e-03,\n",
       "        7.52668886e-04,  1.61910057e-03, -1.51430944e-03, -1.90501695e-03,\n",
       "        3.15481186e-04, -1.96115347e-03, -9.77177173e-04, -6.92020869e-04,\n",
       "        1.92418427e-03,  1.72471383e-03, -5.67121489e-04,  1.16537430e-03,\n",
       "        1.64741895e-03, -4.52596199e-04,  1.90570834e-03,  1.43204303e-03,\n",
       "        4.08299937e-04, -7.69752951e-04, -1.01635023e-03, -6.10330608e-04,\n",
       "        1.57757278e-03, -1.23808719e-03, -5.83004497e-04,  1.83820433e-03,\n",
       "        6.91330933e-04,  1.21452240e-03, -1.60656357e-03, -1.50300984e-04,\n",
       "        1.10448932e-03, -9.42893967e-04,  1.49569847e-03,  1.86391827e-03,\n",
       "       -8.18738918e-05, -4.12720197e-04, -1.18671895e-04, -1.15717796e-03,\n",
       "       -1.67725654e-03, -3.01374908e-04, -5.11436956e-04,  8.76486767e-04,\n",
       "       -1.37350371e-03,  1.08273886e-03, -1.34901714e-03, -1.56405778e-03,\n",
       "        1.69434212e-03,  1.78372290e-03, -6.96248026e-04,  6.98282733e-04,\n",
       "       -1.15914724e-03, -1.75001717e-03, -1.10311457e-03,  1.34974578e-03,\n",
       "        1.28355168e-03,  1.88761472e-03,  1.41105696e-03,  1.35099026e-03,\n",
       "        2.60033121e-04, -1.96086080e-03,  9.17552446e-04, -1.07644555e-04,\n",
       "        1.26641896e-03,  3.56694713e-04, -6.25959889e-04,  1.55199436e-03,\n",
       "        3.10933101e-04,  1.10416413e-05, -9.22590727e-04, -1.69070484e-03,\n",
       "       -1.55336666e-03,  1.73410180e-03, -1.78499217e-03,  1.80694298e-03,\n",
       "       -1.85620354e-03, -5.53512582e-05, -3.81409656e-04, -1.78622908e-03,\n",
       "        1.72601175e-03,  1.35556271e-03,  6.03887544e-04,  9.66690539e-04,\n",
       "        2.24380492e-05,  1.88493589e-03,  1.40425726e-03, -1.97074562e-03,\n",
       "       -8.86644353e-04, -2.58022308e-04,  6.09544280e-04, -8.64790461e-04,\n",
       "        2.89833057e-04, -1.56918005e-03,  5.55614475e-04,  9.40538419e-04,\n",
       "        9.87462467e-04, -6.35140401e-04, -1.68540806e-03, -1.84412382e-03,\n",
       "       -1.44579884e-04, -1.46549323e-03, -1.36299280e-03,  1.22400094e-03,\n",
       "        1.43446063e-03,  4.23483842e-04, -1.57988025e-03, -1.13979774e-03,\n",
       "        1.61036872e-03,  7.84168718e-04, -1.04809424e-03, -1.47838111e-03,\n",
       "        1.54310706e-04,  6.92750909e-04,  4.15838731e-04,  6.20160601e-04,\n",
       "       -1.12410018e-03, -1.97789725e-03, -1.40416762e-03,  4.60615156e-05,\n",
       "        9.23735613e-04,  9.05261491e-04,  3.75962263e-04,  1.03413488e-03,\n",
       "       -2.10723883e-05,  8.22833041e-04, -1.82464835e-03,  1.54018216e-03,\n",
       "        1.22949458e-03,  1.02483132e-03,  1.44133379e-03,  1.68795919e-03,\n",
       "        1.47738931e-04, -3.40772152e-04,  1.03725433e-04, -1.86335610e-03,\n",
       "        1.68124295e-03, -1.27598667e-03,  1.68556836e-03, -8.48871248e-04,\n",
       "        1.29368302e-04, -1.83283375e-03, -1.91171363e-03, -1.56736234e-03,\n",
       "       -1.54621119e-03,  7.51161569e-05, -1.44529250e-03, -9.90042696e-04,\n",
       "       -1.05434132e-03, -8.57859617e-04,  1.40246202e-03,  9.65878018e-04,\n",
       "        1.73655420e-03,  1.41871837e-03, -1.13888120e-03,  1.44815922e-03,\n",
       "       -1.85898063e-03, -5.17513778e-04, -1.55143358e-03,  8.38520064e-04,\n",
       "        3.60045902e-04,  1.40921830e-03,  5.88939642e-04, -1.39617012e-03,\n",
       "        1.54253526e-03, -1.19778537e-03,  1.79954153e-03,  5.91840770e-04,\n",
       "       -8.03058618e-04, -9.37798992e-04, -8.83344677e-04, -1.22929143e-03,\n",
       "        1.87574816e-03, -5.29919169e-04,  1.55448774e-03, -1.93606713e-03,\n",
       "        4.21758188e-04, -2.46723182e-04,  1.50884583e-03, -1.81092019e-03,\n",
       "        1.48751261e-03, -1.02115911e-03, -1.20275503e-03, -1.12983130e-03,\n",
       "       -6.75834191e-04, -6.82219514e-04, -6.39132981e-04, -1.49844028e-03,\n",
       "        1.41755110e-04, -1.15214345e-04, -3.36800091e-04,  7.51426211e-04,\n",
       "       -1.52403780e-03, -6.44284708e-04,  1.03106827e-03,  1.70877262e-03,\n",
       "       -1.96198793e-03,  1.43906742e-03,  1.06189726e-03, -7.75939436e-04,\n",
       "        1.71523145e-03, -1.84439844e-03,  1.44973607e-03,  1.07276672e-03,\n",
       "        2.58718967e-04, -1.03995088e-03, -8.35730578e-04, -6.71356218e-04,\n",
       "        3.21657193e-04,  3.17340862e-04,  1.47764874e-03,  1.99551857e-03,\n",
       "        1.77346752e-03, -8.01290036e-04,  1.92907813e-03, -1.25908380e-04,\n",
       "        9.73086338e-04,  5.09803300e-04, -1.25962251e-04,  7.33489520e-04,\n",
       "       -1.06388284e-03, -1.15133566e-03, -1.52092881e-03,  3.81286634e-04,\n",
       "        1.30517385e-03,  1.76425456e-04,  2.51389516e-04,  6.34319324e-04,\n",
       "        1.62693311e-03, -1.54001231e-03,  4.52150358e-04, -1.49482198e-03,\n",
       "        7.41962460e-04,  1.90210959e-03,  1.50405173e-03,  1.28520583e-03,\n",
       "        1.60295481e-03,  1.31022884e-03,  1.37133501e-03,  1.73641730e-03,\n",
       "       -9.89608234e-04,  1.84259086e-03,  1.01184030e-03, -4.26050188e-04,\n",
       "        1.69748976e-03,  1.01626827e-03,  1.92979095e-03,  5.66480157e-04,\n",
       "        1.97350746e-03,  2.39400862e-04,  1.82583660e-03,  7.17393414e-04,\n",
       "        1.31296110e-03, -7.22266210e-04,  1.35858159e-03,  1.44871476e-03,\n",
       "       -4.26692481e-04, -3.71911039e-04,  7.22349156e-04, -1.40728569e-03,\n",
       "        1.94710970e-03, -1.95607659e-03, -1.29989814e-03,  5.56756975e-04,\n",
       "        1.28639746e-03, -1.07347348e-03,  5.50498487e-04,  1.82426209e-03,\n",
       "       -1.36308430e-03, -1.21998263e-03, -9.97928670e-04, -7.35282432e-04,\n",
       "        3.69943155e-04,  1.93652627e-03,  1.28755521e-03,  7.94181833e-05,\n",
       "        4.94153472e-04,  1.68809795e-03,  1.82579563e-03,  1.12575060e-03,\n",
       "        1.18925236e-03, -1.52413745e-03, -7.65534409e-04, -1.13606639e-03,\n",
       "        1.23635482e-03, -4.51290136e-04, -1.75588706e-03,  1.52382464e-03,\n",
       "        1.67993642e-03, -6.64047257e-04,  1.82333181e-03, -1.47672181e-04,\n",
       "       -7.25304126e-04, -7.69381513e-05,  3.88851149e-05, -7.00979261e-04,\n",
       "        5.62648289e-04,  1.14594074e-03,  1.37380173e-03, -1.78069354e-03,\n",
       "       -4.38545714e-04, -1.09635969e-03,  1.50421995e-03,  1.30034063e-03,\n",
       "       -8.72144708e-04,  4.65366349e-04, -1.19073247e-03,  4.72989086e-05,\n",
       "        1.89235166e-03, -5.21968352e-04, -1.03754376e-03, -1.47944211e-03,\n",
       "       -5.82388428e-04, -1.72863001e-04,  7.05572136e-04,  1.94837758e-03,\n",
       "       -6.77854987e-04,  3.80353449e-04,  1.93620159e-03,  3.06317321e-04,\n",
       "        1.97298999e-04,  1.96047407e-03,  1.85909180e-03,  1.54161314e-03,\n",
       "       -1.23410556e-03,  1.99679704e-03,  1.16979738e-03,  1.81453326e-03,\n",
       "       -3.99039738e-04,  6.69987174e-04,  1.36671111e-03, -7.78751390e-04,\n",
       "        1.32856984e-03,  5.12572296e-04,  1.86274573e-03, -6.07161026e-04,\n",
       "       -6.21873827e-04,  1.24307780e-03, -1.81564898e-03, -1.45079847e-03,\n",
       "       -1.30000548e-03, -1.49815081e-04, -4.72604268e-04,  1.36310386e-03,\n",
       "        1.84731814e-03, -1.81951997e-04,  2.82564637e-04,  4.04071325e-04,\n",
       "       -4.03959741e-04, -1.60686823e-03,  1.48820970e-03, -8.59580527e-04,\n",
       "        9.15303710e-04,  1.81794073e-03,  6.08644506e-04,  6.27758040e-04,\n",
       "        8.12365557e-04, -5.40243636e-04,  7.64953613e-04,  6.75244301e-05,\n",
       "        1.12534233e-03,  1.09947391e-03,  3.65823740e-04,  1.14988140e-03,\n",
       "       -1.79361587e-03,  1.31187157e-03,  1.84519810e-03, -8.41429690e-04,\n",
       "        3.21509840e-04, -1.04677631e-03,  2.11643695e-04,  5.54033730e-04,\n",
       "        1.63214735e-03,  1.08802320e-04,  5.11411694e-04,  2.59546767e-04,\n",
       "        1.68050430e-03, -1.14154047e-03, -1.25236611e-03, -7.25503895e-04,\n",
       "       -4.60110197e-04,  1.00821257e-03, -1.62407162e-03, -5.66707109e-04,\n",
       "       -1.63948536e-03,  1.02994207e-03, -5.13612758e-04, -1.81342172e-03,\n",
       "        8.14345840e-04,  1.80346437e-03, -6.07532042e-04, -1.16770796e-03,\n",
       "        6.03977707e-04, -8.71696466e-05, -1.99588737e-03,  1.68354088e-03,\n",
       "       -1.46777777e-03, -9.86081548e-04, -5.31416445e-04, -1.09046313e-03,\n",
       "        3.43301770e-04,  1.94256264e-03,  9.14454460e-04,  1.61772058e-03,\n",
       "       -9.40918908e-05,  1.28984451e-04, -5.33670420e-04, -1.75591232e-03,\n",
       "        6.86260697e-04,  4.18674463e-04, -1.88437081e-03, -9.93687660e-04,\n",
       "       -1.94681983e-03, -1.14395854e-03,  8.12908169e-04,  1.72857183e-03,\n",
       "        8.22330010e-04,  4.77692607e-04,  1.62895536e-03, -2.23842144e-04,\n",
       "       -2.79542932e-04, -1.74936489e-03, -2.51584061e-05, -5.13514504e-04,\n",
       "        7.72151980e-05,  1.45593216e-03, -1.40829233e-03, -7.89295183e-04,\n",
       "       -1.33292098e-03, -7.08823209e-04, -6.63166516e-04,  4.27423947e-04,\n",
       "        6.65633706e-04, -9.91437468e-04, -9.09258379e-04,  2.27738856e-04,\n",
       "        1.09069631e-03,  1.07472995e-03, -5.93707548e-04, -8.53305333e-04,\n",
       "       -1.12332962e-03, -1.08996865e-04,  3.89274588e-04,  3.05068970e-04,\n",
       "        1.47050573e-03, -5.46674710e-04, -1.31850238e-05, -1.10552693e-03,\n",
       "       -2.34013074e-04, -1.54239277e-03, -1.91865925e-04,  2.61934765e-04,\n",
       "       -1.71894883e-03,  1.74971682e-03, -1.84157328e-03, -1.92493538e-03,\n",
       "       -1.70232484e-03,  1.46265363e-03,  1.09311345e-03,  1.84989208e-03],\n",
       "      dtype=float32)"
      ]
     },
     "execution_count": 45,
     "metadata": {},
     "output_type": "execute_result"
    }
   ],
   "source": [
    "model.wv['ML']"
   ]
  },
  {
   "cell_type": "code",
   "execution_count": 46,
   "metadata": {},
   "outputs": [
    {
     "data": {
      "text/plain": [
       "500"
      ]
     },
     "execution_count": 46,
     "metadata": {},
     "output_type": "execute_result"
    }
   ],
   "source": [
    "len(model.wv['ML'])"
   ]
  },
  {
   "cell_type": "markdown",
   "metadata": {},
   "source": [
    "Similarity between word vectors is measures using Cosine similarity"
   ]
  },
  {
   "cell_type": "code",
   "execution_count": 47,
   "metadata": {},
   "outputs": [
    {
     "data": {
      "text/plain": [
       "[('that', 0.09486326575279236),\n",
       " ('has', 0.053428325802087784),\n",
       " ('I', 0.04882069304585457),\n",
       " ('program', 0.041009653359651566),\n",
       " ('a', 0.04042503237724304)]"
      ]
     },
     "execution_count": 47,
     "metadata": {},
     "output_type": "execute_result"
    }
   ],
   "source": [
    "model.wv.most_similar(\"faculty\",topn=5)"
   ]
  },
  {
   "cell_type": "markdown",
   "metadata": {},
   "source": [
    "### Training our word vectors on the text8 corpus\n",
    "Cleaned Wikipedia text, compressed to 100MB"
   ]
  },
  {
   "cell_type": "markdown",
   "metadata": {},
   "source": [
    "#### Importing the raw text file"
   ]
  },
  {
   "cell_type": "code",
   "execution_count": 62,
   "metadata": {},
   "outputs": [],
   "source": [
    "import gensim.downloader as api\n",
    "sentences = api.load(\"text8\")\n",
    "# sentences = word2vec.Text8Corpus('text8')"
   ]
  },
  {
   "cell_type": "code",
   "execution_count": 63,
   "metadata": {},
   "outputs": [
    {
     "data": {
      "text/plain": [
       "text8.Dataset"
      ]
     },
     "execution_count": 63,
     "metadata": {},
     "output_type": "execute_result"
    }
   ],
   "source": [
    "type(sentences)"
   ]
  },
  {
   "cell_type": "markdown",
   "metadata": {},
   "source": [
    "#### Using all default parameters"
   ]
  },
  {
   "cell_type": "code",
   "execution_count": 64,
   "metadata": {
    "scrolled": true
   },
   "outputs": [],
   "source": [
    "model = Word2Vec(sentences)"
   ]
  },
  {
   "cell_type": "code",
   "execution_count": 65,
   "metadata": {},
   "outputs": [
    {
     "data": {
      "text/plain": [
       "[('humanity', 0.8067891001701355),\n",
       " ('pleasure', 0.7516857981681824),\n",
       " ('goodness', 0.7287207245826721),\n",
       " ('compassion', 0.7277345657348633),\n",
       " ('mankind', 0.7203552722930908),\n",
       " ('salvation', 0.7122572660446167),\n",
       " ('perfection', 0.7098093628883362),\n",
       " ('immortality', 0.7049102783203125),\n",
       " ('desires', 0.7045036554336548),\n",
       " ('righteousness', 0.7023518681526184)]"
      ]
     },
     "execution_count": 65,
     "metadata": {},
     "output_type": "execute_result"
    }
   ],
   "source": [
    "model.wv.most_similar(\"happiness\")"
   ]
  },
  {
   "cell_type": "code",
   "execution_count": 66,
   "metadata": {
    "scrolled": true
   },
   "outputs": [
    {
     "data": {
      "text/plain": [
       "[('elizabeth', 0.7695142030715942),\n",
       " ('king', 0.7408649921417236),\n",
       " ('princess', 0.734719455242157),\n",
       " ('prince', 0.725403368473053),\n",
       " ('consort', 0.6656463742256165),\n",
       " ('mary', 0.6583806872367859),\n",
       " ('crown', 0.6521580219268799),\n",
       " ('victoria', 0.6413946151733398),\n",
       " ('regent', 0.6188748478889465),\n",
       " ('coronation', 0.6182336211204529)]"
      ]
     },
     "execution_count": 66,
     "metadata": {},
     "output_type": "execute_result"
    }
   ],
   "source": [
    "model.wv.most_similar(\"queen\")"
   ]
  },
  {
   "cell_type": "markdown",
   "metadata": {},
   "source": [
    "#### Semantic regularities captured in word embeddings"
   ]
  },
  {
   "cell_type": "code",
   "execution_count": 67,
   "metadata": {},
   "outputs": [
    {
     "data": {
      "text/plain": [
       "[('queen', 0.678282618522644),\n",
       " ('throne', 0.6234251260757446),\n",
       " ('empress', 0.6224783062934875),\n",
       " ('prince', 0.6103527545928955),\n",
       " ('princess', 0.5977458953857422)]"
      ]
     },
     "execution_count": 67,
     "metadata": {},
     "output_type": "execute_result"
    }
   ],
   "source": [
    "model.wv.most_similar(positive=['woman', 'king'], negative=['man'], topn=5)"
   ]
  },
  {
   "cell_type": "code",
   "execution_count": 68,
   "metadata": {},
   "outputs": [
    {
     "data": {
      "text/plain": [
       "[('heroine', 0.6348657011985779),\n",
       " ('villain', 0.5973638296127319),\n",
       " ('warrior', 0.5867963433265686),\n",
       " ('protagonist', 0.5818166136741638),\n",
       " ('lover', 0.5794125199317932)]"
      ]
     },
     "execution_count": 68,
     "metadata": {},
     "output_type": "execute_result"
    }
   ],
   "source": [
    "model.wv.most_similar(positive=['woman', 'hero'], negative=['man'], topn=5)"
   ]
  },
  {
   "cell_type": "markdown",
   "metadata": {},
   "source": [
    "### Visualizing these word vectors"
   ]
  },
  {
   "cell_type": "code",
   "execution_count": 70,
   "metadata": {},
   "outputs": [],
   "source": [
    "X = model.wv[model.wv.index_to_key]"
   ]
  },
  {
   "cell_type": "markdown",
   "metadata": {},
   "source": [
    "##### We'll use PCA to reduce and visualize in 2 dimensions"
   ]
  },
  {
   "cell_type": "code",
   "execution_count": 71,
   "metadata": {},
   "outputs": [],
   "source": [
    "from sklearn.decomposition import PCA"
   ]
  },
  {
   "cell_type": "code",
   "execution_count": 72,
   "metadata": {},
   "outputs": [],
   "source": [
    "pca = PCA(n_components=2)\n",
    "result = pca.fit_transform(X)"
   ]
  },
  {
   "cell_type": "markdown",
   "metadata": {},
   "source": [
    "Randomly select 100 words"
   ]
  },
  {
   "cell_type": "code",
   "execution_count": 73,
   "metadata": {},
   "outputs": [],
   "source": [
    "import random\n",
    "random.seed(2)"
   ]
  },
  {
   "cell_type": "code",
   "execution_count": 75,
   "metadata": {
    "scrolled": true
   },
   "outputs": [],
   "source": [
    "ind = random.sample(range(0,len(X)),100)\n",
    "result_random = result[ind]\n",
    "all_words = list(model.wv.index_to_key)\n",
    "words = [all_words[i] for i in ind]"
   ]
  },
  {
   "cell_type": "code",
   "execution_count": 76,
   "metadata": {},
   "outputs": [
    {
     "data": {
      "image/png": "[encoded data removed]",
      "text/plain": [
       "<Figure size 864x864 with 1 Axes>"
      ]
     },
     "metadata": {
      "needs_background": "light"
     },
     "output_type": "display_data"
    }
   ],
   "source": [
    "plt.figure(figsize=(12,12))\n",
    "plt.scatter(result_random[:,0], result_random[:,1])\n",
    "for i, word in enumerate(words):\n",
    "    plt.annotate(word, xy=(result_random[i, 0], result_random[i, 1]))\n",
    "plt.show()"
   ]
  },
  {
   "cell_type": "markdown",
   "metadata": {},
   "source": [
    "## Effect of vector dimension"
   ]
  },
  {
   "cell_type": "markdown",
   "metadata": {},
   "source": [
    "#### Reducing the length to 50"
   ]
  },
  {
   "cell_type": "code",
   "execution_count": 79,
   "metadata": {},
   "outputs": [],
   "source": [
    "model = Word2Vec(sentences, vector_size=50)"
   ]
  },
  {
   "cell_type": "code",
   "execution_count": 84,
   "metadata": {},
   "outputs": [
    {
     "data": {
      "text/plain": [
       "[('rational', 0.6383090019226074),\n",
       " ('good', 0.6374709010124207),\n",
       " ('unique', 0.5812917351722717),\n",
       " ('practical', 0.5809543132781982),\n",
       " ('complete', 0.5779423117637634),\n",
       " ('true', 0.5658242106437683),\n",
       " ('continuous', 0.5643296241760254),\n",
       " ('trivial', 0.5614705085754395),\n",
       " ('big', 0.557244598865509),\n",
       " ('finite', 0.5510420799255371)]"
      ]
     },
     "execution_count": 84,
     "metadata": {},
     "output_type": "execute_result"
    }
   ],
   "source": [
    "model.wv.most_similar('real')"
   ]
  },
  {
   "cell_type": "code",
   "execution_count": 80,
   "metadata": {},
   "outputs": [
    {
     "data": {
      "text/plain": [
       "[('profits', 0.7969303131103516),\n",
       " ('buying', 0.7818097472190857),\n",
       " ('payment', 0.7458028197288513),\n",
       " ('credit', 0.7394216060638428),\n",
       " ('funds', 0.7372772097587585),\n",
       " ('pay', 0.7368994355201721),\n",
       " ('payments', 0.7332472801208496),\n",
       " ('savings', 0.7301013469696045),\n",
       " ('compensation', 0.7189890742301941),\n",
       " ('tax', 0.7094913721084595)]"
      ]
     },
     "execution_count": 80,
     "metadata": {},
     "output_type": "execute_result"
    }
   ],
   "source": [
    "model.wv.most_similar(\"money\")"
   ]
  },
  {
   "cell_type": "code",
   "execution_count": 85,
   "metadata": {},
   "outputs": [
    {
     "data": {
      "text/plain": [
       "[('princess', 0.8325670957565308),\n",
       " ('prince', 0.810210645198822),\n",
       " ('elizabeth', 0.8021301031112671),\n",
       " ('lord', 0.761256217956543),\n",
       " ('king', 0.7585394382476807)]"
      ]
     },
     "execution_count": 85,
     "metadata": {},
     "output_type": "execute_result"
    }
   ],
   "source": [
    "model.wv.most_similar(\"queen\", topn=5)"
   ]
  },
  {
   "cell_type": "code",
   "execution_count": 88,
   "metadata": {},
   "outputs": [
    {
     "data": {
      "text/plain": [
       "[('woman', 0.8252072930335999),\n",
       " ('girl', 0.7556741237640381),\n",
       " ('creature', 0.7137244343757629),\n",
       " ('soul', 0.6676172018051147),\n",
       " ('love', 0.6499481797218323)]"
      ]
     },
     "execution_count": 88,
     "metadata": {},
     "output_type": "execute_result"
    }
   ],
   "source": [
    "model.wv.most_similar(\"man\", topn=5)"
   ]
  },
  {
   "cell_type": "code",
   "execution_count": 90,
   "metadata": {
    "scrolled": true
   },
   "outputs": [
    {
     "data": {
      "text/plain": [
       "[('emperor', 0.7376289367675781),\n",
       " ('son', 0.7233932614326477),\n",
       " ('queen', 0.7228161692619324),\n",
       " ('empress', 0.7195265293121338),\n",
       " ('prince', 0.7163293957710266)]"
      ]
     },
     "execution_count": 90,
     "metadata": {},
     "output_type": "execute_result"
    }
   ],
   "source": [
    "model.wv.most_similar(positive=['woman', 'king'], negative=['man'], topn=5)"
   ]
  },
  {
   "cell_type": "code",
   "execution_count": 91,
   "metadata": {},
   "outputs": [
    {
     "data": {
      "text/plain": [
       "[('heroine', 0.7936667203903198),\n",
       " ('protagonist', 0.6969437599182129),\n",
       " ('hamlet', 0.6926130056381226),\n",
       " ('villain', 0.6836875677108765),\n",
       " ('idol', 0.6778546571731567)]"
      ]
     },
     "execution_count": 91,
     "metadata": {},
     "output_type": "execute_result"
    }
   ],
   "source": [
    "model.wv.most_similar(positive=['woman', 'hero'], negative=['man'], topn=5)"
   ]
  },
  {
   "cell_type": "markdown",
   "metadata": {},
   "source": [
    " "
   ]
  },
  {
   "cell_type": "markdown",
   "metadata": {},
   "source": [
    " "
   ]
  },
  {
   "cell_type": "markdown",
   "metadata": {},
   "source": [
    " "
   ]
  },
  {
   "cell_type": "markdown",
   "metadata": {},
   "source": [
    " "
   ]
  },
  {
   "cell_type": "markdown",
   "metadata": {},
   "source": [
    " "
   ]
  },
  {
   "cell_type": "markdown",
   "metadata": {},
   "source": [
    " "
   ]
  },
  {
   "cell_type": "markdown",
   "metadata": {},
   "source": [
    " "
   ]
  },
  {
   "cell_type": "markdown",
   "metadata": {},
   "source": [
    "#### Inreasing vector length to 300"
   ]
  },
  {
   "cell_type": "code",
   "execution_count": 93,
   "metadata": {},
   "outputs": [],
   "source": [
    "model = word2vec.Word2Vec(sentences, vector_size = 300)"
   ]
  },
  {
   "cell_type": "code",
   "execution_count": 94,
   "metadata": {},
   "outputs": [
    {
     "data": {
      "text/plain": [
       "[('profits', 0.7158425450325012),\n",
       " ('payment', 0.6760503649711609),\n",
       " ('payments', 0.6635461449623108),\n",
       " ('funds', 0.6608087420463562),\n",
       " ('buying', 0.6583698987960815),\n",
       " ('cash', 0.6489132046699524),\n",
       " ('credit', 0.6332387924194336),\n",
       " ('pay', 0.6143426895141602),\n",
       " ('taxes', 0.612217903137207),\n",
       " ('demand', 0.6105327606201172)]"
      ]
     },
     "execution_count": 94,
     "metadata": {},
     "output_type": "execute_result"
    }
   ],
   "source": [
    "model.wv.most_similar(\"money\")"
   ]
  },
  {
   "cell_type": "code",
   "execution_count": 95,
   "metadata": {
    "scrolled": true
   },
   "outputs": [
    {
     "data": {
      "text/plain": [
       "[('elizabeth', 0.7388046979904175),\n",
       " ('princess', 0.73111891746521),\n",
       " ('prince', 0.6662729382514954),\n",
       " ('consort', 0.6571884155273438),\n",
       " ('mary', 0.6301174759864807),\n",
       " ('duchess', 0.6265137195587158),\n",
       " ('king', 0.6234090328216553),\n",
       " ('victoria', 0.6219132542610168),\n",
       " ('isabella', 0.6157611012458801),\n",
       " ('regent', 0.6049121022224426)]"
      ]
     },
     "execution_count": 95,
     "metadata": {},
     "output_type": "execute_result"
    }
   ],
   "source": [
    "model.wv.most_similar(\"queen\")"
   ]
  },
  {
   "cell_type": "code",
   "execution_count": 96,
   "metadata": {
    "scrolled": true
   },
   "outputs": [
    {
     "data": {
      "text/plain": [
       "[('queen', 0.6217477321624756),\n",
       " ('empress', 0.5443090796470642),\n",
       " ('daughter', 0.5441340208053589),\n",
       " ('throne', 0.5292152762413025),\n",
       " ('princess', 0.5287482738494873)]"
      ]
     },
     "execution_count": 96,
     "metadata": {},
     "output_type": "execute_result"
    }
   ],
   "source": [
    "model.wv.most_similar(positive=['woman', 'king'], negative=['man'], topn=5)"
   ]
  },
  {
   "cell_type": "markdown",
   "metadata": {},
   "source": [
    "## Skip gram vs CBOW"
   ]
  },
  {
   "cell_type": "markdown",
   "metadata": {},
   "source": [
    "Simply put, the CBOW model learns the embedding by predicting the current word based on its context. The skip-gram model learns by predicting the surrounding words given a current word."
   ]
  },
  {
   "cell_type": "markdown",
   "metadata": {},
   "source": [
    "![](https://3qeqpr26caki16dnhd19sv6by6v-wpengine.netdna-ssl.com/wp-content/uploads/2017/08/Word2Vec-Training-Models.png)"
   ]
  },
  {
   "cell_type": "markdown",
   "metadata": {},
   "source": [
    "#### Using Skipgram method"
   ]
  },
  {
   "cell_type": "code",
   "execution_count": 98,
   "metadata": {},
   "outputs": [],
   "source": [
    "model_sg = word2vec.Word2Vec(sentences, vector_size=100,sg=1)"
   ]
  },
  {
   "cell_type": "code",
   "execution_count": 99,
   "metadata": {},
   "outputs": [
    {
     "data": {
      "text/plain": [
       "[('dividends', 0.7968183755874634),\n",
       " ('credit', 0.7731826901435852),\n",
       " ('dues', 0.7609558701515198),\n",
       " ('repay', 0.7564935088157654),\n",
       " ('profits', 0.749178946018219),\n",
       " ('bullion', 0.7408064007759094),\n",
       " ('payments', 0.7378740906715393),\n",
       " ('purchases', 0.7356736660003662),\n",
       " ('repayment', 0.7310128808021545),\n",
       " ('lending', 0.7284570932388306)]"
      ]
     },
     "execution_count": 99,
     "metadata": {},
     "output_type": "execute_result"
    }
   ],
   "source": [
    "model_sg.wv.most_similar(\"money\")"
   ]
  },
  {
   "cell_type": "code",
   "execution_count": 100,
   "metadata": {},
   "outputs": [
    {
     "data": {
      "text/plain": [
       "[('elizabeth', 0.8079233169555664),\n",
       " ('highness', 0.7684836387634277),\n",
       " ('consort', 0.7626750469207764),\n",
       " ('prince', 0.7447680830955505),\n",
       " ('princess', 0.7351597547531128),\n",
       " ('hrh', 0.7311843633651733),\n",
       " ('regnant', 0.7224394679069519),\n",
       " ('victoria', 0.7192113399505615),\n",
       " ('margrethe', 0.7176297903060913),\n",
       " ('king', 0.7087721228599548)]"
      ]
     },
     "execution_count": 100,
     "metadata": {},
     "output_type": "execute_result"
    }
   ],
   "source": [
    "model_sg.wv.most_similar(\"queen\")"
   ]
  },
  {
   "cell_type": "code",
   "execution_count": 101,
   "metadata": {},
   "outputs": [
    {
     "data": {
      "text/plain": [
       "[('consort', 0.6813698410987854),\n",
       " ('queen', 0.6737911105155945),\n",
       " ('sigismund', 0.6660217642784119),\n",
       " ('throne', 0.6603633165359497),\n",
       " ('daughter', 0.6389158368110657)]"
      ]
     },
     "execution_count": 101,
     "metadata": {},
     "output_type": "execute_result"
    }
   ],
   "source": [
    "model_sg.wv.most_similar(positive=['woman', 'king'], negative=['man'], topn=5)"
   ]
  },
  {
   "cell_type": "code",
   "execution_count": 102,
   "metadata": {},
   "outputs": [
    {
     "data": {
      "text/plain": [
       "[('undulating', 0.8984655737876892),\n",
       " ('sinuous', 0.8866917490959167),\n",
       " ('steeper', 0.8856062293052673),\n",
       " ('troughs', 0.8840082287788391),\n",
       " ('fringing', 0.8835028409957886),\n",
       " ('outwash', 0.8800403475761414),\n",
       " ('wadis', 0.8753070831298828),\n",
       " ('watercourses', 0.8708934187889099),\n",
       " ('indentations', 0.8704518675804138),\n",
       " ('tableland', 0.8694149851799011)]"
      ]
     },
     "execution_count": 102,
     "metadata": {},
     "output_type": "execute_result"
    }
   ],
   "source": [
    "model_sg.wv.most_similar(\"meandering\")"
   ]
  },
  {
   "cell_type": "markdown",
   "metadata": {},
   "source": [
    "#### Learning:\n",
    "In CBOW the vectors from the context words are averaged before predicting the center word. In skip-gram there is no averaging of embedding vectors. It seems like the model can learn better representations for the rare words when their vectors are not averaged with the other context words in the process of making the predictions. "
   ]
  },
  {
   "cell_type": "markdown",
   "metadata": {},
   "source": [
    "## Word vectors trained on different contexts\n",
    " - We'll load different corpora, from different contexts and see how the embeddings vary\n",
    " - The text8 corpus is wikipedia pages, while Brown corpus is from 15 different topics, and movie reviews are from IMDB"
   ]
  },
  {
   "cell_type": "code",
   "execution_count": 105,
   "metadata": {},
   "outputs": [
    {
     "name": "stderr",
     "output_type": "stream",
     "text": [
      "[nltk_data] Downloading package movie_reviews to\n",
      "[nltk_data]     /Users/alethea/nltk_data...\n",
      "[nltk_data]   Unzipping corpora/movie_reviews.zip.\n"
     ]
    },
    {
     "data": {
      "text/plain": [
       "True"
      ]
     },
     "execution_count": 105,
     "metadata": {},
     "output_type": "execute_result"
    }
   ],
   "source": [
    "from nltk.corpus import brown, movie_reviews\n",
    "nltk.download('movie_reviews')"
   ]
  },
  {
   "cell_type": "code",
   "execution_count": 106,
   "metadata": {},
   "outputs": [],
   "source": [
    "model_brown = Word2Vec(brown.sents(), sg=1)\n",
    "model_movie = Word2Vec(movie_reviews.sents(), sg=1, window=5)"
   ]
  },
  {
   "cell_type": "code",
   "execution_count": 107,
   "metadata": {},
   "outputs": [
    {
     "data": {
      "text/plain": [
       "[('dividends', 0.7968183755874634),\n",
       " ('credit', 0.7731826901435852),\n",
       " ('dues', 0.7609558701515198),\n",
       " ('repay', 0.7564935088157654),\n",
       " ('profits', 0.749178946018219)]"
      ]
     },
     "execution_count": 107,
     "metadata": {},
     "output_type": "execute_result"
    }
   ],
   "source": [
    "model_sg.wv.most_similar('money', topn=5)"
   ]
  },
  {
   "cell_type": "code",
   "execution_count": 108,
   "metadata": {},
   "outputs": [
    {
     "data": {
      "text/plain": [
       "[('care', 0.8327547311782837),\n",
       " ('job', 0.831329882144928),\n",
       " ('friendship', 0.8151494860649109),\n",
       " ('risk', 0.8061830997467041),\n",
       " ('joy', 0.8056735396385193)]"
      ]
     },
     "execution_count": 108,
     "metadata": {},
     "output_type": "execute_result"
    }
   ],
   "source": [
    "model_brown.wv.most_similar('money', topn=5)"
   ]
  },
  {
   "cell_type": "code",
   "execution_count": 109,
   "metadata": {},
   "outputs": [
    {
     "data": {
      "text/plain": [
       "[('cash', 0.7452887296676636),\n",
       " ('ransom', 0.6993105411529541),\n",
       " ('pact', 0.6856719851493835),\n",
       " ('pay', 0.682793378829956),\n",
       " ('bucks', 0.6785231232643127)]"
      ]
     },
     "execution_count": 109,
     "metadata": {},
     "output_type": "execute_result"
    }
   ],
   "source": [
    "model_movie.wv.most_similar('money', topn=5)"
   ]
  },
  {
   "cell_type": "markdown",
   "metadata": {},
   "source": [
    " \n",
    "I hope it’s pretty clear from the above examples that the semantic similarity of words can vary greatly depending on the textual context. "
   ]
  },
  {
   "cell_type": "markdown",
   "metadata": {},
   "source": [
    "## Using pre-trained word vectors"
   ]
  },
  {
   "cell_type": "markdown",
   "metadata": {},
   "source": [
    "### A quick note on Glove:\n",
    "   - Developed by Stanford by training on 6 Billion tokens\n",
    "   - Objective is slightly different\n",
    "   - End result very similar to Google's word2vec"
   ]
  },
  {
   "cell_type": "markdown",
   "metadata": {},
   "source": [
    "https://nlp.stanford.edu/projects/glove/"
   ]
  },
  {
   "cell_type": "markdown",
   "metadata": {},
   "source": [
    "- We'll use the 100D vectors for this example.\n",
    "- The trained vectors are available in a text file\n",
    "- The format is slightly different from that of word2vec, necessitating the use of a utility to format accordingly"
   ]
  },
  {
   "cell_type": "code",
   "execution_count": 113,
   "metadata": {},
   "outputs": [
    {
     "name": "stderr",
     "output_type": "stream",
     "text": [
      "<ipython-input-113-552ec37b82eb>:4: DeprecationWarning: Call to deprecated `glove2word2vec` (KeyedVectors.load_word2vec_format(.., binary=False, no_header=True) loads GLoVE text vectors.).\n",
      "  glove2word2vec(glove_input_file, word2vec_output_file)\n"
     ]
    },
    {
     "data": {
      "text/plain": [
       "(400000, 100)"
      ]
     },
     "execution_count": 113,
     "metadata": {},
     "output_type": "execute_result"
    }
   ],
   "source": [
    "from gensim.scripts.glove2word2vec import glove2word2vec\n",
    "glove_input_file = 'glove.6B.100d.txt'\n",
    "word2vec_output_file = 'glove.6B.100d.w2vformat.txt'\n",
    "glove2word2vec(glove_input_file, word2vec_output_file)"
   ]
  },
  {
   "cell_type": "code",
   "execution_count": 114,
   "metadata": {},
   "outputs": [],
   "source": [
    "from gensim.models.keyedvectors import KeyedVectors\n",
    "glove_model = KeyedVectors.load_word2vec_format(\"glove.6B.100d.w2vformat.txt\", binary=False)"
   ]
  },
  {
   "cell_type": "markdown",
   "metadata": {},
   "source": [
    "#### Now you can use all the methods you used with word2vec models"
   ]
  },
  {
   "cell_type": "code",
   "execution_count": 115,
   "metadata": {},
   "outputs": [
    {
     "data": {
      "text/plain": [
       "[('prince', 0.7682329416275024),\n",
       " ('queen', 0.7507690787315369),\n",
       " ('son', 0.7020888328552246),\n",
       " ('brother', 0.6985775828361511),\n",
       " ('monarch', 0.6977890729904175),\n",
       " ('throne', 0.691999077796936),\n",
       " ('kingdom', 0.6811409592628479),\n",
       " ('father', 0.6802029013633728),\n",
       " ('emperor', 0.6712858080863953),\n",
       " ('ii', 0.6676074266433716)]"
      ]
     },
     "execution_count": 115,
     "metadata": {},
     "output_type": "execute_result"
    }
   ],
   "source": [
    "glove_model.most_similar(\"king\")"
   ]
  },
  {
   "cell_type": "code",
   "execution_count": 116,
   "metadata": {},
   "outputs": [
    {
     "data": {
      "text/plain": [
       "[('queen', 0.7698541283607483),\n",
       " ('monarch', 0.6843380928039551),\n",
       " ('throne', 0.6755736470222473),\n",
       " ('daughter', 0.6594556570053101),\n",
       " ('princess', 0.6520534157752991)]"
      ]
     },
     "execution_count": 116,
     "metadata": {},
     "output_type": "execute_result"
    }
   ],
   "source": [
    "glove_model.most_similar(positive=['woman', 'king'], negative=['man'], topn=5)"
   ]
  },
  {
   "cell_type": "code",
   "execution_count": 117,
   "metadata": {},
   "outputs": [
    {
     "data": {
      "text/plain": [
       "[('heroine', 0.7324979305267334),\n",
       " ('heroes', 0.6356217861175537),\n",
       " ('icon', 0.6185223460197449),\n",
       " ('beloved', 0.6136684417724609),\n",
       " ('herself', 0.5904076099395752)]"
      ]
     },
     "execution_count": 117,
     "metadata": {},
     "output_type": "execute_result"
    }
   ],
   "source": [
    "glove_model.most_similar(positive=['woman', 'hero'], negative=['man'], topn=5)"
   ]
  },
  {
   "cell_type": "code",
   "execution_count": null,
   "metadata": {},
   "outputs": [],
   "source": []
  }
 ],
 "metadata": {
  "kernelspec": {
   "display_name": "Python 3",
   "language": "python",
   "name": "python3"
  },
  "language_info": {
   "codemirror_mode": {
    "name": "ipython",
    "version": 3
   },
   "file_extension": ".py",
   "mimetype": "text/x-python",
   "name": "python",
   "nbconvert_exporter": "python",
   "pygments_lexer": "ipython3",
   "version": "3.6.3"
  }
 },
 "nbformat": 4,
 "nbformat_minor": 4
}
