{
 "cells": [
  {
   "cell_type": "code",
   "execution_count": 19,
   "metadata": {
    "tags": []
   },
   "outputs": [],
   "source": [
    "import re\n",
    "from collections import Counter"
   ]
  },
  {
   "cell_type": "code",
   "execution_count": 20,
   "metadata": {
    "tags": []
   },
   "outputs": [],
   "source": [
    "# function to tokenise words\n",
    "def words(document):\n",
    "    \"Convert text to lower case and tokenise the document\"\n",
    "    return re.findall(r'\\w+', document.lower())"
   ]
  },
  {
   "cell_type": "code",
   "execution_count": 21,
   "metadata": {
    "tags": []
   },
   "outputs": [
    {
     "data": {
      "text/plain": [
       "1115585"
      ]
     },
     "execution_count": 21,
     "metadata": {},
     "output_type": "execute_result"
    }
   ],
   "source": [
    "# create a frequency table of all the words of the document\n",
    "all_words = Counter(words(open('big.txt').read()))\n",
    "len(words(open('big.txt').read()))"
   ]
  },
  {
   "cell_type": "code",
   "execution_count": 43,
   "metadata": {
    "tags": []
   },
   "outputs": [],
   "source": [
    "# Sorting dictionary on value\n",
    "sorted_counter = sorted(all_words.items(),key=lambda item:item[1],reverse=True)"
   ]
  },
  {
   "cell_type": "code",
   "execution_count": 22,
   "metadata": {
    "tags": []
   },
   "outputs": [
    {
     "data": {
      "text/plain": [
       "FreqDist({'the': 79809, 'of': 40024, 'and': 38312, 'to': 28765, 'in': 22023, 'a': 21124, 'that': 12512, 'he': 12401, 'was': 11410, 'it': 10681, ...})"
      ]
     },
     "execution_count": 22,
     "metadata": {},
     "output_type": "execute_result"
    }
   ],
   "source": [
    "from nltk.probability import FreqDist\n",
    "FreqDist(words(open('big.txt').read()))"
   ]
  },
  {
   "cell_type": "code",
   "execution_count": 4,
   "metadata": {},
   "outputs": [
    {
     "data": {
      "text/plain": [
       "135"
      ]
     },
     "execution_count": 4,
     "metadata": {},
     "output_type": "execute_result"
    }
   ],
   "source": [
    "# check frequency of a random word, say, 'chair'\n",
    "all_words['chair']"
   ]
  },
  {
   "cell_type": "code",
   "execution_count": 6,
   "metadata": {},
   "outputs": [
    {
     "data": {
      "text/plain": [
       "[('the', 79809),\n",
       " ('of', 40024),\n",
       " ('and', 38312),\n",
       " ('to', 28765),\n",
       " ('in', 22023),\n",
       " ('a', 21124),\n",
       " ('that', 12512),\n",
       " ('he', 12401),\n",
       " ('was', 11410),\n",
       " ('it', 10681)]"
      ]
     },
     "execution_count": 6,
     "metadata": {},
     "output_type": "execute_result"
    }
   ],
   "source": [
    "# look at top 10 frequent words\n",
    "all_words.most_common(10)"
   ]
  },
  {
   "cell_type": "code",
   "execution_count": 46,
   "metadata": {
    "tags": []
   },
   "outputs": [],
   "source": [
    "def edits_one(word):\n",
    "    \"Create all edits that are one edit away from `word`.\"\n",
    "    alphabets    = 'abcdefghijklmnopqrstuvwxyz'\n",
    "    splits     = [(word[:i], word[i:])                   for i in range(len(word) + 1)]\n",
    "    deletes    = [left + right[1:]                       for left, right in splits if right]\n",
    "    inserts    = [left + c + right                       for left, right in splits for c in alphabets]\n",
    "    replaces   = [left + c + right[1:]                   for left, right in splits if right for c in alphabets]\n",
    "    transposes = [left + right[1] + right[0] + right[2:] for left, right in splits if len(right)>1]\n",
    "    return set(deletes + inserts + replaces + transposes)"
   ]
  },
  {
   "cell_type": "code",
   "execution_count": 8,
   "metadata": {
    "tags": []
   },
   "outputs": [],
   "source": [
    "def edits_two(word):\n",
    "    \"Create all edits that are two edits away from `word`.\"\n",
    "    return (e2 for e1 in edits_one(word) for e2 in edits_one(e1))"
   ]
  },
  {
   "cell_type": "code",
   "execution_count": 9,
   "metadata": {
    "tags": []
   },
   "outputs": [],
   "source": [
    "def known(words):\n",
    "    \"The subset of `words` that appear in the `all_words`.\"\n",
    "    return set(word for word in words if word in all_words)"
   ]
  },
  {
   "cell_type": "code",
   "execution_count": 51,
   "metadata": {
    "tags": []
   },
   "outputs": [],
   "source": [
    "def possible_corrections(word):\n",
    "    \"Generate possible spelling corrections for word.\"\n",
    "    return (known([word]) or known(edits_one(word)) or known(edits_two(word)) or [word])"
   ]
  },
  {
   "cell_type": "code",
   "execution_count": 52,
   "metadata": {
    "tags": []
   },
   "outputs": [],
   "source": [
    "def prob(word, N=sum(all_words.values())): \n",
    "    \"Probability of `word`: Number of appearances of 'word' / total number of tokens\"\n",
    "    return all_words[word] / N"
   ]
  },
  {
   "cell_type": "code",
   "execution_count": 53,
   "metadata": {},
   "outputs": [
    {
     "name": "stdout",
     "output_type": "stream",
     "text": [
      "336\n",
      "{'monnex', 'mmonney', 'ymonney', 'monneyv', 'moinney', 'monneo', 'monfney', 'monneiy', 'mognney', 'mohnney', 'mwonney', 'monneh', 'vonney', 'donney', 'monneye', 'movney', 'monnqy', 'dmonney', 'maonney', 'monley', 'motnney', 'monnedy', 'monmey', 'moniney', 'mdnney', 'monneyu', 'munney', 'mongney', 'mkonney', 'monnry', 'mofnney', 'monyey', 'monnezy', 'monnoey', 'yonney', 'moknney', 'monneqy', 'mmnney', 'money', 'smonney', 'mtnney', 'monjney', 'monwey', 'monsey', 'hmonney', 'mzonney', 'mionney', 'moenney', 'monnaey', 'monuney', 'monnem', 'monneyw', 'monneyt', 'mobney', 'mnney', 'imonney', 'mynney', 'eonney', 'molney', 'mwnney', 'moqnney', 'monny', 'monneyd', 'mcnney', 'monhey', 'montney', 'monney', 'monvey', 'monneyi', 'ronney', 'monneyh', 'mqonney', 'monnhey', 'momnney', 'mxonney', 'jonney', 'mosnney', 'monnuey', 'monnevy', 'monnely', 'monnexy', 'amonney', 'monnby', 'muonney', 'modnney', 'aonney', 'monncey', 'monneoy', 'mfnney', 'monnepy', 'monneyc', 'mofney', 'monhney', 'mondey', 'monqey', 'mjonney', 'tmonney', 'monnxy', 'monneu', 'mgonney', 'morney', 'mdonney', 'jmonney', 'monnzy', 'monnehy', 'mznney', 'moynney', 'monnye', 'moqney', 'mondney', 'mlnney', 'menney', 'mponney', 'konney', 'monaey', 'monnefy', 'mozney', 'monnvy', 'monnfey', 'qmonney', 'monaney', 'mononey', 'mconney', 'gonney', 'uonney', 'mvnney', 'moxnney', 'mvonney', 'zonney', 'monnoy', 'mlonney', 'monneb', 'monneyx', 'nmonney', 'mongey', 'ponney', 'monnbey', 'myonney', 'manney', 'monneyz', 'mopney', 'ionney', 'monneyy', 'moaney', 'monbey', 'monnay', 'monneq', 'vmonney', 'monneyf', 'honney', 'motney', 'monbney', 'monwney', 'mojnney', 'monner', 'monnewy', 'monnek', 'monnef', 'umonney', 'mhnney', 'monnly', 'emonney', 'monnen', 'monneyo', 'omonney', 'monsney', 'monniey', 'monneay', 'monnwey', 'bonney', 'mnoney', 'monnky', 'mooney', 'monzey', 'monnqey', 'monneyg', 'monpey', 'monnsey', 'monnyey', 'monfey', 'monnmy', 'monnemy', 'modney', 'monnjey', 'monqney', 'monnery', 'moniey', 'monvney', 'monned', 'mpnney', 'monneyr', 'monnzey', 'moznney', 'mjnney', 'monnyy', 'monneuy', 'monnei', 'monnty', 'mownney', 'msnney', 'monnesy', 'kmonney', 'mouney', 'molnney', 'monnjy', 'monneym', 'mrnney', 'monneny', 'monneey', 'mobnney', 'pmonney', 'monuey', 'nonney', 'monnpey', 'monxney', 'cmonney', 'monnmey', 'mfonney', 'monnej', 'omnney', 'gmonney', 'monkney', 'monnpy', 'monngy', 'moneey', 'monnel', 'monnxey', 'monneby', 'monnny', 'monnety', 'mnnney', 'monneyn', 'moneny', 'monnley', 'mopnney', 'monzney', 'monndey', 'mnonney', 'monneky', 'momney', 'conney', 'monnev', 'monnuy', 'monngey', 'monmney', 'monneyp', 'tonney', 'bmonney', 'monkey', 'monneyq', 'onney', 'wmonney', 'xonney', 'monntey', 'monneya', 'sonney', 'meonney', 'mgnney', 'rmonney', 'monneyl', 'monnea', 'monrey', 'monnep', 'xmonney', 'mronney', 'monnegy', 'monoey', 'mtonney', 'monxey', 'monnee', 'moxney', 'oonney', 'mocney', 'monndy', 'minney', 'monnecy', 'zmonney', 'monnwy', 'moeney', 'monyney', 'moneney', 'moncney', 'monlney', 'mohney', 'monncy', 'qonney', 'mxnney', 'mhonney', 'moonney', 'mogney', 'monneyb', 'mornney', 'monnec', 'monnet', 'mowney', 'lonney', 'monnhy', 'mbnney', 'msonney', 'moyney', 'monneys', 'monnew', 'moiney', 'fonney', 'monneg', 'montey', 'mosney', 'mounney', 'mocnney', 'mbonney', 'monneyk', 'mokney', 'mknney', 'monneyj', 'moncey', 'mqnney', 'moanney', 'monniy', 'monjey', 'monnvey', 'wonney', 'monnejy', 'monrney', 'monnfy', 'monne', 'monnney', 'mojney', 'monnez', 'fmonney', 'lmonney', 'monnsy', 'monnkey', 'movnney', 'monpney', 'monnrey', 'monnes'}\n"
     ]
    }
   ],
   "source": [
    "print(len(set(edits_one(\"monney\"))))\n",
    "print(edits_one(\"monney\"))"
   ]
  },
  {
   "cell_type": "code",
   "execution_count": 54,
   "metadata": {},
   "outputs": [
    {
     "name": "stdout",
     "output_type": "stream",
     "text": [
      "{'monkey', 'money'}\n"
     ]
    }
   ],
   "source": [
    "print(known(edits_one(\"monney\")))"
   ]
  },
  {
   "cell_type": "code",
   "execution_count": 55,
   "metadata": {},
   "outputs": [
    {
     "name": "stdout",
     "output_type": "stream",
     "text": [
      "51013\n",
      "{'monkey', 'money'}\n"
     ]
    }
   ],
   "source": [
    "# Let's look at words that are two edits away\n",
    "print(len(set(edits_two(\"monney\"))))\n",
    "print(known(edits_one(\"monney\")))"
   ]
  },
  {
   "cell_type": "code",
   "execution_count": 56,
   "metadata": {},
   "outputs": [
    {
     "name": "stdout",
     "output_type": "stream",
     "text": [
      "{'monkey', 'money'}\n"
     ]
    }
   ],
   "source": [
    "# Let's look at possible corrections of a word\n",
    "print(possible_corrections(\"monney\"))"
   ]
  },
  {
   "cell_type": "code",
   "execution_count": 57,
   "metadata": {},
   "outputs": [
    {
     "name": "stdout",
     "output_type": "stream",
     "text": [
      "0.0002922233626303688\n",
      "5.378344097491451e-06\n"
     ]
    }
   ],
   "source": [
    "# Let's look at probability of a word\n",
    "print(prob(\"money\"))\n",
    "print(prob(\"monkey\"))"
   ]
  },
  {
   "cell_type": "code",
   "execution_count": 58,
   "metadata": {},
   "outputs": [],
   "source": [
    "def spell_check(word):\n",
    "    \"Print the most probable spelling correction for `word` out of all the `possible_corrections`\"\n",
    "    correct_word = max(possible_corrections(word), key=prob)\n",
    "    if correct_word != word:\n",
    "        return \"Did you mean \" + correct_word + \"?\"\n",
    "    else:\n",
    "        return \"Correct spelling.\""
   ]
  },
  {
   "cell_type": "code",
   "execution_count": 59,
   "metadata": {},
   "outputs": [
    {
     "name": "stdout",
     "output_type": "stream",
     "text": [
      "Did you mean money?\n"
     ]
    }
   ],
   "source": [
    "# test spell check\n",
    "print(spell_check(\"monney\"))"
   ]
  },
  {
   "cell_type": "code",
   "execution_count": null,
   "metadata": {},
   "outputs": [],
   "source": []
  },
  {
   "cell_type": "code",
   "execution_count": null,
   "metadata": {},
   "outputs": [],
   "source": []
  },
  {
   "cell_type": "code",
   "execution_count": null,
   "metadata": {},
   "outputs": [],
   "source": []
  },
  {
   "cell_type": "code",
   "execution_count": null,
   "metadata": {},
   "outputs": [],
   "source": []
  },
  {
   "cell_type": "code",
   "execution_count": null,
   "metadata": {},
   "outputs": [],
   "source": []
  }
 ],
 "metadata": {
  "kernelspec": {
   "display_name": "Python 3",
   "language": "python",
   "name": "python3"
  },
  "language_info": {
   "codemirror_mode": {
    "name": "ipython",
    "version": 3
   },
   "file_extension": ".py",
   "mimetype": "text/x-python",
   "name": "python",
   "nbconvert_exporter": "python",
   "pygments_lexer": "ipython3",
   "version": "3.8.5"
  }
 },
 "nbformat": 4,
 "nbformat_minor": 4
}
