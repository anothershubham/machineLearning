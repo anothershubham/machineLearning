{
 "cells": [
  {
   "cell_type": "markdown",
   "metadata": {},
   "source": [
    "# Gesture Recognition\n",
    "In this group project, you are going to build a 3D Conv model that will be able to predict the 5 gestures correctly. Please import the following libraries to get started."
   ]
  },
  {
   "cell_type": "code",
   "execution_count": 2,
   "metadata": {},
   "outputs": [],
   "source": [
    "import numpy as np\n",
    "import pandas as pd\n",
    "import os\n",
    "from skimage.transform import resize as imresize\n",
    "from matplotlib.pyplot import imread\n",
    "# from scipy.misc import imread, imresize\n",
    "import datetime\n",
    "import os\n",
    "import warnings\n",
    "import math\n",
    "import matplotlib.pyplot as plt\n",
    "%matplotlib inline\n",
    "warnings.filterwarnings('ignore')"
   ]
  },
  {
   "cell_type": "markdown",
   "metadata": {},
   "source": [
    "We set the random seed so that the results don't vary drastically."
   ]
  },
  {
   "cell_type": "code",
   "execution_count": 3,
   "metadata": {},
   "outputs": [],
   "source": [
    "import cv2 as cv\n",
    "\n",
    "np.random.seed(30)\n",
    "import random as rn\n",
    "rn.seed(30)\n",
    "from keras import backend as K\n",
    "import tensorflow as tf\n",
    "#tf.set_random_seed(30)\n",
    "tf.random.set_seed(30)"
   ]
  },
  {
   "cell_type": "markdown",
   "metadata": {},
   "source": [
    "In this block, you read the folder names for training and validation. You also set the `batch_size` here. Note that you set the batch size in such a way that you are able to use the GPU in full capacity. You keep increasing the batch size until the machine throws an error."
   ]
  },
  {
   "cell_type": "code",
   "execution_count": 6,
   "metadata": {},
   "outputs": [
    {
     "name": "stdout",
     "output_type": "stream",
     "text": [
      "(663, 3)\n"
     ]
    },
    {
     "data": {
      "text/html": [
       "<div>\n",
       "<style scoped>\n",
       "    .dataframe tbody tr th:only-of-type {\n",
       "        vertical-align: middle;\n",
       "    }\n",
       "\n",
       "    .dataframe tbody tr th {\n",
       "        vertical-align: top;\n",
       "    }\n",
       "\n",
       "    .dataframe thead th {\n",
       "        text-align: right;\n",
       "    }\n",
       "</style>\n",
       "<table border=\"1\" class=\"dataframe\">\n",
       "  <thead>\n",
       "    <tr style=\"text-align: right;\">\n",
       "      <th></th>\n",
       "      <th>Folder</th>\n",
       "      <th>Type</th>\n",
       "      <th>Tag</th>\n",
       "    </tr>\n",
       "  </thead>\n",
       "  <tbody>\n",
       "    <tr>\n",
       "      <th>0</th>\n",
       "      <td>WIN_20180925_17_08_43_Pro_Left_Swipe_new</td>\n",
       "      <td>Left_Swipe_new</td>\n",
       "      <td>0</td>\n",
       "    </tr>\n",
       "    <tr>\n",
       "      <th>1</th>\n",
       "      <td>WIN_20180925_17_18_28_Pro_Left_Swipe_new</td>\n",
       "      <td>Left_Swipe_new</td>\n",
       "      <td>0</td>\n",
       "    </tr>\n",
       "    <tr>\n",
       "      <th>2</th>\n",
       "      <td>WIN_20180925_17_18_56_Pro_Left_Swipe_new</td>\n",
       "      <td>Left_Swipe_new</td>\n",
       "      <td>0</td>\n",
       "    </tr>\n",
       "    <tr>\n",
       "      <th>3</th>\n",
       "      <td>WIN_20180925_17_19_51_Pro_Left_Swipe_new</td>\n",
       "      <td>Left_Swipe_new</td>\n",
       "      <td>0</td>\n",
       "    </tr>\n",
       "    <tr>\n",
       "      <th>4</th>\n",
       "      <td>WIN_20180925_17_20_14_Pro_Left_Swipe_new</td>\n",
       "      <td>Left_Swipe_new</td>\n",
       "      <td>0</td>\n",
       "    </tr>\n",
       "  </tbody>\n",
       "</table>\n",
       "</div>"
      ],
      "text/plain": [
       "                                     Folder            Type  Tag\n",
       "0  WIN_20180925_17_08_43_Pro_Left_Swipe_new  Left_Swipe_new    0\n",
       "1  WIN_20180925_17_18_28_Pro_Left_Swipe_new  Left_Swipe_new    0\n",
       "2  WIN_20180925_17_18_56_Pro_Left_Swipe_new  Left_Swipe_new    0\n",
       "3  WIN_20180925_17_19_51_Pro_Left_Swipe_new  Left_Swipe_new    0\n",
       "4  WIN_20180925_17_20_14_Pro_Left_Swipe_new  Left_Swipe_new    0"
      ]
     },
     "execution_count": 6,
     "metadata": {},
     "output_type": "execute_result"
    }
   ],
   "source": [
    "td = pd.read_csv('datasets/Project_data/train.csv', sep=';', names=['Folder', 'Type', 'Tag'])\n",
    "print(td.shape)\n",
    "td.head()"
   ]
  },
  {
   "cell_type": "code",
   "execution_count": 7,
   "metadata": {},
   "outputs": [],
   "source": [
    "train_doc = np.random.permutation(open('datasets/Project_data/train.csv').readlines())\n",
    "val_doc = np.random.permutation(open('datasets/Project_data/val.csv').readlines())\n",
    "#experiment with the batch size\n",
    "batch_size = 32 "
   ]
  },
  {
   "cell_type": "code",
   "execution_count": 8,
   "metadata": {
    "scrolled": true
   },
   "outputs": [
    {
     "data": {
      "text/plain": [
       "array(['WIN_20180926_17_24_20_Pro_Thumbs_Down_new;Thumbs_Down_new;3\\n',\n",
       "       'WIN_20180907_15_54_30_Pro_Thumbs Up_new;Thumbs Up_new;4\\n',\n",
       "       'WIN_20180926_17_08_11_Pro_Stop_new;Stop_new;2\\n',\n",
       "       'WIN_20180925_18_01_40_Pro_Left_Swipe_new;Left_Swipe_new;0\\n',\n",
       "       'WIN_20180907_16_16_48_Pro_Stop Gesture_new;Stop Gesture_new;2\\n',\n",
       "       'WIN_20180907_16_33_15_Pro_Thumbs Down_new;Thumbs Down_new;3\\n',\n",
       "       'WIN_20180926_16_46_22_Pro_Left_Swipe_new;Left_Swipe_new;0\\n',\n",
       "       'WIN_20180907_16_25_44_Pro_Stop Gesture_new;Stop Gesture_new;2\\n',\n",
       "       'WIN_20180926_17_05_38_Pro_Thumbs_Down_new;Thumbs_Down_new;3\\n',\n",
       "       'WIN_20180907_15_55_06_Pro_Right Swipe_new;Right Swipe_new;1\\n',\n",
       "       'WIN_20180926_16_57_50_Pro_Thumbs_Down_new;Thumbs_Down_new;3\\n',\n",
       "       'WIN_20180926_17_24_12_Pro_Right_Swipe_new;Right_Swipe_new;1\\n',\n",
       "       'WIN_20180907_15_57_43_Pro_Right Swipe_new;Right Swipe_new;1\\n',\n",
       "       'WIN_20180926_17_05_38_Pro_Left_Swipe_new;Left_Swipe_new;0\\n',\n",
       "       'WIN_20180926_17_34_23_Pro_Thumbs_Down_new;Thumbs_Down_new;3\\n',\n",
       "       'WIN_20180925_17_50_24_Pro_Thumbs_Down_new;Thumbs_Down_new;3\\n',\n",
       "       'WIN_20180925_17_40_03_Pro_Stop_new;Stop_new;2\\n',\n",
       "       'WIN_20180907_16_25_57_Pro_Right Swipe_new;Right Swipe_new;1\\n',\n",
       "       'WIN_20180925_17_48_16_Pro_Thumbs_Down_new;Thumbs_Down_new;3\\n',\n",
       "       'WIN_20180907_15_47_33_Pro_Thumbs Down_new;Thumbs Down_new;3\\n',\n",
       "       'WIN_20180925_18_03_21_Pro_Left_Swipe_new;Left_Swipe_new;0\\n',\n",
       "       'WIN_20180926_17_33_49_Pro_Stop_new;Stop_new;2\\n',\n",
       "       'WIN_20180926_17_04_53_Pro_Stop_new;Stop_new;2\\n',\n",
       "       'WIN_20180926_16_47_09_Pro_Left_Swipe_new;Left_Swipe_new;0\\n',\n",
       "       'WIN_20180907_16_29_12_Pro_Thumbs Down_new;Thumbs Down_new;3\\n',\n",
       "       'WIN_20180907_15_45_43_Pro_Right Swipe_new;Right Swipe_new;1\\n',\n",
       "       'WIN_20180926_16_48_48_Pro_Stop_new;Stop_new;2\\n',\n",
       "       'WIN_20180925_17_25_06_Pro_Right_Swipe_new;Right_Swipe_new;1\\n',\n",
       "       'WIN_20180907_16_07_10_Pro_Thumbs Down_new;Thumbs Down_new;3\\n',\n",
       "       'WIN_20180925_17_17_04_Pro_Left_Swipe_new;Left_Swipe_new;0\\n',\n",
       "       'WIN_20180907_16_02_09_Pro_Thumbs Down_new;Thumbs Down_new;3\\n',\n",
       "       'WIN_20180907_15_30_06_Pro_Right Swipe_new;Right Swipe_new;1\\n',\n",
       "       'WIN_20180926_17_40_21_Pro_Left_Swipe_new;Left_Swipe_new;0\\n',\n",
       "       'WIN_20180926_16_44_04_Pro_Thumbs_Down_new;Thumbs_Down_new;3\\n',\n",
       "       'WIN_20180907_16_13_24_Pro_Thumbs Down_new;Thumbs Down_new;3\\n',\n",
       "       'WIN_20180926_17_08_09_Pro_Left_Swipe_new;Left_Swipe_new;0\\n',\n",
       "       'WIN_20180907_15_38_42_Pro_Thumbs Up_new;Thumbs Up_new;4\\n',\n",
       "       'WIN_20180926_17_32_55_Pro_Left_Swipe_new;Left_Swipe_new;0\\n',\n",
       "       'WIN_20180926_17_33_14_Pro_Right_Swipe_new;Right_Swipe_new;1\\n',\n",
       "       'WIN_20180907_16_10_59_Pro_Thumbs Up_new;Thumbs Up_new;4\\n',\n",
       "       'WIN_20180907_16_21_39_Pro_Left Swipe_new_Left Swipe_new;Left Swipe_new_Left Swipe_new;0\\n',\n",
       "       'WIN_20180926_17_34_05_Pro_Right_Swipe_new;Right_Swipe_new;1\\n',\n",
       "       'WIN_20180907_16_30_54_Pro_Stop Gesture_new;Stop Gesture_new;2\\n',\n",
       "       'WIN_20180926_17_33_14_Pro_Stop_new;Stop_new;2\\n',\n",
       "       'WIN_20180925_17_52_42_Pro_Stop_new;Stop_new;2\\n',\n",
       "       'WIN_20180926_17_09_45_Pro_Thumbs_Down_new;Thumbs_Down_new;3\\n',\n",
       "       'WIN_20180926_17_01_52_Pro_Right_Swipe_new;Right_Swipe_new;1\\n',\n",
       "       'WIN_20180926_16_43_34_Pro_Thumbs_Up_new;Thumbs_Up_new;4\\n',\n",
       "       'WIN_20180907_16_05_32_Pro_Left Swipe_new_Left Swipe_new;Left Swipe_new_Left Swipe_new;0\\n',\n",
       "       'WIN_20180907_15_52_05_Pro_Thumbs Up_new;Thumbs Up_new;4\\n',\n",
       "       'WIN_20180907_15_43_36_Pro_Thumbs Up_new;Thumbs Up_new;4\\n',\n",
       "       'WIN_20180907_16_20_15_Pro_Stop Gesture_new;Stop Gesture_new;2\\n',\n",
       "       'WIN_20180926_17_28_32_Pro_Thumbs_Up_new;Thumbs_Up_new;4\\n',\n",
       "       'WIN_20180907_16_09_35_Pro_Thumbs Down_new;Thumbs Down_new;3\\n',\n",
       "       'WIN_20180907_16_36_42_Pro_Left Swipe_new_Left Swipe_new;Left Swipe_new_Left Swipe_new;0\\n',\n",
       "       'WIN_20180907_15_42_17_Pro_Stop Gesture_new;Stop Gesture_new;2\\n',\n",
       "       'WIN_20180926_17_14_26_Pro_Thumbs_Up_new;Thumbs_Up_new;4\\n',\n",
       "       'WIN_20180907_16_18_23_Pro_Thumbs Down_new;Thumbs Down_new;3\\n',\n",
       "       'WIN_20180925_17_38_43_Pro_Thumbs_Up_new;Thumbs_Up_new;4\\n',\n",
       "       'WIN_20180907_16_20_53_Pro_Right Swipe_new;Right Swipe_new;1\\n',\n",
       "       'WIN_20180926_17_32_15_Pro_Stop_new;Stop_new;2\\n',\n",
       "       'WIN_20180925_17_35_04_Pro_Thumbs_Up_new;Thumbs_Up_new;4\\n',\n",
       "       'WIN_20180907_15_45_04_Pro_Left Swipe_new_Left Swipe_new;Left Swipe_new_Left Swipe_new;0\\n',\n",
       "       'WIN_20180926_16_47_44_Pro_Stop_new;Stop_new;2\\n',\n",
       "       'WIN_20180907_16_14_40_Pro_Right Swipe_new;Right Swipe_new;1\\n',\n",
       "       'WIN_20180925_17_32_32_Pro_Stop_new;Stop_new;2\\n',\n",
       "       'WIN_20180925_17_43_01_Pro_Left_Swipe_new;Left_Swipe_new;0\\n',\n",
       "       'WIN_20180926_17_03_57_Pro_Right_Swipe_new;Right_Swipe_new;1\\n',\n",
       "       'WIN_20180907_15_42_25_Pro_Thumbs Down_new;Thumbs Down_new;3\\n',\n",
       "       'WIN_20180926_17_32_40_Pro_Stop_new;Stop_new;2\\n',\n",
       "       'WIN_20180907_16_14_16_Pro_Stop Gesture_new;Stop Gesture_new;2\\n',\n",
       "       'WIN_20180907_16_05_10_Pro_Right Swipe_new;Right Swipe_new;1\\n',\n",
       "       'WIN_20180925_17_33_30_Pro_Thumbs_Down_new;Thumbs_Down_new;3\\n',\n",
       "       'WIN_20180926_17_09_33_Pro_Left_Swipe_new;Left_Swipe_new;0\\n',\n",
       "       'WIN_20180907_15_50_39_Pro_Right Swipe_new;Right Swipe_new;1\\n',\n",
       "       'WIN_20180925_17_58_08_Pro_Thumbs_Up_new;Thumbs_Up_new;4\\n',\n",
       "       'WIN_20180925_17_59_48_Pro_Thumbs_Up_new;Thumbs_Up_new;4\\n',\n",
       "       'WIN_20180907_16_02_38_Pro_Right Swipe_new;Right Swipe_new;1\\n',\n",
       "       'WIN_20180926_16_37_56_Pro_Stop_new;Stop_new;2\\n',\n",
       "       'WIN_20180926_17_29_34_Pro_Right_Swipe_new;Right_Swipe_new;1\\n',\n",
       "       'WIN_20180925_17_35_29_Pro_Thumbs_Down_new;Thumbs_Down_new;3\\n',\n",
       "       'WIN_20180926_17_35_34_Pro_Right_Swipe_new;Right_Swipe_new;1\\n',\n",
       "       'WIN_20180926_17_21_48_Pro_Left_Swipe_new;Left_Swipe_new;0\\n',\n",
       "       'WIN_20180907_16_00_42_Pro_Left Swipe_new_Left Swipe_new;Left Swipe_new_Left Swipe_new;0\\n',\n",
       "       'WIN_20180907_16_39_59_Pro_Thumbs Up_new;Thumbs Up_new;4\\n',\n",
       "       'WIN_20180926_17_06_40_Pro_Thumbs_Up_new;Thumbs_Up_new;4\\n',\n",
       "       'WIN_20180926_17_12_27_Pro_Right_Swipe_new;Right_Swipe_new;1\\n',\n",
       "       'WIN_20180926_17_44_14_Pro_Thumbs_Down_new;Thumbs_Down_new;3\\n',\n",
       "       'WIN_20180907_16_17_35_Pro_Stop Gesture_new;Stop Gesture_new;2\\n',\n",
       "       'WIN_20180925_17_47_07_Pro_Thumbs_Up_new;Thumbs_Up_new;4\\n',\n",
       "       'WIN_20180926_17_56_52_Pro_Right_Swipe_new;Right_Swipe_new;1\\n',\n",
       "       'WIN_20180907_16_31_41_Pro_Stop Gesture_new;Stop Gesture_new;2\\n',\n",
       "       'WIN_20180925_17_42_34_Pro_Thumbs_Up_new;Thumbs_Up_new;4\\n',\n",
       "       'WIN_20180926_17_15_35_Pro_Left_Swipe_new;Left_Swipe_new;0\\n',\n",
       "       'WIN_20180926_16_48_40_Pro_Right_Swipe_new;Right_Swipe_new;1\\n',\n",
       "       'WIN_20180925_17_30_40_Pro_Stop_new;Stop_new;2\\n',\n",
       "       'WIN_20180926_17_13_25_Pro_Thumbs_Down_new;Thumbs_Down_new;3\\n',\n",
       "       'WIN_20180925_17_43_46_Pro_Right_Swipe_new;Right_Swipe_new;1\\n',\n",
       "       'WIN_20180926_16_52_49_Pro_Right_Swipe_new;Right_Swipe_new;1\\n',\n",
       "       'WIN_20180925_17_49_40_Pro_Stop_new;Stop_new;2\\n'], dtype='<U88')"
      ]
     },
     "execution_count": 8,
     "metadata": {},
     "output_type": "execute_result"
    }
   ],
   "source": [
    "val_doc"
   ]
  },
  {
   "cell_type": "code",
   "execution_count": 9,
   "metadata": {},
   "outputs": [],
   "source": [
    "from keras.models import Sequential, Model\n",
    "from keras.layers import Dense, GRU, Flatten, TimeDistributed, Flatten, BatchNormalization, Activation, Dropout\n",
    "from keras.layers.convolutional import Conv3D, MaxPooling3D\n",
    "from keras.callbacks import ModelCheckpoint, ReduceLROnPlateau\n",
    "from keras import optimizers\n",
    "from tensorflow.keras.layers import MaxPooling2D,LSTM\n",
    "from tensorflow.keras.applications import MobileNetV2\n",
    "from tensorflow.keras.preprocessing.image import ImageDataGenerator"
   ]
  },
  {
   "cell_type": "markdown",
   "metadata": {},
   "source": [
    "## Generator\n",
    "This is one of the most important part of the code. The overall structure of the generator has been given. In the generator, you are going to preprocess the images as you have images of 2 different dimensions as well as create a batch of video frames. You have to experiment with `img_idx`, `y`,`z` and normalization such that you get high accuracy."
   ]
  },
  {
   "cell_type": "code",
   "execution_count": 10,
   "metadata": {},
   "outputs": [],
   "source": [
    "### folder_list : train_doc/val_doc\n",
    "# source_path : root dir where our data is available\n",
    "\n",
    "# total number of frames for a particular video\n",
    "x = 30 \n",
    "\n",
    "# width of the image\n",
    "y = 100 \n",
    "\n",
    "# height of the image\n",
    "z = 100 \n",
    "datagen = ImageDataGenerator(\n",
    "    featurewise_center=True,\n",
    "    samplewise_center=True,\n",
    "    rotation_range=25,\n",
    "    horizontal_flip=False,\n",
    "    vertical_flip=False,\n",
    "    zoom_range=0.3\n",
    ")\n",
    "def generator(source_path, folder_list, batch_size,augment=0):\n",
    "    print( 'Source path = ', source_path, '; batch size =', batch_size)\n",
    "    \n",
    "    #create a list of image numbers you want to use for a particular video\n",
    "    # using all the images for a particular video\n",
    "    img_idx = [i for i in range(0, x)] \n",
    "    while True:\n",
    "        t = np.random.permutation(folder_list)\n",
    "        \n",
    "        # calculate the number of batches\n",
    "        num_batches = len(folder_list)//batch_size \n",
    "        \n",
    "        # we iterate over the number of batches\n",
    "        for batch in range(num_batches): \n",
    "            batch_data, batch_labels = fetch_batch_data(t,batch,batch_size,source_path,img_idx,augment=augment)\n",
    "            yield batch_data, batch_labels\n",
    "        \n",
    "        # code for the remaining data points which are left after full batches\n",
    "        remaining_seq=len(t)%batch_size\n",
    "        if remaining_seq!=0:\n",
    "            batch_data, batch_labels = fetch_batch_data(t,batch,batch_size,source_path,img_idx,remaining_seq,augment=augment)\n",
    "            yield batch_data, batch_labels\n",
    "\n",
    "def fetch_batch_data(t,batch,batch_size,source_path,img_idx,remaining_seq=0, augment=0):\n",
    "    ## x is the number of images you use for each video, (y,z) is the final size of the input images \n",
    "    # and 3 is the number of channels RGB\n",
    "    \n",
    "    seq_len = remaining_seq if remaining_seq!=0 else batch_size\n",
    "    batch_data = np.zeros((seq_len, x, y, z, 3)) \n",
    "    # batch_labels is the one hot representation of the output\n",
    "    batch_labels = np.zeros((seq_len, 5)) \n",
    "    \n",
    "    # Calculating batch length for remaining data if available\n",
    "    if augment!=0: batch_data_augm = np.zeros((seq_len, x, y, z, 3))\n",
    "    # iterate over the batch_size\n",
    "    for folder in range(seq_len): \n",
    "\n",
    "        # read all the images inside the folder\n",
    "        imgs = os.listdir(source_path+'/'+ t[folder + (batch*batch_size)].split(';')[0]) \n",
    "\n",
    "        # Iterate over the frames/images of a folder to read them in\n",
    "        for idx, item in enumerate(img_idx): \n",
    "            image = imread(source_path+'/'+ t[folder + (batch*batch_size)].strip().split(';')[0]+'/'+\n",
    "                           imgs[item]).astype(np.float32)\n",
    "\n",
    "            #crop the images and resize them. Note that the images are of 2 different shape \n",
    "            #and the conv3D will throw error if the inputs in a batch have different shapes\n",
    "            resizedImage = imresize(image, (y, z))\n",
    "            norm_img = np.zeros((y, z))\n",
    "            resizedImage = cv.normalize(resizedImage,  norm_img, 0, 255, cv.NORM_MINMAX)\n",
    "            batch_data[folder, idx, :, :, 0] = resizedImage[:,:,0]\n",
    "            batch_data[folder, idx, :, :, 1] = resizedImage[:,:,1]\n",
    "            batch_data[folder, idx, :, :, 2] = resizedImage[:,:,2]\n",
    "            if augment!=0:\n",
    "                image_aug = datagen.random_transform(image, seed=123)\n",
    "                norm_img = np.zeros((y, z))\n",
    "                resizedImage = cv.normalize(image,  norm_img, 0, 255, cv.NORM_MINMAX)\n",
    "                resizedImage = imresize(resizedImage, (y, z))\n",
    "                batch_data_augm[folder, idx, :, :, 0] = resizedImage[:,:,0]\n",
    "                batch_data_augm[folder, idx, :, :, 1] = resizedImage[:,:,1]\n",
    "                batch_data_augm[folder, idx, :, :, 2] = resizedImage[:,:,2]\n",
    "                \n",
    "                \n",
    "        batch_labels[folder, int(t[folder + (batch*batch_size)].strip().split(';')[2])] = 1\n",
    "    if augment != 0:\n",
    "        batch_data = np.concatenate([batch_data,batch_data_augm])\n",
    "        batch_labels = np.concatenate([batch_labels,batch_labels])\n",
    "    return batch_data, batch_labels"
   ]
  },
  {
   "cell_type": "markdown",
   "metadata": {},
   "source": [
    "Note here that a video is represented above in the generator as (number of images, height, width, number of channels). Take this into consideration while creating the model architecture."
   ]
  },
  {
   "cell_type": "code",
   "execution_count": 11,
   "metadata": {},
   "outputs": [
    {
     "name": "stdout",
     "output_type": "stream",
     "text": [
      "# training sequences = 663\n",
      "# validation sequences = 100\n",
      "# epochs = 30\n"
     ]
    }
   ],
   "source": [
    "curr_dt_time = datetime.datetime.now()\n",
    "train_path = 'datasets/Project_data/train'\n",
    "val_path = 'datasets/Project_data/val'\n",
    "num_train_sequences = len(train_doc)\n",
    "print('# training sequences =', num_train_sequences)\n",
    "num_val_sequences = len(val_doc)\n",
    "print('# validation sequences =', num_val_sequences)\n",
    "num_epochs = 30\n",
    "print ('# epochs =', num_epochs)"
   ]
  },
  {
   "cell_type": "code",
   "execution_count": 12,
   "metadata": {},
   "outputs": [],
   "source": [
    "def plot(history):\n",
    "    fig, axes = plt.subplots(nrows=1, ncols=2, figsize=(15,4))\n",
    "    axes[0].plot(history.history.history['loss'])   \n",
    "    axes[0].plot(history.history.history['val_loss'])\n",
    "    axes[0].legend(['loss','val_loss'])\n",
    "\n",
    "    axes[1].plot(history.history.history['categorical_accuracy'])   \n",
    "    axes[1].plot(history.history.history['val_categorical_accuracy'])\n",
    "    axes[1].legend(['categorical_accuracy','val_categorical_accuracy'])"
   ]
  },
  {
   "cell_type": "markdown",
   "metadata": {},
   "source": [
    "## Model 1: Conv3D with MaxPool3D layers\n",
    "Here you make the model using different functionalities that Keras provides. Using `Conv3D` and `MaxPooling3D` and not `Conv2D` and `Maxpooling2D` for a 3D convolution model. Also using the last layer as the softmax. Designed the network in such a way that the model is able to give good accuracy on the least number of parameters so that it can fit in the memory of the webcam."
   ]
  },
  {
   "cell_type": "code",
   "execution_count": 30,
   "metadata": {},
   "outputs": [],
   "source": [
    "model = Sequential()\n",
    "model.add(Conv3D(filters=16,input_shape=(x,y,z,3),kernel_size=(3, 3, 3),padding='same', activation='relu'))\n",
    "model.add(Activation('relu'))\n",
    "model.add(BatchNormalization())\n",
    "model.add(MaxPooling3D(pool_size=(2, 2, 2)))\n",
    "\n",
    "model.add(Conv3D(filters=32,kernel_size=(3, 3, 3),padding='same', activation='relu'))\n",
    "model.add(Activation('relu'))\n",
    "model.add(BatchNormalization())\n",
    "model.add(MaxPooling3D(pool_size=(2, 2, 2)))\n",
    "\n",
    "model.add(Conv3D(filters=64,kernel_size=(3, 3, 3),padding='same', activation='relu'))\n",
    "model.add(Activation('relu'))\n",
    "model.add(BatchNormalization())\n",
    "model.add(MaxPooling3D(pool_size=(2, 2, 2)))\n",
    "\n",
    "model.add(Conv3D(filters=128,kernel_size=(3, 3, 3),padding='same', activation='relu'))\n",
    "model.add(Activation('relu'))\n",
    "model.add(BatchNormalization())\n",
    "model.add(MaxPooling3D(pool_size=(2, 2, 2)))\n",
    "\n",
    "model.add(Flatten())\n",
    "model.add(Dense(units=128, activation='relu'))\n",
    "model.add(BatchNormalization())\n",
    "model.add(Dropout(0.4))\n",
    "\n",
    "model.add(Dense(units=64, activation='relu'))\n",
    "model.add(BatchNormalization())\n",
    "model.add(Dropout(0.25))\n",
    "\n",
    "model.add(Dense(units=5, activation='softmax'))\n",
    "# model.summary()"
   ]
  },
  {
   "cell_type": "markdown",
   "metadata": {},
   "source": [
    "Now that we have written the model, the next step is to `compile` the model. When `summary` of the model is printed, the total number of parameters is seen that has to be trained."
   ]
  },
  {
   "cell_type": "code",
   "execution_count": 31,
   "metadata": {
    "scrolled": true
   },
   "outputs": [
    {
     "name": "stdout",
     "output_type": "stream",
     "text": [
      "Model: \"sequential_2\"\n",
      "_________________________________________________________________\n",
      "Layer (type)                 Output Shape              Param #   \n",
      "=================================================================\n",
      "conv3d_8 (Conv3D)            (None, 30, 100, 100, 16)  1312      \n",
      "_________________________________________________________________\n",
      "activation_8 (Activation)    (None, 30, 100, 100, 16)  0         \n",
      "_________________________________________________________________\n",
      "batch_normalization_12 (Batc (None, 30, 100, 100, 16)  64        \n",
      "_________________________________________________________________\n",
      "max_pooling3d_8 (MaxPooling3 (None, 15, 50, 50, 16)    0         \n",
      "_________________________________________________________________\n",
      "conv3d_9 (Conv3D)            (None, 15, 50, 50, 32)    13856     \n",
      "_________________________________________________________________\n",
      "activation_9 (Activation)    (None, 15, 50, 50, 32)    0         \n",
      "_________________________________________________________________\n",
      "batch_normalization_13 (Batc (None, 15, 50, 50, 32)    128       \n",
      "_________________________________________________________________\n",
      "max_pooling3d_9 (MaxPooling3 (None, 7, 25, 25, 32)     0         \n",
      "_________________________________________________________________\n",
      "conv3d_10 (Conv3D)           (None, 7, 25, 25, 64)     55360     \n",
      "_________________________________________________________________\n",
      "activation_10 (Activation)   (None, 7, 25, 25, 64)     0         \n",
      "_________________________________________________________________\n",
      "batch_normalization_14 (Batc (None, 7, 25, 25, 64)     256       \n",
      "_________________________________________________________________\n",
      "max_pooling3d_10 (MaxPooling (None, 3, 12, 12, 64)     0         \n",
      "_________________________________________________________________\n",
      "conv3d_11 (Conv3D)           (None, 3, 12, 12, 128)    221312    \n",
      "_________________________________________________________________\n",
      "activation_11 (Activation)   (None, 3, 12, 12, 128)    0         \n",
      "_________________________________________________________________\n",
      "batch_normalization_15 (Batc (None, 3, 12, 12, 128)    512       \n",
      "_________________________________________________________________\n",
      "max_pooling3d_11 (MaxPooling (None, 1, 6, 6, 128)      0         \n",
      "_________________________________________________________________\n",
      "flatten_2 (Flatten)          (None, 4608)              0         \n",
      "_________________________________________________________________\n",
      "dense_6 (Dense)              (None, 128)               589952    \n",
      "_________________________________________________________________\n",
      "batch_normalization_16 (Batc (None, 128)               512       \n",
      "_________________________________________________________________\n",
      "dropout_4 (Dropout)          (None, 128)               0         \n",
      "_________________________________________________________________\n",
      "dense_7 (Dense)              (None, 64)                8256      \n",
      "_________________________________________________________________\n",
      "batch_normalization_17 (Batc (None, 64)                256       \n",
      "_________________________________________________________________\n",
      "dropout_5 (Dropout)          (None, 64)                0         \n",
      "_________________________________________________________________\n",
      "dense_8 (Dense)              (None, 5)                 325       \n",
      "=================================================================\n",
      "Total params: 892,101\n",
      "Trainable params: 891,237\n",
      "Non-trainable params: 864\n",
      "_________________________________________________________________\n",
      "None\n"
     ]
    }
   ],
   "source": [
    "optimiser = optimizers.Adam()\n",
    "model.compile(optimizer=optimiser, loss='categorical_crossentropy', metrics=['categorical_accuracy'])\n",
    "print (model.summary())"
   ]
  },
  {
   "cell_type": "markdown",
   "metadata": {},
   "source": [
    "Let us create the `train_generator` and the `val_generator` which will be used in `.fit_generator`."
   ]
  },
  {
   "cell_type": "code",
   "execution_count": 32,
   "metadata": {},
   "outputs": [],
   "source": [
    "train_generator = generator(train_path, train_doc, batch_size)\n",
    "val_generator = generator(val_path, val_doc, batch_size)"
   ]
  },
  {
   "cell_type": "code",
   "execution_count": 33,
   "metadata": {},
   "outputs": [
    {
     "name": "stdout",
     "output_type": "stream",
     "text": [
      "WARNING:tensorflow:`period` argument is deprecated. Please use `save_freq` to specify the frequency in number of batches seen.\n"
     ]
    },
    {
     "name": "stderr",
     "output_type": "stream",
     "text": [
      "WARNING:tensorflow:`period` argument is deprecated. Please use `save_freq` to specify the frequency in number of batches seen.\n"
     ]
    }
   ],
   "source": [
    "model_name = 'model_init' + '_' + str(curr_dt_time).replace(' ','').replace(':','_') + '/'\n",
    "    \n",
    "if not os.path.exists(model_name):\n",
    "    os.mkdir(model_name)\n",
    "        \n",
    "filepath = model_name + 'model-{epoch:05d}-{loss:.5f}-{categorical_accuracy:.5f}-{val_loss:.5f}-{val_categorical_accuracy:.5f}.h5'\n",
    "\n",
    "checkpoint = ModelCheckpoint(filepath, monitor='val_loss', verbose=1, save_best_only=True, save_weights_only=False, mode='auto', period=1)\n",
    "\n",
    "LR = ReduceLROnPlateau(patience=3,verbose=1)\n",
    "callbacks_list = [LR,checkpoint]"
   ]
  },
  {
   "cell_type": "markdown",
   "metadata": {},
   "source": [
    "The `steps_per_epoch` and `validation_steps` are used by `fit_generator` to decide the number of next() calls it need to make."
   ]
  },
  {
   "cell_type": "code",
   "execution_count": 34,
   "metadata": {},
   "outputs": [],
   "source": [
    "if (num_train_sequences%batch_size) == 0:\n",
    "    steps_per_epoch = int(num_train_sequences/batch_size)\n",
    "else:\n",
    "    steps_per_epoch = (num_train_sequences//batch_size) + 1\n",
    "\n",
    "if (num_val_sequences%batch_size) == 0:\n",
    "    validation_steps = int(num_val_sequences/batch_size)\n",
    "else:\n",
    "    validation_steps = (num_val_sequences//batch_size) + 1"
   ]
  },
  {
   "cell_type": "markdown",
   "metadata": {},
   "source": [
    "Let us now fit the model. This will start training the model and with the help of the checkpoints, you'll be able to save the model at the end of each epoch."
   ]
  },
  {
   "cell_type": "code",
   "execution_count": 35,
   "metadata": {
    "scrolled": true,
    "tags": []
   },
   "outputs": [
    {
     "name": "stdout",
     "output_type": "stream",
     "text": [
      "Source path =  datasets/Project_data/train ; batch size = 32\n",
      "Epoch 1/30\n",
      "21/21 [==============================] - ETA: 0s - loss: 1.6792 - categorical_accuracy: 0.3765Source path =  datasets/Project_data/val ; batch size = 32\n",
      "\n",
      "Epoch 00001: val_loss improved from inf to 20.01773, saving model to model_init_2021-07-2514_55_08.244547/model-00001-1.67919-0.37649-20.01773-0.16406.h5\n",
      "21/21 [==============================] - 148s 7s/step - loss: 1.6792 - categorical_accuracy: 0.3765 - val_loss: 20.0177 - val_categorical_accuracy: 0.1641\n",
      "Epoch 2/30\n",
      "21/21 [==============================] - ETA: 0s - loss: 1.1480 - categorical_accuracy: 0.5372\n",
      "Epoch 00002: val_loss improved from 20.01773 to 4.38172, saving model to model_init_2021-07-2514_55_08.244547/model-00002-1.14796-0.53720-4.38172-0.27344.h5\n",
      "21/21 [==============================] - 146s 7s/step - loss: 1.1480 - categorical_accuracy: 0.5372 - val_loss: 4.3817 - val_categorical_accuracy: 0.2734\n",
      "Epoch 3/30\n",
      "21/21 [==============================] - ETA: 0s - loss: 0.7959 - categorical_accuracy: 0.6949\n",
      "Epoch 00003: val_loss improved from 4.38172 to 2.55252, saving model to model_init_2021-07-2514_55_08.244547/model-00003-0.79589-0.69494-2.55252-0.24219.h5\n",
      "21/21 [==============================] - 146s 7s/step - loss: 0.7959 - categorical_accuracy: 0.6949 - val_loss: 2.5525 - val_categorical_accuracy: 0.2422\n",
      "Epoch 4/30\n",
      "21/21 [==============================] - ETA: 0s - loss: 0.6098 - categorical_accuracy: 0.7589\n",
      "Epoch 00004: val_loss did not improve from 2.55252\n",
      "21/21 [==============================] - 148s 7s/step - loss: 0.6098 - categorical_accuracy: 0.7589 - val_loss: 2.9722 - val_categorical_accuracy: 0.2422\n",
      "Epoch 5/30\n",
      "21/21 [==============================] - ETA: 0s - loss: 0.6144 - categorical_accuracy: 0.7649\n",
      "Epoch 00005: val_loss improved from 2.55252 to 1.65059, saving model to model_init_2021-07-2514_55_08.244547/model-00005-0.61438-0.76488-1.65059-0.28125.h5\n",
      "21/21 [==============================] - 147s 7s/step - loss: 0.6144 - categorical_accuracy: 0.7649 - val_loss: 1.6506 - val_categorical_accuracy: 0.2812\n",
      "Epoch 6/30\n",
      "21/21 [==============================] - ETA: 0s - loss: 0.4673 - categorical_accuracy: 0.8170\n",
      "Epoch 00006: val_loss improved from 1.65059 to 1.56275, saving model to model_init_2021-07-2514_55_08.244547/model-00006-0.46732-0.81696-1.56275-0.25781.h5\n",
      "21/21 [==============================] - 151s 7s/step - loss: 0.4673 - categorical_accuracy: 0.8170 - val_loss: 1.5627 - val_categorical_accuracy: 0.2578\n",
      "Epoch 7/30\n",
      "21/21 [==============================] - ETA: 0s - loss: 0.4006 - categorical_accuracy: 0.8423\n",
      "Epoch 00007: val_loss improved from 1.56275 to 0.56544, saving model to model_init_2021-07-2514_55_08.244547/model-00007-0.40062-0.84226-0.56544-0.58594.h5\n",
      "21/21 [==============================] - 151s 7s/step - loss: 0.4006 - categorical_accuracy: 0.8423 - val_loss: 0.5654 - val_categorical_accuracy: 0.5859\n",
      "Epoch 8/30\n",
      "21/21 [==============================] - ETA: 0s - loss: 0.3090 - categorical_accuracy: 0.8899\n",
      "Epoch 00008: val_loss did not improve from 0.56544\n",
      "21/21 [==============================] - 151s 7s/step - loss: 0.3090 - categorical_accuracy: 0.8899 - val_loss: 0.7969 - val_categorical_accuracy: 0.5000\n",
      "Epoch 9/30\n",
      "21/21 [==============================] - ETA: 0s - loss: 0.2144 - categorical_accuracy: 0.9390\n",
      "Epoch 00009: val_loss did not improve from 0.56544\n",
      "21/21 [==============================] - 151s 7s/step - loss: 0.2144 - categorical_accuracy: 0.9390 - val_loss: 0.6992 - val_categorical_accuracy: 0.5312\n",
      "Epoch 10/30\n",
      "21/21 [==============================] - ETA: 0s - loss: 0.1476 - categorical_accuracy: 0.9554\n",
      "Epoch 00010: ReduceLROnPlateau reducing learning rate to 0.00010000000474974513.\n",
      "\n",
      "Epoch 00010: val_loss did not improve from 0.56544\n",
      "21/21 [==============================] - 155s 7s/step - loss: 0.1476 - categorical_accuracy: 0.9554 - val_loss: 0.7505 - val_categorical_accuracy: 0.5312\n",
      "Epoch 11/30\n",
      "21/21 [==============================] - ETA: 0s - loss: 0.1375 - categorical_accuracy: 0.9524\n",
      "Epoch 00011: val_loss did not improve from 0.56544\n",
      "21/21 [==============================] - 150s 7s/step - loss: 0.1375 - categorical_accuracy: 0.9524 - val_loss: 0.7516 - val_categorical_accuracy: 0.5469\n",
      "Epoch 12/30\n",
      "21/21 [==============================] - ETA: 0s - loss: 0.1014 - categorical_accuracy: 0.9732\n",
      "Epoch 00012: val_loss did not improve from 0.56544\n",
      "21/21 [==============================] - 147s 7s/step - loss: 0.1014 - categorical_accuracy: 0.9732 - val_loss: 0.7025 - val_categorical_accuracy: 0.5234\n",
      "Epoch 13/30\n",
      "21/21 [==============================] - ETA: 0s - loss: 0.0883 - categorical_accuracy: 0.9762\n",
      "Epoch 00013: ReduceLROnPlateau reducing learning rate to 1.0000000474974514e-05.\n",
      "\n",
      "Epoch 00013: val_loss did not improve from 0.56544\n",
      "21/21 [==============================] - 151s 7s/step - loss: 0.0883 - categorical_accuracy: 0.9762 - val_loss: 0.5869 - val_categorical_accuracy: 0.5625\n",
      "Epoch 14/30\n",
      "21/21 [==============================] - ETA: 0s - loss: 0.1083 - categorical_accuracy: 0.9643\n",
      "Epoch 00014: val_loss improved from 0.56544 to 0.52940, saving model to model_init_2021-07-2514_55_08.244547/model-00014-0.10826-0.96429-0.52940-0.59375.h5\n",
      "21/21 [==============================] - 151s 7s/step - loss: 0.1083 - categorical_accuracy: 0.9643 - val_loss: 0.5294 - val_categorical_accuracy: 0.5938\n",
      "Epoch 15/30\n",
      "21/21 [==============================] - ETA: 0s - loss: 0.0846 - categorical_accuracy: 0.9717\n",
      "Epoch 00015: val_loss improved from 0.52940 to 0.44963, saving model to model_init_2021-07-2514_55_08.244547/model-00015-0.08456-0.97173-0.44963-0.60938.h5\n",
      "21/21 [==============================] - 149s 7s/step - loss: 0.0846 - categorical_accuracy: 0.9717 - val_loss: 0.4496 - val_categorical_accuracy: 0.6094\n",
      "Epoch 16/30\n",
      "21/21 [==============================] - ETA: 0s - loss: 0.1068 - categorical_accuracy: 0.9583\n",
      "Epoch 00016: val_loss improved from 0.44963 to 0.42637, saving model to model_init_2021-07-2514_55_08.244547/model-00016-0.10678-0.95833-0.42637-0.60156.h5\n",
      "21/21 [==============================] - 151s 7s/step - loss: 0.1068 - categorical_accuracy: 0.9583 - val_loss: 0.4264 - val_categorical_accuracy: 0.6016\n",
      "Epoch 17/30\n",
      "21/21 [==============================] - ETA: 0s - loss: 0.0901 - categorical_accuracy: 0.9688\n",
      "Epoch 00017: val_loss improved from 0.42637 to 0.37440, saving model to model_init_2021-07-2514_55_08.244547/model-00017-0.09012-0.96875-0.37440-0.64844.h5\n",
      "21/21 [==============================] - 145s 7s/step - loss: 0.0901 - categorical_accuracy: 0.9688 - val_loss: 0.3744 - val_categorical_accuracy: 0.6484\n",
      "Epoch 18/30\n",
      "21/21 [==============================] - ETA: 0s - loss: 0.1094 - categorical_accuracy: 0.9673\n",
      "Epoch 00018: val_loss improved from 0.37440 to 0.35854, saving model to model_init_2021-07-2514_55_08.244547/model-00018-0.10943-0.96726-0.35854-0.64844.h5\n",
      "21/21 [==============================] - 144s 7s/step - loss: 0.1094 - categorical_accuracy: 0.9673 - val_loss: 0.3585 - val_categorical_accuracy: 0.6484\n",
      "Epoch 19/30\n",
      "21/21 [==============================] - ETA: 0s - loss: 0.0969 - categorical_accuracy: 0.9688\n",
      "Epoch 00019: val_loss improved from 0.35854 to 0.31879, saving model to model_init_2021-07-2514_55_08.244547/model-00019-0.09685-0.96875-0.31879-0.65625.h5\n",
      "21/21 [==============================] - 156s 7s/step - loss: 0.0969 - categorical_accuracy: 0.9688 - val_loss: 0.3188 - val_categorical_accuracy: 0.6562\n",
      "Epoch 20/30\n",
      "21/21 [==============================] - ETA: 0s - loss: 0.0766 - categorical_accuracy: 0.9821\n",
      "Epoch 00020: val_loss did not improve from 0.31879\n",
      "21/21 [==============================] - 143s 7s/step - loss: 0.0766 - categorical_accuracy: 0.9821 - val_loss: 0.3292 - val_categorical_accuracy: 0.6484\n",
      "Epoch 21/30\n",
      "21/21 [==============================] - ETA: 0s - loss: 0.1014 - categorical_accuracy: 0.9688\n",
      "Epoch 00021: val_loss improved from 0.31879 to 0.31605, saving model to model_init_2021-07-2514_55_08.244547/model-00021-0.10143-0.96875-0.31605-0.64844.h5\n",
      "21/21 [==============================] - 148s 7s/step - loss: 0.1014 - categorical_accuracy: 0.9688 - val_loss: 0.3161 - val_categorical_accuracy: 0.6484\n",
      "Epoch 22/30\n",
      "21/21 [==============================] - ETA: 0s - loss: 0.0841 - categorical_accuracy: 0.9747\n",
      "Epoch 00022: val_loss did not improve from 0.31605\n",
      "21/21 [==============================] - 145s 7s/step - loss: 0.0841 - categorical_accuracy: 0.9747 - val_loss: 0.3461 - val_categorical_accuracy: 0.6406\n",
      "Epoch 23/30\n",
      "21/21 [==============================] - ETA: 0s - loss: 0.0924 - categorical_accuracy: 0.9717\n",
      "Epoch 00023: val_loss did not improve from 0.31605\n",
      "21/21 [==============================] - 147s 7s/step - loss: 0.0924 - categorical_accuracy: 0.9717 - val_loss: 0.3193 - val_categorical_accuracy: 0.6406\n",
      "Epoch 24/30\n",
      "21/21 [==============================] - ETA: 0s - loss: 0.0887 - categorical_accuracy: 0.9688\n",
      "Epoch 00024: val_loss improved from 0.31605 to 0.29800, saving model to model_init_2021-07-2514_55_08.244547/model-00024-0.08866-0.96875-0.29800-0.64844.h5\n",
      "21/21 [==============================] - 146s 7s/step - loss: 0.0887 - categorical_accuracy: 0.9688 - val_loss: 0.2980 - val_categorical_accuracy: 0.6484\n",
      "Epoch 25/30\n",
      "21/21 [==============================] - ETA: 0s - loss: 0.0974 - categorical_accuracy: 0.9732\n",
      "Epoch 00025: val_loss did not improve from 0.29800\n",
      "21/21 [==============================] - 147s 7s/step - loss: 0.0974 - categorical_accuracy: 0.9732 - val_loss: 0.3079 - val_categorical_accuracy: 0.6328\n",
      "Epoch 26/30\n",
      "21/21 [==============================] - ETA: 0s - loss: 0.1011 - categorical_accuracy: 0.9702\n",
      "Epoch 00026: val_loss improved from 0.29800 to 0.28368, saving model to model_init_2021-07-2514_55_08.244547/model-00026-0.10108-0.97024-0.28368-0.65625.h5\n",
      "21/21 [==============================] - 147s 7s/step - loss: 0.1011 - categorical_accuracy: 0.9702 - val_loss: 0.2837 - val_categorical_accuracy: 0.6562\n",
      "Epoch 27/30\n",
      "21/21 [==============================] - ETA: 0s - loss: 0.0979 - categorical_accuracy: 0.9732\n",
      "Epoch 00027: val_loss did not improve from 0.28368\n",
      "21/21 [==============================] - 147s 7s/step - loss: 0.0979 - categorical_accuracy: 0.9732 - val_loss: 0.3019 - val_categorical_accuracy: 0.6484\n",
      "Epoch 28/30\n",
      "21/21 [==============================] - ETA: 0s - loss: 0.0846 - categorical_accuracy: 0.9747\n",
      "Epoch 00028: val_loss improved from 0.28368 to 0.27207, saving model to model_init_2021-07-2514_55_08.244547/model-00028-0.08462-0.97470-0.27207-0.66406.h5\n",
      "21/21 [==============================] - 147s 7s/step - loss: 0.0846 - categorical_accuracy: 0.9747 - val_loss: 0.2721 - val_categorical_accuracy: 0.6641\n",
      "Epoch 29/30\n",
      "21/21 [==============================] - ETA: 0s - loss: 0.0759 - categorical_accuracy: 0.9702\n",
      "Epoch 00029: val_loss did not improve from 0.27207\n",
      "21/21 [==============================] - 146s 7s/step - loss: 0.0759 - categorical_accuracy: 0.9702 - val_loss: 0.2803 - val_categorical_accuracy: 0.6484\n",
      "Epoch 30/30\n",
      "21/21 [==============================] - ETA: 0s - loss: 0.0900 - categorical_accuracy: 0.9732\n",
      "Epoch 00030: val_loss did not improve from 0.27207\n",
      "21/21 [==============================] - 146s 7s/step - loss: 0.0900 - categorical_accuracy: 0.9732 - val_loss: 0.2798 - val_categorical_accuracy: 0.6562\n"
     ]
    },
    {
     "data": {
      "text/plain": [
       "<tensorflow.python.keras.callbacks.History at 0x7fe9e01a45c0>"
      ]
     },
     "execution_count": 35,
     "metadata": {},
     "output_type": "execute_result"
    }
   ],
   "source": [
    "model.fit_generator(train_generator, steps_per_epoch=steps_per_epoch, epochs=num_epochs, verbose=1, \n",
    "                    callbacks=callbacks_list, validation_data=val_generator, \n",
    "                    validation_steps=validation_steps, class_weight=None, workers=-1,use_multiprocessing=True, initial_epoch=0)"
   ]
  },
  {
   "cell_type": "markdown",
   "metadata": {},
   "source": [
    "### Since val_accuracy is 65.62% and categorical_accuracy is 97.32%, it shows that model is highly overfitting data. So we will try to reduce overfitting in the next model."
   ]
  },
  {
   "cell_type": "markdown",
   "metadata": {},
   "source": [
    "#### Accuracy: 97.32%\n",
    "#### Validation Acc: 65.62%\n",
    "\n",
    "#### Result: The vanilla CNN is giving very poor accuracy for the validation dataset"
   ]
  },
  {
   "cell_type": "markdown",
   "metadata": {},
   "source": [
    "## Model 2: Conv3D with MaxPool3D layers(Reducing Overfitting)"
   ]
  },
  {
   "cell_type": "code",
   "execution_count": 60,
   "metadata": {},
   "outputs": [],
   "source": [
    "model = Sequential()\n",
    "\n",
    "model.add(Conv3D(filters=16,input_shape=(x,y,z,3),kernel_size=(3, 3, 3),padding='same', activation='relu'))\n",
    "model.add(Activation('relu'))\n",
    "model.add(BatchNormalization())\n",
    "model.add(MaxPooling3D(pool_size=(2, 2, 2)))\n",
    "\n",
    "model.add(Conv3D(filters=32,kernel_size=(3, 3, 3),padding='same', activation='relu'))\n",
    "model.add(Activation('relu'))\n",
    "model.add(BatchNormalization())\n",
    "model.add(MaxPooling3D(pool_size=(2, 2, 2)))\n",
    "\n",
    "model.add(Conv3D(filters=64,kernel_size=(3, 3, 3),padding='same', activation='relu'))\n",
    "model.add(Activation('relu'))\n",
    "model.add(BatchNormalization())\n",
    "model.add(MaxPooling3D(pool_size=(2, 2, 2)))\n",
    "\n",
    "model.add(Conv3D(filters=128,kernel_size=(3, 3, 3),padding='same', activation='relu'))\n",
    "model.add(Activation('relu'))\n",
    "model.add(BatchNormalization())\n",
    "model.add(MaxPooling3D(pool_size=(2, 2, 2)))\n",
    "\n",
    "model.add(Flatten())\n",
    "model.add(Dense(units=64, activation='relu'))\n",
    "model.add(BatchNormalization())\n",
    "model.add(Dropout(0.5))\n",
    "\n",
    "model.add(Dense(units=32, activation='relu'))\n",
    "model.add(BatchNormalization())\n",
    "model.add(Dropout(0.3))\n",
    "\n",
    "model.add(Dense(units=5, activation='softmax'))"
   ]
  },
  {
   "cell_type": "markdown",
   "metadata": {},
   "source": [
    "Now that we have written the model, the next step is to `compile` the model. When `summary` of the model is printed, the total number of parameters is seen that has to be trained."
   ]
  },
  {
   "cell_type": "code",
   "execution_count": 61,
   "metadata": {
    "scrolled": true
   },
   "outputs": [
    {
     "name": "stdout",
     "output_type": "stream",
     "text": [
      "Model: \"sequential_18\"\n",
      "_________________________________________________________________\n",
      "Layer (type)                 Output Shape              Param #   \n",
      "=================================================================\n",
      "conv3d_63 (Conv3D)           (None, 30, 100, 100, 16)  1312      \n",
      "_________________________________________________________________\n",
      "activation_63 (Activation)   (None, 30, 100, 100, 16)  0         \n",
      "_________________________________________________________________\n",
      "batch_normalization_91 (Batc (None, 30, 100, 100, 16)  64        \n",
      "_________________________________________________________________\n",
      "max_pooling3d_63 (MaxPooling (None, 15, 50, 50, 16)    0         \n",
      "_________________________________________________________________\n",
      "conv3d_64 (Conv3D)           (None, 15, 50, 50, 32)    13856     \n",
      "_________________________________________________________________\n",
      "activation_64 (Activation)   (None, 15, 50, 50, 32)    0         \n",
      "_________________________________________________________________\n",
      "batch_normalization_92 (Batc (None, 15, 50, 50, 32)    128       \n",
      "_________________________________________________________________\n",
      "max_pooling3d_64 (MaxPooling (None, 7, 25, 25, 32)     0         \n",
      "_________________________________________________________________\n",
      "conv3d_65 (Conv3D)           (None, 7, 25, 25, 64)     55360     \n",
      "_________________________________________________________________\n",
      "activation_65 (Activation)   (None, 7, 25, 25, 64)     0         \n",
      "_________________________________________________________________\n",
      "batch_normalization_93 (Batc (None, 7, 25, 25, 64)     256       \n",
      "_________________________________________________________________\n",
      "max_pooling3d_65 (MaxPooling (None, 3, 12, 12, 64)     0         \n",
      "_________________________________________________________________\n",
      "conv3d_66 (Conv3D)           (None, 3, 12, 12, 128)    221312    \n",
      "_________________________________________________________________\n",
      "activation_66 (Activation)   (None, 3, 12, 12, 128)    0         \n",
      "_________________________________________________________________\n",
      "batch_normalization_94 (Batc (None, 3, 12, 12, 128)    512       \n",
      "_________________________________________________________________\n",
      "max_pooling3d_66 (MaxPooling (None, 1, 6, 6, 128)      0         \n",
      "_________________________________________________________________\n",
      "flatten_14 (Flatten)         (None, 4608)              0         \n",
      "_________________________________________________________________\n",
      "dense_42 (Dense)             (None, 64)                294976    \n",
      "_________________________________________________________________\n",
      "batch_normalization_95 (Batc (None, 64)                256       \n",
      "_________________________________________________________________\n",
      "dropout_28 (Dropout)         (None, 64)                0         \n",
      "_________________________________________________________________\n",
      "dense_43 (Dense)             (None, 32)                2080      \n",
      "_________________________________________________________________\n",
      "batch_normalization_96 (Batc (None, 32)                128       \n",
      "_________________________________________________________________\n",
      "dropout_29 (Dropout)         (None, 32)                0         \n",
      "_________________________________________________________________\n",
      "dense_44 (Dense)             (None, 5)                 165       \n",
      "=================================================================\n",
      "Total params: 590,405\n",
      "Trainable params: 589,733\n",
      "Non-trainable params: 672\n",
      "_________________________________________________________________\n",
      "None\n"
     ]
    }
   ],
   "source": [
    "optimiser = optimizers.Adam()\n",
    "model.compile(optimizer=optimiser, loss='categorical_crossentropy', metrics=['categorical_accuracy'])\n",
    "print (model.summary())"
   ]
  },
  {
   "cell_type": "markdown",
   "metadata": {},
   "source": [
    "Let us create the `train_generator` and the `val_generator` which will be used in `.fit_generator`."
   ]
  },
  {
   "cell_type": "code",
   "execution_count": 62,
   "metadata": {},
   "outputs": [],
   "source": [
    "train_generator = generator(train_path, train_doc, batch_size)\n",
    "val_generator = generator(val_path, val_doc, batch_size)"
   ]
  },
  {
   "cell_type": "code",
   "execution_count": 63,
   "metadata": {},
   "outputs": [
    {
     "name": "stdout",
     "output_type": "stream",
     "text": [
      "WARNING:tensorflow:`period` argument is deprecated. Please use `save_freq` to specify the frequency in number of batches seen.\n"
     ]
    },
    {
     "name": "stderr",
     "output_type": "stream",
     "text": [
      "WARNING:tensorflow:`period` argument is deprecated. Please use `save_freq` to specify the frequency in number of batches seen.\n"
     ]
    }
   ],
   "source": [
    "model_name = 'model_init' + '_' + str(curr_dt_time).replace(' ','').replace(':','_') + '/'\n",
    "    \n",
    "if not os.path.exists(model_name):\n",
    "    os.mkdir(model_name)\n",
    "        \n",
    "filepath = model_name + 'model-{epoch:05d}-{loss:.5f}-{categorical_accuracy:.5f}-{val_loss:.5f}-{val_categorical_accuracy:.5f}.h5'\n",
    "\n",
    "checkpoint = ModelCheckpoint(filepath, monitor='val_loss', verbose=1, save_best_only=True, save_weights_only=False, mode='auto', period=1)\n",
    "\n",
    "LR = ReduceLROnPlateau(patience=3,verbose=1)\n",
    "callbacks_list = [LR,checkpoint]"
   ]
  },
  {
   "cell_type": "markdown",
   "metadata": {},
   "source": [
    "The `steps_per_epoch` and `validation_steps` are used by `fit_generator` to decide the number of next() calls it need to make."
   ]
  },
  {
   "cell_type": "code",
   "execution_count": 64,
   "metadata": {},
   "outputs": [],
   "source": [
    "if (num_train_sequences%batch_size) == 0:\n",
    "    steps_per_epoch = int(num_train_sequences/batch_size)\n",
    "else:\n",
    "    steps_per_epoch = (num_train_sequences//batch_size) + 1\n",
    "\n",
    "if (num_val_sequences%batch_size) == 0:\n",
    "    validation_steps = int(num_val_sequences/batch_size)\n",
    "else:\n",
    "    validation_steps = (num_val_sequences//batch_size) + 1"
   ]
  },
  {
   "cell_type": "markdown",
   "metadata": {},
   "source": [
    "Let us now fit the model. This will start training the model and with the help of the checkpoints, you'll be able to save the model at the end of each epoch."
   ]
  },
  {
   "cell_type": "code",
   "execution_count": 65,
   "metadata": {
    "scrolled": true,
    "tags": []
   },
   "outputs": [
    {
     "name": "stdout",
     "output_type": "stream",
     "text": [
      "Source path =  datasets/Project_data/train ; batch size = 32\n",
      "Epoch 1/30\n",
      "21/21 [==============================] - ETA: 0s - loss: 1.7515 - categorical_accuracy: 0.3497Source path =  datasets/Project_data/val ; batch size = 32\n",
      "\n",
      "Epoch 00001: val_loss improved from inf to 14.21968, saving model to model_init_2021-07-2514_55_08.244547/model-00001-1.75145-0.34970-14.21968-0.21094.h5\n",
      "21/21 [==============================] - 143s 7s/step - loss: 1.7515 - categorical_accuracy: 0.3497 - val_loss: 14.2197 - val_categorical_accuracy: 0.2109\n",
      "Epoch 2/30\n",
      "21/21 [==============================] - ETA: 0s - loss: 1.2509 - categorical_accuracy: 0.4821\n",
      "Epoch 00002: val_loss improved from 14.21968 to 7.58835, saving model to model_init_2021-07-2514_55_08.244547/model-00002-1.25089-0.48214-7.58835-0.23438.h5\n",
      "21/21 [==============================] - 147s 7s/step - loss: 1.2509 - categorical_accuracy: 0.4821 - val_loss: 7.5883 - val_categorical_accuracy: 0.2344\n",
      "Epoch 3/30\n",
      "21/21 [==============================] - ETA: 0s - loss: 0.9607 - categorical_accuracy: 0.6116\n",
      "Epoch 00003: val_loss improved from 7.58835 to 3.79589, saving model to model_init_2021-07-2514_55_08.244547/model-00003-0.96070-0.61161-3.79589-0.17188.h5\n",
      "21/21 [==============================] - 156s 7s/step - loss: 0.9607 - categorical_accuracy: 0.6116 - val_loss: 3.7959 - val_categorical_accuracy: 0.1719\n",
      "Epoch 4/30\n",
      "21/21 [==============================] - ETA: 0s - loss: 0.8781 - categorical_accuracy: 0.6533\n",
      "Epoch 00004: val_loss improved from 3.79589 to 1.33640, saving model to model_init_2021-07-2514_55_08.244547/model-00004-0.87807-0.65327-1.33640-0.32812.h5\n",
      "21/21 [==============================] - 151s 7s/step - loss: 0.8781 - categorical_accuracy: 0.6533 - val_loss: 1.3364 - val_categorical_accuracy: 0.3281\n",
      "Epoch 5/30\n",
      "21/21 [==============================] - ETA: 0s - loss: 0.6649 - categorical_accuracy: 0.7351\n",
      "Epoch 00005: val_loss improved from 1.33640 to 0.93401, saving model to model_init_2021-07-2514_55_08.244547/model-00005-0.66493-0.73512-0.93401-0.36719.h5\n",
      "21/21 [==============================] - 155s 7s/step - loss: 0.6649 - categorical_accuracy: 0.7351 - val_loss: 0.9340 - val_categorical_accuracy: 0.3672\n",
      "Epoch 6/30\n",
      "21/21 [==============================] - ETA: 0s - loss: 0.5680 - categorical_accuracy: 0.7812\n",
      "Epoch 00006: val_loss improved from 0.93401 to 0.56124, saving model to model_init_2021-07-2514_55_08.244547/model-00006-0.56801-0.78125-0.56124-0.59375.h5\n",
      "21/21 [==============================] - 148s 7s/step - loss: 0.5680 - categorical_accuracy: 0.7812 - val_loss: 0.5612 - val_categorical_accuracy: 0.5938\n",
      "Epoch 7/30\n",
      "21/21 [==============================] - ETA: 0s - loss: 0.4800 - categorical_accuracy: 0.8036\n",
      "Epoch 00007: val_loss improved from 0.56124 to 0.43137, saving model to model_init_2021-07-2514_55_08.244547/model-00007-0.48002-0.80357-0.43137-0.64062.h5\n",
      "21/21 [==============================] - 149s 7s/step - loss: 0.4800 - categorical_accuracy: 0.8036 - val_loss: 0.4314 - val_categorical_accuracy: 0.6406\n",
      "Epoch 8/30\n",
      "21/21 [==============================] - ETA: 0s - loss: 0.3825 - categorical_accuracy: 0.8690\n",
      "Epoch 00008: val_loss improved from 0.43137 to 0.42219, saving model to model_init_2021-07-2514_55_08.244547/model-00008-0.38255-0.86905-0.42219-0.64844.h5\n",
      "21/21 [==============================] - 151s 7s/step - loss: 0.3825 - categorical_accuracy: 0.8690 - val_loss: 0.4222 - val_categorical_accuracy: 0.6484\n",
      "Epoch 9/30\n",
      "21/21 [==============================] - ETA: 0s - loss: 0.3129 - categorical_accuracy: 0.9003\n",
      "Epoch 00009: val_loss improved from 0.42219 to 0.38178, saving model to model_init_2021-07-2514_55_08.244547/model-00009-0.31287-0.90030-0.38178-0.67969.h5\n",
      "21/21 [==============================] - 160s 8s/step - loss: 0.3129 - categorical_accuracy: 0.9003 - val_loss: 0.3818 - val_categorical_accuracy: 0.6797\n",
      "Epoch 10/30\n",
      "21/21 [==============================] - ETA: 0s - loss: 0.2605 - categorical_accuracy: 0.9211\n",
      "Epoch 00010: val_loss did not improve from 0.38178\n",
      "21/21 [==============================] - 156s 7s/step - loss: 0.2605 - categorical_accuracy: 0.9211 - val_loss: 0.4390 - val_categorical_accuracy: 0.6172\n",
      "Epoch 11/30\n",
      "21/21 [==============================] - ETA: 0s - loss: 0.2478 - categorical_accuracy: 0.9256\n",
      "Epoch 00011: val_loss did not improve from 0.38178\n",
      "21/21 [==============================] - 145s 7s/step - loss: 0.2478 - categorical_accuracy: 0.9256 - val_loss: 0.5980 - val_categorical_accuracy: 0.5391\n",
      "Epoch 12/30\n",
      "21/21 [==============================] - ETA: 0s - loss: 0.2080 - categorical_accuracy: 0.9375\n",
      "Epoch 00012: ReduceLROnPlateau reducing learning rate to 0.00010000000474974513.\n",
      "\n",
      "Epoch 00012: val_loss did not improve from 0.38178\n",
      "21/21 [==============================] - 152s 7s/step - loss: 0.2080 - categorical_accuracy: 0.9375 - val_loss: 0.4346 - val_categorical_accuracy: 0.6328\n",
      "Epoch 13/30\n",
      "21/21 [==============================] - ETA: 0s - loss: 0.2063 - categorical_accuracy: 0.9375\n",
      "Epoch 00013: val_loss did not improve from 0.38178\n",
      "21/21 [==============================] - 148s 7s/step - loss: 0.2063 - categorical_accuracy: 0.9375 - val_loss: 0.4023 - val_categorical_accuracy: 0.6250\n",
      "Epoch 14/30\n",
      "21/21 [==============================] - ETA: 0s - loss: 0.1646 - categorical_accuracy: 0.9702\n",
      "Epoch 00014: val_loss improved from 0.38178 to 0.36869, saving model to model_init_2021-07-2514_55_08.244547/model-00014-0.16464-0.97024-0.36869-0.63281.h5\n",
      "21/21 [==============================] - 155s 7s/step - loss: 0.1646 - categorical_accuracy: 0.9702 - val_loss: 0.3687 - val_categorical_accuracy: 0.6328\n",
      "Epoch 15/30\n",
      "21/21 [==============================] - ETA: 0s - loss: 0.1753 - categorical_accuracy: 0.9509\n",
      "Epoch 00015: val_loss improved from 0.36869 to 0.33942, saving model to model_init_2021-07-2514_55_08.244547/model-00015-0.17531-0.95089-0.33942-0.65625.h5\n",
      "21/21 [==============================] - 154s 7s/step - loss: 0.1753 - categorical_accuracy: 0.9509 - val_loss: 0.3394 - val_categorical_accuracy: 0.6562\n",
      "Epoch 16/30\n",
      "21/21 [==============================] - ETA: 0s - loss: 0.1448 - categorical_accuracy: 0.9583\n",
      "Epoch 00016: val_loss improved from 0.33942 to 0.31258, saving model to model_init_2021-07-2514_55_08.244547/model-00016-0.14482-0.95833-0.31258-0.66406.h5\n",
      "21/21 [==============================] - 156s 7s/step - loss: 0.1448 - categorical_accuracy: 0.9583 - val_loss: 0.3126 - val_categorical_accuracy: 0.6641\n",
      "Epoch 17/30\n",
      "21/21 [==============================] - ETA: 0s - loss: 0.1452 - categorical_accuracy: 0.9807\n",
      "Epoch 00017: val_loss improved from 0.31258 to 0.29495, saving model to model_init_2021-07-2514_55_08.244547/model-00017-0.14523-0.98065-0.29495-0.66406.h5\n",
      "21/21 [==============================] - 150s 7s/step - loss: 0.1452 - categorical_accuracy: 0.9807 - val_loss: 0.2950 - val_categorical_accuracy: 0.6641\n",
      "Epoch 18/30\n",
      "21/21 [==============================] - ETA: 0s - loss: 0.1505 - categorical_accuracy: 0.9613\n",
      "Epoch 00018: val_loss improved from 0.29495 to 0.26659, saving model to model_init_2021-07-2514_55_08.244547/model-00018-0.15049-0.96131-0.26659-0.67969.h5\n",
      "21/21 [==============================] - 156s 7s/step - loss: 0.1505 - categorical_accuracy: 0.9613 - val_loss: 0.2666 - val_categorical_accuracy: 0.6797\n",
      "Epoch 19/30\n",
      "21/21 [==============================] - ETA: 0s - loss: 0.1200 - categorical_accuracy: 0.9702\n",
      "Epoch 00019: val_loss did not improve from 0.26659\n",
      "21/21 [==============================] - 154s 7s/step - loss: 0.1200 - categorical_accuracy: 0.9702 - val_loss: 0.2720 - val_categorical_accuracy: 0.6797\n",
      "Epoch 20/30\n",
      "21/21 [==============================] - ETA: 0s - loss: 0.1367 - categorical_accuracy: 0.9702\n",
      "Epoch 00020: val_loss did not improve from 0.26659\n",
      "21/21 [==============================] - 150s 7s/step - loss: 0.1367 - categorical_accuracy: 0.9702 - val_loss: 0.2719 - val_categorical_accuracy: 0.6797\n",
      "Epoch 21/30\n",
      "21/21 [==============================] - ETA: 0s - loss: 0.1325 - categorical_accuracy: 0.9747\n",
      "Epoch 00021: ReduceLROnPlateau reducing learning rate to 1.0000000474974514e-05.\n",
      "\n",
      "Epoch 00021: val_loss did not improve from 0.26659\n",
      "21/21 [==============================] - 157s 7s/step - loss: 0.1325 - categorical_accuracy: 0.9747 - val_loss: 0.2943 - val_categorical_accuracy: 0.6797\n",
      "Epoch 22/30\n",
      "21/21 [==============================] - ETA: 0s - loss: 0.1368 - categorical_accuracy: 0.9688\n",
      "Epoch 00022: val_loss did not improve from 0.26659\n",
      "21/21 [==============================] - 149s 7s/step - loss: 0.1368 - categorical_accuracy: 0.9688 - val_loss: 0.2951 - val_categorical_accuracy: 0.6719\n",
      "Epoch 23/30\n",
      "21/21 [==============================] - ETA: 0s - loss: 0.1068 - categorical_accuracy: 0.9747\n",
      "Epoch 00023: val_loss improved from 0.26659 to 0.26042, saving model to model_init_2021-07-2514_55_08.244547/model-00023-0.10678-0.97470-0.26042-0.68750.h5\n",
      "21/21 [==============================] - 145s 7s/step - loss: 0.1068 - categorical_accuracy: 0.9747 - val_loss: 0.2604 - val_categorical_accuracy: 0.6875\n",
      "Epoch 24/30\n",
      "21/21 [==============================] - ETA: 0s - loss: 0.1336 - categorical_accuracy: 0.9702\n",
      "Epoch 00024: val_loss improved from 0.26042 to 0.25280, saving model to model_init_2021-07-2514_55_08.244547/model-00024-0.13364-0.97024-0.25280-0.70312.h5\n",
      "21/21 [==============================] - 147s 7s/step - loss: 0.1336 - categorical_accuracy: 0.9702 - val_loss: 0.2528 - val_categorical_accuracy: 0.7031\n",
      "Epoch 25/30\n",
      "21/21 [==============================] - ETA: 0s - loss: 0.1370 - categorical_accuracy: 0.9643\n",
      "Epoch 00025: val_loss did not improve from 0.25280\n",
      "21/21 [==============================] - 151s 7s/step - loss: 0.1370 - categorical_accuracy: 0.9643 - val_loss: 0.2609 - val_categorical_accuracy: 0.6875\n",
      "Epoch 26/30\n",
      "21/21 [==============================] - ETA: 0s - loss: 0.1262 - categorical_accuracy: 0.9688\n",
      "Epoch 00026: val_loss improved from 0.25280 to 0.24593, saving model to model_init_2021-07-2514_55_08.244547/model-00026-0.12620-0.96875-0.24593-0.70312.h5\n",
      "21/21 [==============================] - 149s 7s/step - loss: 0.1262 - categorical_accuracy: 0.9688 - val_loss: 0.2459 - val_categorical_accuracy: 0.7031\n",
      "Epoch 27/30\n",
      "21/21 [==============================] - ETA: 0s - loss: 0.1262 - categorical_accuracy: 0.9688\n",
      "Epoch 00027: val_loss improved from 0.24593 to 0.24370, saving model to model_init_2021-07-2514_55_08.244547/model-00027-0.12623-0.96875-0.24370-0.69531.h5\n",
      "21/21 [==============================] - 150s 7s/step - loss: 0.1262 - categorical_accuracy: 0.9688 - val_loss: 0.2437 - val_categorical_accuracy: 0.6953\n",
      "Epoch 28/30\n",
      "21/21 [==============================] - ETA: 0s - loss: 0.1095 - categorical_accuracy: 0.9792\n",
      "Epoch 00028: val_loss improved from 0.24370 to 0.23503, saving model to model_init_2021-07-2514_55_08.244547/model-00028-0.10951-0.97917-0.23503-0.70312.h5\n",
      "21/21 [==============================] - 148s 7s/step - loss: 0.1095 - categorical_accuracy: 0.9792 - val_loss: 0.2350 - val_categorical_accuracy: 0.7031\n",
      "Epoch 29/30\n",
      "21/21 [==============================] - ETA: 0s - loss: 0.1307 - categorical_accuracy: 0.9628\n",
      "Epoch 00029: val_loss improved from 0.23503 to 0.23188, saving model to model_init_2021-07-2514_55_08.244547/model-00029-0.13070-0.96280-0.23188-0.70312.h5\n",
      "21/21 [==============================] - 150s 7s/step - loss: 0.1307 - categorical_accuracy: 0.9628 - val_loss: 0.2319 - val_categorical_accuracy: 0.7031\n",
      "Epoch 30/30\n",
      "21/21 [==============================] - ETA: 0s - loss: 0.1210 - categorical_accuracy: 0.9807\n",
      "Epoch 00030: val_loss improved from 0.23188 to 0.23165, saving model to model_init_2021-07-2514_55_08.244547/model-00030-0.12103-0.98065-0.23165-0.70312.h5\n",
      "21/21 [==============================] - 151s 7s/step - loss: 0.1210 - categorical_accuracy: 0.9807 - val_loss: 0.2316 - val_categorical_accuracy: 0.7031\n"
     ]
    },
    {
     "data": {
      "text/plain": [
       "<tensorflow.python.keras.callbacks.History at 0x7fe9742d0e10>"
      ]
     },
     "execution_count": 65,
     "metadata": {},
     "output_type": "execute_result"
    }
   ],
   "source": [
    "model.fit_generator(train_generator, steps_per_epoch=steps_per_epoch, epochs=num_epochs, verbose=1, \n",
    "                    callbacks=callbacks_list, validation_data=val_generator, \n",
    "                    validation_steps=validation_steps, class_weight=None, workers=-1,use_multiprocessing=True, initial_epoch=0)"
   ]
  },
  {
   "cell_type": "markdown",
   "metadata": {},
   "source": [
    "### On reducing the no of parameters validation accuracy has improved to 70.31%% and categorical_accuracy is 98.07%, but it shows that model is highly overfitting data. So we will try next to increduce augmentation in the next model."
   ]
  },
  {
   "cell_type": "markdown",
   "metadata": {},
   "source": [
    "#### Accuracy: 98.07%\n",
    "#### Validation Acc: 70.31%\n",
    "\n",
    "#### Result: The model is overfitting the data"
   ]
  },
  {
   "cell_type": "markdown",
   "metadata": {},
   "source": [
    "## Model 3: Conv3D with ImageDataGenerator"
   ]
  },
  {
   "cell_type": "markdown",
   "metadata": {},
   "source": [
    "#### Introducing data augmentation in generator to reduce overfitting"
   ]
  },
  {
   "cell_type": "code",
   "execution_count": 12,
   "metadata": {},
   "outputs": [],
   "source": [
    "model = Sequential()\n",
    "\n",
    "model.add(Conv3D(filters=16,input_shape=(x,y,z,3),kernel_size=(3, 3, 3),padding='same', activation='relu'))\n",
    "model.add(Activation('relu'))\n",
    "model.add(BatchNormalization())\n",
    "model.add(MaxPooling3D(pool_size=(2, 2, 2)))\n",
    "\n",
    "model.add(Conv3D(filters=32,kernel_size=(3, 3, 3),padding='same', activation='relu'))\n",
    "model.add(Activation('relu'))\n",
    "model.add(BatchNormalization())\n",
    "model.add(MaxPooling3D(pool_size=(2, 2, 2)))\n",
    "\n",
    "model.add(Conv3D(filters=64,kernel_size=(3, 3, 3),padding='same', activation='relu'))\n",
    "model.add(Activation('relu'))\n",
    "model.add(BatchNormalization())\n",
    "model.add(MaxPooling3D(pool_size=(2, 2, 2)))\n",
    "\n",
    "model.add(Conv3D(filters=128,kernel_size=(3, 3, 3),padding='same', activation='relu'))\n",
    "model.add(Activation('relu'))\n",
    "model.add(BatchNormalization())\n",
    "model.add(MaxPooling3D(pool_size=(2, 2, 2)))\n",
    "\n",
    "model.add(Flatten())\n",
    "model.add(Dense(units=64, activation='relu'))\n",
    "model.add(BatchNormalization())\n",
    "model.add(Dropout(0.25))\n",
    "\n",
    "model.add(Dense(units=64, activation='relu'))\n",
    "model.add(BatchNormalization())\n",
    "model.add(Dropout(0.25))\n",
    "\n",
    "model.add(Dense(units=5, activation='softmax'))"
   ]
  },
  {
   "cell_type": "markdown",
   "metadata": {},
   "source": [
    "Now that we have written the model, the next step is to `compile` the model. When `summary` of the model is printed, the total number of parameters is seen that has to be trained."
   ]
  },
  {
   "cell_type": "code",
   "execution_count": 13,
   "metadata": {
    "scrolled": true
   },
   "outputs": [
    {
     "name": "stdout",
     "output_type": "stream",
     "text": [
      "Model: \"sequential_1\"\n",
      "_________________________________________________________________\n",
      "Layer (type)                 Output Shape              Param #   \n",
      "=================================================================\n",
      "conv3d_4 (Conv3D)            (None, 30, 100, 100, 16)  1312      \n",
      "_________________________________________________________________\n",
      "activation_4 (Activation)    (None, 30, 100, 100, 16)  0         \n",
      "_________________________________________________________________\n",
      "batch_normalization_6 (Batch (None, 30, 100, 100, 16)  64        \n",
      "_________________________________________________________________\n",
      "max_pooling3d_4 (MaxPooling3 (None, 15, 50, 50, 16)    0         \n",
      "_________________________________________________________________\n",
      "conv3d_5 (Conv3D)            (None, 15, 50, 50, 32)    13856     \n",
      "_________________________________________________________________\n",
      "activation_5 (Activation)    (None, 15, 50, 50, 32)    0         \n",
      "_________________________________________________________________\n",
      "batch_normalization_7 (Batch (None, 15, 50, 50, 32)    128       \n",
      "_________________________________________________________________\n",
      "max_pooling3d_5 (MaxPooling3 (None, 7, 25, 25, 32)     0         \n",
      "_________________________________________________________________\n",
      "conv3d_6 (Conv3D)            (None, 7, 25, 25, 64)     55360     \n",
      "_________________________________________________________________\n",
      "activation_6 (Activation)    (None, 7, 25, 25, 64)     0         \n",
      "_________________________________________________________________\n",
      "batch_normalization_8 (Batch (None, 7, 25, 25, 64)     256       \n",
      "_________________________________________________________________\n",
      "max_pooling3d_6 (MaxPooling3 (None, 3, 12, 12, 64)     0         \n",
      "_________________________________________________________________\n",
      "conv3d_7 (Conv3D)            (None, 3, 12, 12, 128)    221312    \n",
      "_________________________________________________________________\n",
      "activation_7 (Activation)    (None, 3, 12, 12, 128)    0         \n",
      "_________________________________________________________________\n",
      "batch_normalization_9 (Batch (None, 3, 12, 12, 128)    512       \n",
      "_________________________________________________________________\n",
      "max_pooling3d_7 (MaxPooling3 (None, 1, 6, 6, 128)      0         \n",
      "_________________________________________________________________\n",
      "flatten_1 (Flatten)          (None, 4608)              0         \n",
      "_________________________________________________________________\n",
      "dense_3 (Dense)              (None, 64)                294976    \n",
      "_________________________________________________________________\n",
      "batch_normalization_10 (Batc (None, 64)                256       \n",
      "_________________________________________________________________\n",
      "dropout_2 (Dropout)          (None, 64)                0         \n",
      "_________________________________________________________________\n",
      "dense_4 (Dense)              (None, 64)                4160      \n",
      "_________________________________________________________________\n",
      "batch_normalization_11 (Batc (None, 64)                256       \n",
      "_________________________________________________________________\n",
      "dropout_3 (Dropout)          (None, 64)                0         \n",
      "_________________________________________________________________\n",
      "dense_5 (Dense)              (None, 5)                 325       \n",
      "=================================================================\n",
      "Total params: 592,773\n",
      "Trainable params: 592,037\n",
      "Non-trainable params: 736\n",
      "_________________________________________________________________\n",
      "None\n"
     ]
    }
   ],
   "source": [
    "optimiser = optimizers.Adam()\n",
    "model.compile(optimizer=optimiser, loss='categorical_crossentropy', metrics=['categorical_accuracy'])\n",
    "print (model.summary())"
   ]
  },
  {
   "cell_type": "markdown",
   "metadata": {},
   "source": [
    "Let us create the `train_generator` and the `val_generator` which will be used in `.fit_generator`."
   ]
  },
  {
   "cell_type": "code",
   "execution_count": 14,
   "metadata": {},
   "outputs": [],
   "source": [
    "batch_size = 20\n",
    "\n",
    "train_generator = generator(train_path, train_doc, batch_size, 1)\n",
    "val_generator = generator(val_path, val_doc, batch_size)"
   ]
  },
  {
   "cell_type": "code",
   "execution_count": 15,
   "metadata": {},
   "outputs": [
    {
     "name": "stdout",
     "output_type": "stream",
     "text": [
      "WARNING:tensorflow:`period` argument is deprecated. Please use `save_freq` to specify the frequency in number of batches seen.\n"
     ]
    }
   ],
   "source": [
    "model_name = 'model_init' + '_' + str(curr_dt_time).replace(' ','').replace(':','_') + '/'\n",
    "    \n",
    "if not os.path.exists(model_name):\n",
    "    os.mkdir(model_name)\n",
    "        \n",
    "filepath = model_name + 'model-{epoch:05d}-{loss:.5f}-{categorical_accuracy:.5f}-{val_loss:.5f}-{val_categorical_accuracy:.5f}.h5'\n",
    "\n",
    "checkpoint = ModelCheckpoint(filepath, monitor='val_loss', verbose=1, save_best_only=True, save_weights_only=False, mode='auto', period=1)\n",
    "\n",
    "LR = ReduceLROnPlateau(patience=2,verbose=1)\n",
    "callbacks_list = [LR,checkpoint]"
   ]
  },
  {
   "cell_type": "markdown",
   "metadata": {},
   "source": [
    "The `steps_per_epoch` and `validation_steps` are used by `fit_generator` to decide the number of next() calls it need to make."
   ]
  },
  {
   "cell_type": "code",
   "execution_count": 16,
   "metadata": {},
   "outputs": [],
   "source": [
    "if (num_train_sequences%batch_size) == 0:\n",
    "    steps_per_epoch = int(num_train_sequences/batch_size)\n",
    "else:\n",
    "    steps_per_epoch = (num_train_sequences//batch_size) + 1\n",
    "\n",
    "if (num_val_sequences%batch_size) == 0:\n",
    "    validation_steps = int(num_val_sequences/batch_size)\n",
    "else:\n",
    "    validation_steps = (num_val_sequences//batch_size) + 1"
   ]
  },
  {
   "cell_type": "markdown",
   "metadata": {},
   "source": [
    "Let us now fit the model. This will start training the model and with the help of the checkpoints, you'll be able to save the model at the end of each epoch."
   ]
  },
  {
   "cell_type": "code",
   "execution_count": 17,
   "metadata": {
    "tags": []
   },
   "outputs": [
    {
     "name": "stdout",
     "output_type": "stream",
     "text": [
      "WARNING:tensorflow:From <ipython-input-17-bd77c9c60c14>:3: Model.fit_generator (from tensorflow.python.keras.engine.training) is deprecated and will be removed in a future version.\n",
      "Instructions for updating:\n",
      "Please use Model.fit, which supports generators.\n",
      "Source path =  datasets/Project_data/train ; batch size = 20\n",
      "Epoch 1/30\n",
      "34/34 [==============================] - ETA: 0s - loss: 1.5353 - categorical_accuracy: 0.4110 Source path =  datasets/Project_data/val ; batch size = 20\n",
      "\n",
      "Epoch 00001: val_loss improved from inf to 24.90423, saving model to model_init_2021-07-2905_37_08.783255/model-00001-1.53532-0.41101-24.90423-0.23000.h5\n",
      "34/34 [==============================] - 367s 11s/step - loss: 1.5353 - categorical_accuracy: 0.4110 - val_loss: 24.9042 - val_categorical_accuracy: 0.2300\n",
      "Epoch 2/30\n",
      "34/34 [==============================] - ETA: 0s - loss: 1.1401 - categorical_accuracy: 0.5588\n",
      "Epoch 00002: val_loss improved from 24.90423 to 4.38279, saving model to model_init_2021-07-2905_37_08.783255/model-00002-1.14010-0.55882-4.38279-0.26000.h5\n",
      "34/34 [==============================] - 356s 10s/step - loss: 1.1401 - categorical_accuracy: 0.5588 - val_loss: 4.3828 - val_categorical_accuracy: 0.2600\n",
      "Epoch 3/30\n",
      "34/34 [==============================] - ETA: 0s - loss: 0.7149 - categorical_accuracy: 0.7217\n",
      "Epoch 00003: val_loss improved from 4.38279 to 2.21164, saving model to model_init_2021-07-2905_37_08.783255/model-00003-0.71489-0.72172-2.21164-0.39000.h5\n",
      "34/34 [==============================] - 354s 10s/step - loss: 0.7149 - categorical_accuracy: 0.7217 - val_loss: 2.2116 - val_categorical_accuracy: 0.3900\n",
      "Epoch 4/30\n",
      "34/34 [==============================] - ETA: 0s - loss: 0.5462 - categorical_accuracy: 0.7956 \n",
      "Epoch 00004: val_loss improved from 2.21164 to 0.68005, saving model to model_init_2021-07-2905_37_08.783255/model-00004-0.54619-0.79563-0.68005-0.77000.h5\n",
      "34/34 [==============================] - 360s 11s/step - loss: 0.5462 - categorical_accuracy: 0.7956 - val_loss: 0.6801 - val_categorical_accuracy: 0.7700\n",
      "Epoch 5/30\n",
      "34/34 [==============================] - ETA: 0s - loss: 0.3185 - categorical_accuracy: 0.8967\n",
      "Epoch 00005: val_loss improved from 0.68005 to 0.64449, saving model to model_init_2021-07-2905_37_08.783255/model-00005-0.31848-0.89668-0.64449-0.73000.h5\n",
      "34/34 [==============================] - 355s 10s/step - loss: 0.3185 - categorical_accuracy: 0.8967 - val_loss: 0.6445 - val_categorical_accuracy: 0.7300\n",
      "Epoch 6/30\n",
      "34/34 [==============================] - ETA: 0s - loss: 0.2005 - categorical_accuracy: 0.9472\n",
      "Epoch 00006: val_loss improved from 0.64449 to 0.54540, saving model to model_init_2021-07-2905_37_08.783255/model-00006-0.20046-0.94721-0.54540-0.75000.h5\n",
      "34/34 [==============================] - 357s 11s/step - loss: 0.2005 - categorical_accuracy: 0.9472 - val_loss: 0.5454 - val_categorical_accuracy: 0.7500\n",
      "Epoch 7/30\n",
      "34/34 [==============================] - ETA: 0s - loss: 0.0923 - categorical_accuracy: 0.9857\n",
      "Epoch 00008: ReduceLROnPlateau reducing learning rate to 0.00010000000474974513.\n",
      "\n",
      "Epoch 00008: val_loss did not improve from 0.54540\n",
      "34/34 [==============================] - 356s 10s/step - loss: 0.0923 - categorical_accuracy: 0.9857 - val_loss: 0.6288 - val_categorical_accuracy: 0.8000\n",
      "Epoch 9/30\n",
      "34/34 [==============================] - ETA: 0s - loss: 0.0697 - categorical_accuracy: 0.9864\n",
      "Epoch 00009: val_loss improved from 0.54540 to 0.41520, saving model to model_init_2021-07-2905_37_08.783255/model-00009-0.06969-0.98643-0.41520-0.85000.h5\n",
      "34/34 [==============================] - 353s 10s/step - loss: 0.0697 - categorical_accuracy: 0.9864 - val_loss: 0.4152 - val_categorical_accuracy: 0.8500\n",
      "Epoch 10/30\n",
      "34/34 [==============================] - ETA: 0s - loss: 0.0520 - categorical_accuracy: 0.9947\n",
      "Epoch 00010: val_loss improved from 0.41520 to 0.31409, saving model to model_init_2021-07-2905_37_08.783255/model-00010-0.05205-0.99472-0.31409-0.87000.h5\n",
      "34/34 [==============================] - 352s 10s/step - loss: 0.0520 - categorical_accuracy: 0.9947 - val_loss: 0.3141 - val_categorical_accuracy: 0.8700\n",
      "Epoch 11/30\n",
      "34/34 [==============================] - ETA: 0s - loss: 0.0479 - categorical_accuracy: 0.9985\n",
      "Epoch 00011: val_loss improved from 0.31409 to 0.26641, saving model to model_init_2021-07-2905_37_08.783255/model-00011-0.04790-0.99849-0.26641-0.91000.h5\n",
      "34/34 [==============================] - 355s 10s/step - loss: 0.0479 - categorical_accuracy: 0.9985 - val_loss: 0.2664 - val_categorical_accuracy: 0.9100\n",
      "Epoch 12/30\n",
      "34/34 [==============================] - ETA: 0s - loss: 0.0487 - categorical_accuracy: 0.9962 \n",
      "Epoch 00012: val_loss improved from 0.26641 to 0.24024, saving model to model_init_2021-07-2905_37_08.783255/model-00012-0.04873-0.99623-0.24024-0.92000.h5\n",
      "34/34 [==============================] - 368s 11s/step - loss: 0.0487 - categorical_accuracy: 0.9962 - val_loss: 0.2402 - val_categorical_accuracy: 0.9200\n",
      "Epoch 13/30\n",
      "34/34 [==============================] - ETA: 0s - loss: 0.0425 - categorical_accuracy: 0.9970 \n",
      "Epoch 00013: val_loss improved from 0.24024 to 0.23131, saving model to model_init_2021-07-2905_37_08.783255/model-00013-0.04247-0.99698-0.23131-0.92000.h5\n",
      "34/34 [==============================] - 370s 11s/step - loss: 0.0425 - categorical_accuracy: 0.9970 - val_loss: 0.2313 - val_categorical_accuracy: 0.9200\n",
      "Epoch 14/30\n",
      "34/34 [==============================] - ETA: 0s - loss: 0.0414 - categorical_accuracy: 0.9970 \n",
      "Epoch 00014: val_loss improved from 0.23131 to 0.22014, saving model to model_init_2021-07-2905_37_08.783255/model-00014-0.04137-0.99698-0.22014-0.95000.h5\n",
      "34/34 [==============================] - 371s 11s/step - loss: 0.0414 - categorical_accuracy: 0.9970 - val_loss: 0.2201 - val_categorical_accuracy: 0.9500\n",
      "Epoch 15/30\n",
      "34/34 [==============================] - ETA: 0s - loss: 0.0468 - categorical_accuracy: 0.9970 \n",
      "Epoch 00015: val_loss improved from 0.22014 to 0.21518, saving model to model_init_2021-07-2905_37_08.783255/model-00015-0.04682-0.99698-0.21518-0.95000.h5\n",
      "34/34 [==============================] - 378s 11s/step - loss: 0.0468 - categorical_accuracy: 0.9970 - val_loss: 0.2152 - val_categorical_accuracy: 0.9500\n",
      "Epoch 16/30\n",
      "34/34 [==============================] - ETA: 0s - loss: 0.0359 - categorical_accuracy: 0.9992 \n",
      "Epoch 00016: val_loss improved from 0.21518 to 0.20376, saving model to model_init_2021-07-2905_37_08.783255/model-00016-0.03585-0.99925-0.20376-0.96000.h5\n",
      "34/34 [==============================] - 462s 14s/step - loss: 0.0359 - categorical_accuracy: 0.9992 - val_loss: 0.2038 - val_categorical_accuracy: 0.9600\n",
      "Epoch 17/30\n",
      "34/34 [==============================] - ETA: 0s - loss: 0.0330 - categorical_accuracy: 0.9985 \n",
      "Epoch 00017: val_loss improved from 0.20376 to 0.19973, saving model to model_init_2021-07-2905_37_08.783255/model-00017-0.03303-0.99849-0.19973-0.96000.h5\n",
      "34/34 [==============================] - 457s 13s/step - loss: 0.0330 - categorical_accuracy: 0.9985 - val_loss: 0.1997 - val_categorical_accuracy: 0.9600\n",
      "Epoch 18/30\n",
      "34/34 [==============================] - ETA: 0s - loss: 0.0336 - categorical_accuracy: 0.9992 \n",
      "Epoch 00018: val_loss improved from 0.19973 to 0.19342, saving model to model_init_2021-07-2905_37_08.783255/model-00018-0.03360-0.99925-0.19342-0.95000.h5\n",
      "34/34 [==============================] - 449s 13s/step - loss: 0.0336 - categorical_accuracy: 0.9992 - val_loss: 0.1934 - val_categorical_accuracy: 0.9500\n",
      "Epoch 19/30\n",
      "34/34 [==============================] - ETA: 0s - loss: 0.0336 - categorical_accuracy: 0.9992 \n",
      "Epoch 00019: val_loss did not improve from 0.19342\n",
      "34/34 [==============================] - 465s 14s/step - loss: 0.0336 - categorical_accuracy: 0.9992 - val_loss: 0.2016 - val_categorical_accuracy: 0.9400\n",
      "Epoch 20/30\n",
      "34/34 [==============================] - ETA: 0s - loss: 0.0298 - categorical_accuracy: 0.9985 \n",
      "Epoch 00020: ReduceLROnPlateau reducing learning rate to 1.0000000474974514e-05.\n",
      "\n",
      "Epoch 00020: val_loss did not improve from 0.19342\n",
      "34/34 [==============================] - 477s 14s/step - loss: 0.0298 - categorical_accuracy: 0.9985 - val_loss: 0.1999 - val_categorical_accuracy: 0.9400\n",
      "Epoch 21/30\n",
      "34/34 [==============================] - ETA: 0s - loss: 0.0297 - categorical_accuracy: 0.9985 \n",
      "Epoch 00021: val_loss did not improve from 0.19342\n",
      "34/34 [==============================] - 493s 14s/step - loss: 0.0297 - categorical_accuracy: 0.9985 - val_loss: 0.1961 - val_categorical_accuracy: 0.9400\n",
      "Epoch 22/30\n",
      "34/34 [==============================] - ETA: 0s - loss: 0.0305 - categorical_accuracy: 0.9992 \n",
      "Epoch 00022: ReduceLROnPlateau reducing learning rate to 1.0000000656873453e-06.\n",
      "\n",
      "Epoch 00022: val_loss did not improve from 0.19342\n",
      "34/34 [==============================] - 486s 14s/step - loss: 0.0305 - categorical_accuracy: 0.9992 - val_loss: 0.1940 - val_categorical_accuracy: 0.9500\n",
      "Epoch 23/30\n",
      "34/34 [==============================] - ETA: 0s - loss: 0.0282 - categorical_accuracy: 1.0000 \n",
      "Epoch 00023: val_loss improved from 0.19342 to 0.19263, saving model to model_init_2021-07-2905_37_08.783255/model-00023-0.02816-1.00000-0.19263-0.95000.h5\n",
      "34/34 [==============================] - 440s 13s/step - loss: 0.0282 - categorical_accuracy: 1.0000 - val_loss: 0.1926 - val_categorical_accuracy: 0.9500\n",
      "Epoch 24/30\n",
      "34/34 [==============================] - ETA: 0s - loss: 0.0301 - categorical_accuracy: 0.9970 \n",
      "Epoch 00024: val_loss improved from 0.19263 to 0.19154, saving model to model_init_2021-07-2905_37_08.783255/model-00024-0.03013-0.99698-0.19154-0.95000.h5\n",
      "34/34 [==============================] - 405s 12s/step - loss: 0.0301 - categorical_accuracy: 0.9970 - val_loss: 0.1915 - val_categorical_accuracy: 0.9500\n",
      "Epoch 25/30\n",
      "34/34 [==============================] - ETA: 0s - loss: 0.0299 - categorical_accuracy: 0.9985 \n",
      "Epoch 00025: val_loss improved from 0.19154 to 0.19110, saving model to model_init_2021-07-2905_37_08.783255/model-00025-0.02986-0.99849-0.19110-0.95000.h5\n",
      "34/34 [==============================] - 371s 11s/step - loss: 0.0299 - categorical_accuracy: 0.9985 - val_loss: 0.1911 - val_categorical_accuracy: 0.9500\n",
      "Epoch 26/30\n",
      "34/34 [==============================] - ETA: 0s - loss: 0.0310 - categorical_accuracy: 0.9985 \n",
      "Epoch 00026: val_loss improved from 0.19110 to 0.19059, saving model to model_init_2021-07-2905_37_08.783255/model-00026-0.03098-0.99849-0.19059-0.95000.h5\n",
      "34/34 [==============================] - 374s 11s/step - loss: 0.0310 - categorical_accuracy: 0.9985 - val_loss: 0.1906 - val_categorical_accuracy: 0.9500\n",
      "Epoch 27/30\n",
      "34/34 [==============================] - ETA: 0s - loss: 0.0305 - categorical_accuracy: 0.9985 \n",
      "Epoch 00027: val_loss improved from 0.19059 to 0.19043, saving model to model_init_2021-07-2905_37_08.783255/model-00027-0.03049-0.99849-0.19043-0.95000.h5\n",
      "34/34 [==============================] - 371s 11s/step - loss: 0.0305 - categorical_accuracy: 0.9985 - val_loss: 0.1904 - val_categorical_accuracy: 0.9500\n",
      "Epoch 28/30\n",
      "34/34 [==============================] - ETA: 0s - loss: 0.0304 - categorical_accuracy: 0.9985 \n",
      "Epoch 00028: val_loss improved from 0.19043 to 0.19019, saving model to model_init_2021-07-2905_37_08.783255/model-00028-0.03044-0.99849-0.19019-0.95000.h5\n",
      "34/34 [==============================] - 371s 11s/step - loss: 0.0304 - categorical_accuracy: 0.9985 - val_loss: 0.1902 - val_categorical_accuracy: 0.9500\n",
      "Epoch 29/30\n",
      "34/34 [==============================] - ETA: 0s - loss: 0.0292 - categorical_accuracy: 0.9992 \n",
      "Epoch 00029: val_loss improved from 0.19019 to 0.18940, saving model to model_init_2021-07-2905_37_08.783255/model-00029-0.02920-0.99925-0.18940-0.95000.h5\n",
      "34/34 [==============================] - 372s 11s/step - loss: 0.0292 - categorical_accuracy: 0.9992 - val_loss: 0.1894 - val_categorical_accuracy: 0.9500\n",
      "Epoch 30/30\n",
      "34/34 [==============================] - ETA: 0s - loss: 0.0323 - categorical_accuracy: 0.9985 \n",
      "Epoch 00030: val_loss did not improve from 0.18940\n",
      "34/34 [==============================] - 372s 11s/step - loss: 0.0323 - categorical_accuracy: 0.9985 - val_loss: 0.1895 - val_categorical_accuracy: 0.9500\n"
     ]
    },
    {
     "data": {
      "text/plain": [
       "<tensorflow.python.keras.callbacks.History at 0x7f0cef41d940>"
      ]
     },
     "execution_count": 17,
     "metadata": {},
     "output_type": "execute_result"
    }
   ],
   "source": [
    "model.fit_generator(train_generator, steps_per_epoch=steps_per_epoch, epochs=num_epochs, verbose=1, \n",
    "                    callbacks=callbacks_list, validation_data=val_generator, \n",
    "                    validation_steps=validation_steps, class_weight=None, workers=1, initial_epoch=0)"
   ]
  },
  {
   "cell_type": "code",
   "execution_count": 20,
   "metadata": {},
   "outputs": [],
   "source": [
    "convAugModel = model"
   ]
  },
  {
   "cell_type": "code",
   "execution_count": 21,
   "metadata": {},
   "outputs": [
    {
     "data": {
      "image/png": "[encoded data removed]",
      "text/plain": [
       "<Figure size 1080x288 with 2 Axes>"
      ]
     },
     "metadata": {
      "needs_background": "light"
     },
     "output_type": "display_data"
    }
   ],
   "source": [
    "plot(convAugModel)"
   ]
  },
  {
   "cell_type": "markdown",
   "metadata": {},
   "source": [
    "We can see that data augmentation has greatly increased validation accuracy and <b>reduced overfitting</b> on the data."
   ]
  },
  {
   "cell_type": "markdown",
   "metadata": {},
   "source": [
    "#### Accuracy: 99.85%\n",
    "#### Validation Acc: 95%\n",
    "\n",
    "#### Result: The model is giving very good accuracy for both training and validation datasets"
   ]
  },
  {
   "cell_type": "markdown",
   "metadata": {},
   "source": [
    "## Model 4: MobileNet V2 Transfer Learning Model with LSTM"
   ]
  },
  {
   "cell_type": "code",
   "execution_count": 31,
   "metadata": {},
   "outputs": [
    {
     "name": "stdout",
     "output_type": "stream",
     "text": [
      "WARNING:tensorflow:`input_shape` is undefined or non-square, or `rows` is not in [96, 128, 160, 192, 224]. Weights for input shape (224, 224) will be loaded as the default.\n"
     ]
    }
   ],
   "source": [
    "mobilenetModel = MobileNetV2(\n",
    "    include_top=False,\n",
    "    weights=\"imagenet\"\n",
    ")\n",
    "\n",
    "model = Sequential()\n",
    "\n",
    "model.add(TimeDistributed(mobilenetModel, input_shape=(x,y,z,3)))\n",
    "for layer in model.layers:\n",
    "    layer.trainable = False\n",
    "model.add(TimeDistributed(BatchNormalization()))\n",
    "model.add(TimeDistributed(MaxPooling2D(pool_size=(2, 2))))\n",
    "# model.add(MaxPooling3D(pool_size=(2, 2, 2)))\n",
    "model.add(TimeDistributed(Flatten()))\n",
    "\n",
    "model.add(LSTM(64))\n",
    "model.add(Dropout(0.25))\n",
    "\n",
    "model.add(Dense(64,activation='relu'))\n",
    "model.add(Dropout(0.25))\n",
    "\n",
    "model.add(Dense(5, activation='softmax'))"
   ]
  },
  {
   "cell_type": "code",
   "execution_count": 32,
   "metadata": {},
   "outputs": [
    {
     "name": "stdout",
     "output_type": "stream",
     "text": [
      "Model: \"sequential_8\"\n",
      "_________________________________________________________________\n",
      "Layer (type)                 Output Shape              Param #   \n",
      "=================================================================\n",
      "time_distributed_21 (TimeDis (None, 30, 3, 3, 1280)    2257984   \n",
      "_________________________________________________________________\n",
      "time_distributed_22 (TimeDis (None, 30, 3, 3, 1280)    5120      \n",
      "_________________________________________________________________\n",
      "time_distributed_23 (TimeDis (None, 30, 1, 1, 1280)    0         \n",
      "_________________________________________________________________\n",
      "time_distributed_24 (TimeDis (None, 30, 1280)          0         \n",
      "_________________________________________________________________\n",
      "lstm_1 (LSTM)                (None, 64)                344320    \n",
      "_________________________________________________________________\n",
      "dropout_2 (Dropout)          (None, 64)                0         \n",
      "_________________________________________________________________\n",
      "dense_2 (Dense)              (None, 64)                4160      \n",
      "_________________________________________________________________\n",
      "dropout_3 (Dropout)          (None, 64)                0         \n",
      "_________________________________________________________________\n",
      "dense_3 (Dense)              (None, 5)                 325       \n",
      "=================================================================\n",
      "Total params: 2,611,909\n",
      "Trainable params: 351,365\n",
      "Non-trainable params: 2,260,544\n",
      "_________________________________________________________________\n",
      "None\n"
     ]
    }
   ],
   "source": [
    "optimiser = optimizers.Adam()\n",
    "model.compile(optimizer=optimiser, loss='categorical_crossentropy', metrics=['categorical_accuracy'])\n",
    "print (model.summary())"
   ]
  },
  {
   "cell_type": "markdown",
   "metadata": {},
   "source": [
    "The `steps_per_epoch` and `validation_steps` are used by `fit_generator` to decide the number of next() calls it need to make."
   ]
  },
  {
   "cell_type": "markdown",
   "metadata": {},
   "source": [
    "Let us now fit the model. This will start training the model and with the help of the checkpoints, you'll be able to save the model at the end of each epoch."
   ]
  },
  {
   "cell_type": "code",
   "execution_count": 34,
   "metadata": {},
   "outputs": [],
   "source": [
    "batch_size = 32\n",
    "\n",
    "train_generator = generator(train_path, train_doc, batch_size)\n",
    "val_generator = generator(val_path, val_doc, batch_size)"
   ]
  },
  {
   "cell_type": "code",
   "execution_count": 35,
   "metadata": {},
   "outputs": [
    {
     "name": "stdout",
     "output_type": "stream",
     "text": [
      "WARNING:tensorflow:`period` argument is deprecated. Please use `save_freq` to specify the frequency in number of batches seen.\n"
     ]
    }
   ],
   "source": [
    "model_name = 'model_init' + '_' + str(curr_dt_time).replace(' ','').replace(':','_') + '/'\n",
    "    \n",
    "if not os.path.exists(model_name):\n",
    "    os.mkdir(model_name)\n",
    "        \n",
    "filepath = model_name + 'model-{epoch:05d}-{loss:.5f}-{categorical_accuracy:.5f}-{val_loss:.5f}-{val_categorical_accuracy:.5f}.h5'\n",
    "\n",
    "checkpoint = ModelCheckpoint(filepath, monitor='val_loss', verbose=1, save_best_only=True, save_weights_only=False, mode='auto', period=1)\n",
    "\n",
    "LR = ReduceLROnPlateau(patience=2,verbose=1)\n",
    "callbacks_list = [LR,checkpoint]"
   ]
  },
  {
   "cell_type": "markdown",
   "metadata": {},
   "source": [
    "The `steps_per_epoch` and `validation_steps` are used by `fit_generator` to decide the number of next() calls it need to make."
   ]
  },
  {
   "cell_type": "code",
   "execution_count": 36,
   "metadata": {},
   "outputs": [],
   "source": [
    "if (num_train_sequences%batch_size) == 0:\n",
    "    steps_per_epoch = int(num_train_sequences/batch_size)\n",
    "else:\n",
    "    steps_per_epoch = (num_train_sequences//batch_size) + 1\n",
    "\n",
    "if (num_val_sequences%batch_size) == 0:\n",
    "    validation_steps = int(num_val_sequences/batch_size)\n",
    "else:\n",
    "    validation_steps = (num_val_sequences//batch_size) + 1"
   ]
  },
  {
   "cell_type": "code",
   "execution_count": 37,
   "metadata": {
    "tags": []
   },
   "outputs": [
    {
     "name": "stdout",
     "output_type": "stream",
     "text": [
      "Source path =  datasets/Project_data/train ; batch size = 32\n",
      "Epoch 1/30\n",
      "21/21 [==============================] - ETA: 0s - loss: 1.6565 - categorical_accuracy: 0.2112Source path =  datasets/Project_data/val ; batch size = 32\n",
      "\n",
      "Epoch 00001: val_loss improved from inf to 1.61004, saving model to model_init_2021-07-2706_00_58.975007/model-00001-1.65655-0.21116-1.61004-0.21000.h5\n",
      "21/21 [==============================] - 142s 7s/step - loss: 1.6565 - categorical_accuracy: 0.2112 - val_loss: 1.6100 - val_categorical_accuracy: 0.2100\n",
      "Epoch 2/30\n",
      "21/21 [==============================] - ETA: 0s - loss: 1.5484 - categorical_accuracy: 0.2836\n",
      "Epoch 00002: val_loss improved from 1.61004 to 1.58798, saving model to model_init_2021-07-2706_00_58.975007/model-00002-1.54845-0.28356-1.58798-0.25000.h5\n",
      "21/21 [==============================] - 140s 7s/step - loss: 1.5484 - categorical_accuracy: 0.2836 - val_loss: 1.5880 - val_categorical_accuracy: 0.2500\n",
      "Epoch 3/30\n",
      "21/21 [==============================] - ETA: 0s - loss: 1.4431 - categorical_accuracy: 0.3786\n",
      "Epoch 00003: val_loss improved from 1.58798 to 1.53937, saving model to model_init_2021-07-2706_00_58.975007/model-00003-1.44308-0.37858-1.53937-0.31000.h5\n",
      "21/21 [==============================] - 140s 7s/step - loss: 1.4431 - categorical_accuracy: 0.3786 - val_loss: 1.5394 - val_categorical_accuracy: 0.3100\n",
      "Epoch 4/30\n",
      "21/21 [==============================] - ETA: 0s - loss: 1.3740 - categorical_accuracy: 0.4103\n",
      "Epoch 00004: val_loss improved from 1.53937 to 1.46247, saving model to model_init_2021-07-2706_00_58.975007/model-00004-1.37400-0.41026-1.46247-0.37000.h5\n",
      "21/21 [==============================] - 140s 7s/step - loss: 1.3740 - categorical_accuracy: 0.4103 - val_loss: 1.4625 - val_categorical_accuracy: 0.3700\n",
      "Epoch 5/30\n",
      "21/21 [==============================] - ETA: 0s - loss: 1.2981 - categorical_accuracy: 0.4887\n",
      "Epoch 00005: val_loss improved from 1.46247 to 1.41559, saving model to model_init_2021-07-2706_00_58.975007/model-00005-1.29814-0.48869-1.41559-0.44000.h5\n",
      "21/21 [==============================] - 138s 7s/step - loss: 1.2981 - categorical_accuracy: 0.4887 - val_loss: 1.4156 - val_categorical_accuracy: 0.4400\n",
      "Epoch 6/30\n",
      "21/21 [==============================] - ETA: 0s - loss: 1.1873 - categorical_accuracy: 0.5324\n",
      "Epoch 00006: val_loss did not improve from 1.41559\n",
      "21/21 [==============================] - 138s 7s/step - loss: 1.1873 - categorical_accuracy: 0.5324 - val_loss: 1.4502 - val_categorical_accuracy: 0.3600\n",
      "Epoch 7/30\n",
      "21/21 [==============================] - ETA: 0s - loss: 1.0325 - categorical_accuracy: 0.6169\n",
      "Epoch 00007: val_loss improved from 1.41559 to 1.26523, saving model to model_init_2021-07-2706_00_58.975007/model-00007-1.03252-0.61689-1.26523-0.47000.h5\n",
      "21/21 [==============================] - 140s 7s/step - loss: 1.0325 - categorical_accuracy: 0.6169 - val_loss: 1.2652 - val_categorical_accuracy: 0.4700\n",
      "Epoch 8/30\n",
      "21/21 [==============================] - ETA: 0s - loss: 0.9784 - categorical_accuracy: 0.6365\n",
      "Epoch 00008: val_loss did not improve from 1.26523\n",
      "21/21 [==============================] - 139s 7s/step - loss: 0.9784 - categorical_accuracy: 0.6365 - val_loss: 1.3631 - val_categorical_accuracy: 0.4700\n",
      "Epoch 9/30\n",
      "21/21 [==============================] - ETA: 0s - loss: 0.8883 - categorical_accuracy: 0.6667\n",
      "Epoch 00009: ReduceLROnPlateau reducing learning rate to 0.00010000000474974513.\n",
      "\n",
      "Epoch 00009: val_loss did not improve from 1.26523\n",
      "21/21 [==============================] - 140s 7s/step - loss: 0.8883 - categorical_accuracy: 0.6667 - val_loss: 1.3075 - val_categorical_accuracy: 0.4700\n",
      "Epoch 10/30\n",
      "21/21 [==============================] - ETA: 0s - loss: 0.7949 - categorical_accuracy: 0.7044\n",
      "Epoch 00010: val_loss improved from 1.26523 to 1.24336, saving model to model_init_2021-07-2706_00_58.975007/model-00010-0.79491-0.70437-1.24336-0.41000.h5\n",
      "21/21 [==============================] - 138s 7s/step - loss: 0.7949 - categorical_accuracy: 0.7044 - val_loss: 1.2434 - val_categorical_accuracy: 0.4100\n",
      "Epoch 11/30\n",
      "21/21 [==============================] - ETA: 0s - loss: 0.7056 - categorical_accuracy: 0.7647\n",
      "Epoch 00011: val_loss improved from 1.24336 to 1.21120, saving model to model_init_2021-07-2706_00_58.975007/model-00011-0.70561-0.76471-1.21120-0.47000.h5\n",
      "21/21 [==============================] - 144s 7s/step - loss: 0.7056 - categorical_accuracy: 0.7647 - val_loss: 1.2112 - val_categorical_accuracy: 0.4700\n",
      "Epoch 12/30\n",
      "21/21 [==============================] - ETA: 0s - loss: 0.6389 - categorical_accuracy: 0.7964\n",
      "Epoch 00012: val_loss did not improve from 1.21120\n",
      "21/21 [==============================] - 139s 7s/step - loss: 0.6389 - categorical_accuracy: 0.7964 - val_loss: 1.2378 - val_categorical_accuracy: 0.5000\n",
      "Epoch 13/30\n",
      "21/21 [==============================] - ETA: 0s - loss: 0.6259 - categorical_accuracy: 0.8009\n",
      "Epoch 00013: val_loss improved from 1.21120 to 1.20642, saving model to model_init_2021-07-2706_00_58.975007/model-00013-0.62592-0.80090-1.20642-0.53000.h5\n",
      "21/21 [==============================] - 141s 7s/step - loss: 0.6259 - categorical_accuracy: 0.8009 - val_loss: 1.2064 - val_categorical_accuracy: 0.5300\n",
      "Epoch 14/30\n",
      "21/21 [==============================] - ETA: 0s - loss: 0.6085 - categorical_accuracy: 0.8054\n",
      "Epoch 00014: val_loss did not improve from 1.20642\n",
      "21/21 [==============================] - 141s 7s/step - loss: 0.6085 - categorical_accuracy: 0.8054 - val_loss: 1.2307 - val_categorical_accuracy: 0.5100\n",
      "Epoch 15/30\n",
      "21/21 [==============================] - ETA: 0s - loss: 0.5572 - categorical_accuracy: 0.8416\n",
      "Epoch 00015: ReduceLROnPlateau reducing learning rate to 1.0000000474974514e-05.\n",
      "\n",
      "Epoch 00015: val_loss did not improve from 1.20642\n",
      "21/21 [==============================] - 141s 7s/step - loss: 0.5572 - categorical_accuracy: 0.8416 - val_loss: 1.2202 - val_categorical_accuracy: 0.5100\n",
      "Epoch 16/30\n",
      "21/21 [==============================] - ETA: 0s - loss: 0.5423 - categorical_accuracy: 0.8492\n",
      "Epoch 00016: val_loss improved from 1.20642 to 1.19657, saving model to model_init_2021-07-2706_00_58.975007/model-00016-0.54225-0.84917-1.19657-0.54000.h5\n",
      "21/21 [==============================] - 140s 7s/step - loss: 0.5423 - categorical_accuracy: 0.8492 - val_loss: 1.1966 - val_categorical_accuracy: 0.5400\n",
      "Epoch 17/30\n",
      "21/21 [==============================] - ETA: 0s - loss: 0.5234 - categorical_accuracy: 0.8371\n",
      "Epoch 00017: val_loss improved from 1.19657 to 1.18029, saving model to model_init_2021-07-2706_00_58.975007/model-00017-0.52337-0.83710-1.18029-0.55000.h5\n",
      "21/21 [==============================] - 143s 7s/step - loss: 0.5234 - categorical_accuracy: 0.8371 - val_loss: 1.1803 - val_categorical_accuracy: 0.5500\n",
      "Epoch 18/30\n",
      "21/21 [==============================] - ETA: 0s - loss: 0.5104 - categorical_accuracy: 0.8597\n",
      "Epoch 00018: val_loss did not improve from 1.18029\n",
      "21/21 [==============================] - 141s 7s/step - loss: 0.5104 - categorical_accuracy: 0.8597 - val_loss: 1.2493 - val_categorical_accuracy: 0.5000\n",
      "Epoch 19/30\n",
      "21/21 [==============================] - ETA: 0s - loss: 0.5337 - categorical_accuracy: 0.8477\n",
      "Epoch 00019: ReduceLROnPlateau reducing learning rate to 1.0000000656873453e-06.\n",
      "\n",
      "Epoch 00019: val_loss did not improve from 1.18029\n",
      "21/21 [==============================] - 141s 7s/step - loss: 0.5337 - categorical_accuracy: 0.8477 - val_loss: 1.2695 - val_categorical_accuracy: 0.4800\n",
      "Epoch 20/30\n",
      "21/21 [==============================] - ETA: 0s - loss: 0.5314 - categorical_accuracy: 0.8522\n",
      "Epoch 00020: val_loss did not improve from 1.18029\n",
      "21/21 [==============================] - 139s 7s/step - loss: 0.5314 - categorical_accuracy: 0.8522 - val_loss: 1.2590 - val_categorical_accuracy: 0.5100\n",
      "Epoch 21/30\n",
      "21/21 [==============================] - ETA: 0s - loss: 0.5259 - categorical_accuracy: 0.8416\n",
      "Epoch 00021: ReduceLROnPlateau reducing learning rate to 1.0000001111620805e-07.\n",
      "\n",
      "Epoch 00021: val_loss did not improve from 1.18029\n",
      "21/21 [==============================] - 140s 7s/step - loss: 0.5259 - categorical_accuracy: 0.8416 - val_loss: 1.2879 - val_categorical_accuracy: 0.5100\n",
      "Epoch 22/30\n",
      "21/21 [==============================] - ETA: 0s - loss: 0.5566 - categorical_accuracy: 0.8220\n",
      "Epoch 00022: val_loss did not improve from 1.18029\n",
      "21/21 [==============================] - 142s 7s/step - loss: 0.5566 - categorical_accuracy: 0.8220 - val_loss: 1.2526 - val_categorical_accuracy: 0.5300\n",
      "Epoch 23/30\n",
      "21/21 [==============================] - ETA: 0s - loss: 0.5448 - categorical_accuracy: 0.8326\n",
      "Epoch 00023: ReduceLROnPlateau reducing learning rate to 1.000000082740371e-08.\n",
      "\n",
      "Epoch 00023: val_loss did not improve from 1.18029\n",
      "21/21 [==============================] - 140s 7s/step - loss: 0.5448 - categorical_accuracy: 0.8326 - val_loss: 1.2351 - val_categorical_accuracy: 0.5300\n",
      "Epoch 24/30\n",
      "21/21 [==============================] - ETA: 0s - loss: 0.5570 - categorical_accuracy: 0.8190\n",
      "Epoch 00024: val_loss did not improve from 1.18029\n",
      "21/21 [==============================] - 140s 7s/step - loss: 0.5570 - categorical_accuracy: 0.8190 - val_loss: 1.2478 - val_categorical_accuracy: 0.5100\n",
      "Epoch 25/30\n",
      "21/21 [==============================] - ETA: 0s - loss: 0.5412 - categorical_accuracy: 0.8477\n",
      "Epoch 00025: ReduceLROnPlateau reducing learning rate to 1.000000082740371e-09.\n",
      "\n",
      "Epoch 00025: val_loss did not improve from 1.18029\n",
      "21/21 [==============================] - 135s 6s/step - loss: 0.5412 - categorical_accuracy: 0.8477 - val_loss: 1.3053 - val_categorical_accuracy: 0.4900\n",
      "Epoch 26/30\n",
      "21/21 [==============================] - ETA: 0s - loss: 0.5473 - categorical_accuracy: 0.8296\n",
      "Epoch 00030: val_loss did not improve from 1.18029\n",
      "21/21 [==============================] - 141s 7s/step - loss: 0.5473 - categorical_accuracy: 0.8296 - val_loss: 1.2535 - val_categorical_accuracy: 0.5100\n"
     ]
    },
    {
     "data": {
      "text/plain": [
       "<tensorflow.python.keras.callbacks.History at 0x7fede0579b38>"
      ]
     },
     "execution_count": 37,
     "metadata": {},
     "output_type": "execute_result"
    }
   ],
   "source": [
    "model.fit_generator(train_generator, steps_per_epoch=steps_per_epoch, epochs=num_epochs, verbose=1, \n",
    "                    callbacks=callbacks_list, validation_data=val_generator, \n",
    "                    validation_steps=validation_steps, class_weight=None, workers=-1,use_multiprocessing=True, initial_epoch=0)"
   ]
  },
  {
   "cell_type": "code",
   "execution_count": 39,
   "metadata": {},
   "outputs": [
    {
     "data": {
      "image/png": "[encoded data removed]",
      "text/plain": [
       "<Figure size 1080x288 with 2 Axes>"
      ]
     },
     "metadata": {
      "needs_background": "light"
     },
     "output_type": "display_data"
    }
   ],
   "source": [
    "plot(model)"
   ]
  },
  {
   "cell_type": "markdown",
   "metadata": {},
   "source": [
    "With transfer learning, the model did not seem to improve. Next we will test a GRU model to compare the accuracy."
   ]
  },
  {
   "cell_type": "markdown",
   "metadata": {},
   "source": [
    "#### Accuracy: 82.96%\n",
    "#### Validation Acc: 51%\n",
    "\n",
    "#### Result: The model is overfitting the data"
   ]
  },
  {
   "cell_type": "markdown",
   "metadata": {},
   "source": [
    "## Model 5: Mobilnet v2 with GRU Model"
   ]
  },
  {
   "cell_type": "code",
   "execution_count": 11,
   "metadata": {},
   "outputs": [
    {
     "name": "stdout",
     "output_type": "stream",
     "text": [
      "WARNING:tensorflow:`input_shape` is undefined or non-square, or `rows` is not in [96, 128, 160, 192, 224]. Weights for input shape (224, 224) will be loaded as the default.\n"
     ]
    }
   ],
   "source": [
    "mobilenetModel = MobileNetV2(\n",
    "    include_top=False,\n",
    "    weights=\"imagenet\"\n",
    ")\n",
    "\n",
    "model = Sequential()\n",
    "\n",
    "model.add(TimeDistributed(mobilenetModel, input_shape=(x,y,z,3)))\n",
    "model.add(TimeDistributed(BatchNormalization()))\n",
    "model.add(TimeDistributed(MaxPooling2D(pool_size=(2, 2))))\n",
    "# model.add(MaxPooling3D(pool_size=(2, 2, 2)))\n",
    "model.add(TimeDistributed(Flatten()))\n",
    "\n",
    "model.add(GRU(64))\n",
    "model.add(Dropout(0.25))\n",
    "\n",
    "model.add(Dense(64,activation='relu'))\n",
    "model.add(Dropout(0.25))\n",
    "\n",
    "model.add(Dense(5, activation='softmax'))"
   ]
  },
  {
   "cell_type": "code",
   "execution_count": 12,
   "metadata": {},
   "outputs": [
    {
     "name": "stdout",
     "output_type": "stream",
     "text": [
      "Model: \"sequential\"\n",
      "_________________________________________________________________\n",
      "Layer (type)                 Output Shape              Param #   \n",
      "=================================================================\n",
      "time_distributed (TimeDistri (None, 30, 3, 3, 1280)    2257984   \n",
      "_________________________________________________________________\n",
      "time_distributed_1 (TimeDist (None, 30, 3, 3, 1280)    5120      \n",
      "_________________________________________________________________\n",
      "time_distributed_2 (TimeDist (None, 30, 1, 1, 1280)    0         \n",
      "_________________________________________________________________\n",
      "time_distributed_3 (TimeDist (None, 30, 1280)          0         \n",
      "_________________________________________________________________\n",
      "gru (GRU)                    (None, 64)                258432    \n",
      "_________________________________________________________________\n",
      "dropout (Dropout)            (None, 64)                0         \n",
      "_________________________________________________________________\n",
      "dense (Dense)                (None, 64)                4160      \n",
      "_________________________________________________________________\n",
      "dropout_1 (Dropout)          (None, 64)                0         \n",
      "_________________________________________________________________\n",
      "dense_1 (Dense)              (None, 5)                 325       \n",
      "=================================================================\n",
      "Total params: 2,526,021\n",
      "Trainable params: 2,489,349\n",
      "Non-trainable params: 36,672\n",
      "_________________________________________________________________\n",
      "None\n"
     ]
    }
   ],
   "source": [
    "optimiser = optimizers.Adam()\n",
    "model.compile(optimizer=optimiser, loss='categorical_crossentropy', metrics=['categorical_accuracy'])\n",
    "print (model.summary())"
   ]
  },
  {
   "cell_type": "markdown",
   "metadata": {},
   "source": [
    "The `steps_per_epoch` and `validation_steps` are used by `fit_generator` to decide the number of next() calls it need to make."
   ]
  },
  {
   "cell_type": "markdown",
   "metadata": {},
   "source": [
    "Let us now fit the model. This will start training the model and with the help of the checkpoints, we'll be able to save the model at the end of each epoch."
   ]
  },
  {
   "cell_type": "code",
   "execution_count": 13,
   "metadata": {},
   "outputs": [],
   "source": [
    "batch_size = 20\n",
    "\n",
    "train_generator = generator(train_path, train_doc, batch_size)\n",
    "val_generator = generator(val_path, val_doc, batch_size)"
   ]
  },
  {
   "cell_type": "code",
   "execution_count": 14,
   "metadata": {},
   "outputs": [
    {
     "name": "stdout",
     "output_type": "stream",
     "text": [
      "WARNING:tensorflow:`period` argument is deprecated. Please use `save_freq` to specify the frequency in number of batches seen.\n"
     ]
    }
   ],
   "source": [
    "model_name = 'model_init' + '_' + str(curr_dt_time).replace(' ','').replace(':','_') + '/'\n",
    "    \n",
    "if not os.path.exists(model_name):\n",
    "    os.mkdir(model_name)\n",
    "        \n",
    "filepath = model_name + 'model-{epoch:05d}-{loss:.5f}-{categorical_accuracy:.5f}-{val_loss:.5f}-{val_categorical_accuracy:.5f}.h5'\n",
    "\n",
    "checkpoint = ModelCheckpoint(filepath, monitor='val_loss', verbose=1, save_best_only=True, save_weights_only=False, mode='auto', period=1)\n",
    "\n",
    "LR = ReduceLROnPlateau(patience=2,verbose=1)\n",
    "callbacks_list = [LR,checkpoint]"
   ]
  },
  {
   "cell_type": "markdown",
   "metadata": {},
   "source": [
    "The `steps_per_epoch` and `validation_steps` are used by `fit_generator` to decide the number of next() calls it need to make."
   ]
  },
  {
   "cell_type": "code",
   "execution_count": 15,
   "metadata": {},
   "outputs": [],
   "source": [
    "if (num_train_sequences%batch_size) == 0:\n",
    "    steps_per_epoch = int(num_train_sequences/batch_size)\n",
    "else:\n",
    "    steps_per_epoch = (num_train_sequences//batch_size) + 1\n",
    "\n",
    "if (num_val_sequences%batch_size) == 0:\n",
    "    validation_steps = int(num_val_sequences/batch_size)\n",
    "else:\n",
    "    validation_steps = (num_val_sequences//batch_size) + 1"
   ]
  },
  {
   "cell_type": "code",
   "execution_count": 16,
   "metadata": {
    "tags": []
   },
   "outputs": [
    {
     "name": "stdout",
     "output_type": "stream",
     "text": [
      "WARNING:tensorflow:From <ipython-input-16-6edf2f1ed925>:3: Model.fit_generator (from tensorflow.python.keras.engine.training) is deprecated and will be removed in a future version.\n",
      "Instructions for updating:\n",
      "Please use Model.fit, which supports generators.\n",
      "Source path =  datasets/Project_data/train ; batch size = 20\n",
      "Epoch 1/30\n",
      "34/34 [==============================] - ETA: 0s - loss: 1.3649 - categorical_accuracy: 0.4344Source path =  datasets/Project_data/val ; batch size = 20\n",
      "\n",
      "Epoch 00001: val_loss improved from inf to 1.89111, saving model to model_init_2021-07-2709_38_50.289749/model-00001-1.36486-0.43439-1.89111-0.30000.h5\n",
      "34/34 [==============================] - 160s 5s/step - loss: 1.3649 - categorical_accuracy: 0.4344 - val_loss: 1.8911 - val_categorical_accuracy: 0.3000\n",
      "Epoch 2/30\n",
      "34/34 [==============================] - ETA: 0s - loss: 0.6052 - categorical_accuracy: 0.7949\n",
      "Epoch 00002: val_loss did not improve from 1.89111\n",
      "34/34 [==============================] - 154s 5s/step - loss: 0.6052 - categorical_accuracy: 0.7949 - val_loss: 2.5695 - val_categorical_accuracy: 0.2700\n",
      "Epoch 3/30\n",
      "34/34 [==============================] - ETA: 0s - loss: 0.3082 - categorical_accuracy: 0.9125\n",
      "Epoch 00003: ReduceLROnPlateau reducing learning rate to 0.00010000000474974513.\n",
      "\n",
      "Epoch 00003: val_loss did not improve from 1.89111\n",
      "34/34 [==============================] - 153s 5s/step - loss: 0.3082 - categorical_accuracy: 0.9125 - val_loss: 2.4168 - val_categorical_accuracy: 0.2800\n",
      "Epoch 4/30\n",
      "34/34 [==============================] - ETA: 0s - loss: 0.1744 - categorical_accuracy: 0.9442\n",
      "Epoch 00004: val_loss did not improve from 1.89111\n",
      "34/34 [==============================] - 153s 5s/step - loss: 0.1744 - categorical_accuracy: 0.9442 - val_loss: 2.4179 - val_categorical_accuracy: 0.2800\n",
      "Epoch 5/30\n",
      "34/34 [==============================] - ETA: 0s - loss: 0.1350 - categorical_accuracy: 0.9608\n",
      "Epoch 00005: ReduceLROnPlateau reducing learning rate to 1.0000000474974514e-05.\n",
      "\n",
      "Epoch 00005: val_loss did not improve from 1.89111\n",
      "34/34 [==============================] - 154s 5s/step - loss: 0.1350 - categorical_accuracy: 0.9608 - val_loss: 2.3138 - val_categorical_accuracy: 0.2900\n",
      "Epoch 6/30\n",
      "34/34 [==============================] - ETA: 0s - loss: 0.1088 - categorical_accuracy: 0.9729\n",
      "Epoch 00006: val_loss did not improve from 1.89111\n",
      "34/34 [==============================] - 152s 4s/step - loss: 0.1088 - categorical_accuracy: 0.9729 - val_loss: 2.2674 - val_categorical_accuracy: 0.3200\n",
      "Epoch 7/30\n",
      "34/34 [==============================] - ETA: 0s - loss: 0.1071 - categorical_accuracy: 0.9789\n",
      "Epoch 00007: ReduceLROnPlateau reducing learning rate to 1.0000000656873453e-06.\n",
      "\n",
      "Epoch 00007: val_loss did not improve from 1.89111\n",
      "34/34 [==============================] - 154s 5s/step - loss: 0.1071 - categorical_accuracy: 0.9789 - val_loss: 2.1458 - val_categorical_accuracy: 0.3500\n",
      "Epoch 8/30\n",
      "34/34 [==============================] - ETA: 0s - loss: 0.1092 - categorical_accuracy: 0.9804\n",
      "Epoch 00008: val_loss did not improve from 1.89111\n",
      "34/34 [==============================] - 153s 4s/step - loss: 0.1092 - categorical_accuracy: 0.9804 - val_loss: 2.0001 - val_categorical_accuracy: 0.4000\n",
      "Epoch 9/30\n",
      "34/34 [==============================] - ETA: 0s - loss: 0.1132 - categorical_accuracy: 0.9789\n",
      "Epoch 00009: val_loss improved from 1.89111 to 1.76520, saving model to model_init_2021-07-2709_38_50.289749/model-00009-0.11317-0.97888-1.76520-0.44000.h5\n",
      "34/34 [==============================] - 153s 4s/step - loss: 0.1132 - categorical_accuracy: 0.9789 - val_loss: 1.7652 - val_categorical_accuracy: 0.4400\n",
      "Epoch 10/30\n",
      "34/34 [==============================] - ETA: 0s - loss: 0.1083 - categorical_accuracy: 0.9729\n",
      "Epoch 00010: val_loss improved from 1.76520 to 1.53244, saving model to model_init_2021-07-2709_38_50.289749/model-00010-0.10832-0.97285-1.53244-0.48000.h5\n",
      "34/34 [==============================] - 152s 4s/step - loss: 0.1083 - categorical_accuracy: 0.9729 - val_loss: 1.5324 - val_categorical_accuracy: 0.4800\n",
      "Epoch 11/30\n",
      "34/34 [==============================] - ETA: 0s - loss: 0.0943 - categorical_accuracy: 0.9744\n",
      "Epoch 00011: val_loss improved from 1.53244 to 1.36147, saving model to model_init_2021-07-2709_38_50.289749/model-00011-0.09429-0.97436-1.36147-0.56000.h5\n",
      "34/34 [==============================] - 154s 5s/step - loss: 0.0943 - categorical_accuracy: 0.9744 - val_loss: 1.3615 - val_categorical_accuracy: 0.5600\n",
      "Epoch 12/30\n",
      "34/34 [==============================] - ETA: 0s - loss: 0.1041 - categorical_accuracy: 0.9744\n",
      "Epoch 00012: val_loss improved from 1.36147 to 1.26594, saving model to model_init_2021-07-2709_38_50.289749/model-00012-0.10414-0.97436-1.26594-0.61000.h5\n",
      "34/34 [==============================] - 153s 4s/step - loss: 0.1041 - categorical_accuracy: 0.9744 - val_loss: 1.2659 - val_categorical_accuracy: 0.6100\n",
      "Epoch 13/30\n",
      "34/34 [==============================] - ETA: 0s - loss: 0.0699 - categorical_accuracy: 0.9910\n",
      "Epoch 00013: val_loss improved from 1.26594 to 1.13974, saving model to model_init_2021-07-2709_38_50.289749/model-00013-0.06988-0.99095-1.13974-0.64000.h5\n",
      "34/34 [==============================] - 153s 5s/step - loss: 0.0699 - categorical_accuracy: 0.9910 - val_loss: 1.1397 - val_categorical_accuracy: 0.6400\n",
      "Epoch 14/30\n",
      "34/34 [==============================] - ETA: 0s - loss: 0.1063 - categorical_accuracy: 0.9789\n",
      "Epoch 00014: val_loss improved from 1.13974 to 1.00487, saving model to model_init_2021-07-2709_38_50.289749/model-00014-0.10628-0.97888-1.00487-0.69000.h5\n",
      "34/34 [==============================] - 154s 5s/step - loss: 0.1063 - categorical_accuracy: 0.9789 - val_loss: 1.0049 - val_categorical_accuracy: 0.6900\n",
      "Epoch 15/30\n",
      "34/34 [==============================] - ETA: 0s - loss: 0.1035 - categorical_accuracy: 0.9729\n",
      "Epoch 00015: val_loss improved from 1.00487 to 0.89999, saving model to model_init_2021-07-2709_38_50.289749/model-00015-0.10350-0.97285-0.89999-0.71000.h5\n",
      "34/34 [==============================] - 152s 4s/step - loss: 0.1035 - categorical_accuracy: 0.9729 - val_loss: 0.9000 - val_categorical_accuracy: 0.7100\n",
      "Epoch 16/30\n",
      "34/34 [==============================] - ETA: 0s - loss: 0.0888 - categorical_accuracy: 0.9849\n",
      "Epoch 00016: val_loss improved from 0.89999 to 0.82690, saving model to model_init_2021-07-2709_38_50.289749/model-00016-0.08876-0.98492-0.82690-0.74000.h5\n",
      "34/34 [==============================] - 152s 4s/step - loss: 0.0888 - categorical_accuracy: 0.9849 - val_loss: 0.8269 - val_categorical_accuracy: 0.7400\n",
      "Epoch 17/30\n",
      "34/34 [==============================] - ETA: 0s - loss: 0.0772 - categorical_accuracy: 0.9864\n",
      "Epoch 00017: val_loss improved from 0.82690 to 0.75461, saving model to model_init_2021-07-2709_38_50.289749/model-00017-0.07723-0.98643-0.75461-0.77000.h5\n",
      "34/34 [==============================] - 152s 4s/step - loss: 0.0772 - categorical_accuracy: 0.9864 - val_loss: 0.7546 - val_categorical_accuracy: 0.7700\n",
      "Epoch 18/30\n",
      "34/34 [==============================] - ETA: 0s - loss: 0.1292 - categorical_accuracy: 0.9759\n",
      "Epoch 00018: val_loss improved from 0.75461 to 0.67855, saving model to model_init_2021-07-2709_38_50.289749/model-00018-0.12920-0.97587-0.67855-0.82000.h5\n",
      "34/34 [==============================] - 153s 4s/step - loss: 0.1292 - categorical_accuracy: 0.9759 - val_loss: 0.6785 - val_categorical_accuracy: 0.8200\n",
      "Epoch 19/30\n",
      "34/34 [==============================] - ETA: 0s - loss: 0.1002 - categorical_accuracy: 0.9774\n",
      "Epoch 00019: val_loss improved from 0.67855 to 0.61968, saving model to model_init_2021-07-2709_38_50.289749/model-00019-0.10021-0.97738-0.61968-0.84000.h5\n",
      "34/34 [==============================] - 153s 5s/step - loss: 0.1002 - categorical_accuracy: 0.9774 - val_loss: 0.6197 - val_categorical_accuracy: 0.8400\n",
      "Epoch 20/30\n",
      "34/34 [==============================] - ETA: 0s - loss: 0.1003 - categorical_accuracy: 0.9744\n",
      "Epoch 00020: val_loss improved from 0.61968 to 0.57716, saving model to model_init_2021-07-2709_38_50.289749/model-00020-0.10031-0.97436-0.57716-0.84000.h5\n",
      "34/34 [==============================] - 153s 4s/step - loss: 0.1003 - categorical_accuracy: 0.9744 - val_loss: 0.5772 - val_categorical_accuracy: 0.8400\n",
      "Epoch 21/30\n",
      "34/34 [==============================] - ETA: 0s - loss: 0.0948 - categorical_accuracy: 0.9759\n",
      "Epoch 00021: val_loss improved from 0.57716 to 0.54322, saving model to model_init_2021-07-2709_38_50.289749/model-00021-0.09484-0.97587-0.54322-0.85000.h5\n",
      "34/34 [==============================] - 153s 4s/step - loss: 0.0948 - categorical_accuracy: 0.9759 - val_loss: 0.5432 - val_categorical_accuracy: 0.8500\n",
      "Epoch 22/30\n",
      "34/34 [==============================] - ETA: 0s - loss: 0.1114 - categorical_accuracy: 0.9744\n",
      "Epoch 00022: val_loss improved from 0.54322 to 0.51645, saving model to model_init_2021-07-2709_38_50.289749/model-00022-0.11144-0.97436-0.51645-0.85000.h5\n",
      "34/34 [==============================] - 153s 5s/step - loss: 0.1114 - categorical_accuracy: 0.9744 - val_loss: 0.5164 - val_categorical_accuracy: 0.8500\n",
      "Epoch 23/30\n",
      "34/34 [==============================] - ETA: 0s - loss: 0.1090 - categorical_accuracy: 0.9713\n",
      "Epoch 00023: val_loss improved from 0.51645 to 0.49228, saving model to model_init_2021-07-2709_38_50.289749/model-00023-0.10903-0.97134-0.49228-0.85000.h5\n",
      "34/34 [==============================] - 154s 5s/step - loss: 0.1090 - categorical_accuracy: 0.9713 - val_loss: 0.4923 - val_categorical_accuracy: 0.8500\n",
      "Epoch 24/30\n",
      "34/34 [==============================] - ETA: 0s - loss: 0.0878 - categorical_accuracy: 0.9819\n",
      "Epoch 00024: val_loss improved from 0.49228 to 0.48286, saving model to model_init_2021-07-2709_38_50.289749/model-00024-0.08781-0.98190-0.48286-0.85000.h5\n",
      "34/34 [==============================] - 155s 5s/step - loss: 0.0878 - categorical_accuracy: 0.9819 - val_loss: 0.4829 - val_categorical_accuracy: 0.8500\n",
      "Epoch 25/30\n",
      "34/34 [==============================] - ETA: 0s - loss: 0.0902 - categorical_accuracy: 0.9804\n",
      "Epoch 00025: val_loss improved from 0.48286 to 0.47142, saving model to model_init_2021-07-2709_38_50.289749/model-00025-0.09018-0.98039-0.47142-0.85000.h5\n",
      "34/34 [==============================] - 151s 4s/step - loss: 0.0902 - categorical_accuracy: 0.9804 - val_loss: 0.4714 - val_categorical_accuracy: 0.8500\n",
      "Epoch 26/30\n",
      "34/34 [==============================] - ETA: 0s - loss: 0.1058 - categorical_accuracy: 0.9729\n",
      "Epoch 00026: val_loss improved from 0.47142 to 0.45689, saving model to model_init_2021-07-2709_38_50.289749/model-00026-0.10577-0.97285-0.45689-0.84000.h5\n",
      "34/34 [==============================] - 152s 4s/step - loss: 0.1058 - categorical_accuracy: 0.9729 - val_loss: 0.4569 - val_categorical_accuracy: 0.8400\n",
      "Epoch 27/30\n",
      "34/34 [==============================] - ETA: 0s - loss: 0.0895 - categorical_accuracy: 0.9819\n",
      "Epoch 00027: val_loss improved from 0.45689 to 0.44107, saving model to model_init_2021-07-2709_38_50.289749/model-00027-0.08946-0.98190-0.44107-0.84000.h5\n",
      "34/34 [==============================] - 155s 5s/step - loss: 0.0895 - categorical_accuracy: 0.9819 - val_loss: 0.4411 - val_categorical_accuracy: 0.8400\n",
      "Epoch 28/30\n",
      "34/34 [==============================] - ETA: 0s - loss: 0.0727 - categorical_accuracy: 0.9834\n",
      "Epoch 00028: val_loss improved from 0.44107 to 0.42815, saving model to model_init_2021-07-2709_38_50.289749/model-00028-0.07268-0.98341-0.42815-0.84000.h5\n",
      "34/34 [==============================] - 154s 5s/step - loss: 0.0727 - categorical_accuracy: 0.9834 - val_loss: 0.4282 - val_categorical_accuracy: 0.8400\n",
      "Epoch 29/30\n",
      "34/34 [==============================] - ETA: 0s - loss: 0.0860 - categorical_accuracy: 0.9849\n",
      "Epoch 00029: val_loss improved from 0.42815 to 0.41631, saving model to model_init_2021-07-2709_38_50.289749/model-00029-0.08600-0.98492-0.41631-0.84000.h5\n",
      "34/34 [==============================] - 155s 5s/step - loss: 0.0860 - categorical_accuracy: 0.9849 - val_loss: 0.4163 - val_categorical_accuracy: 0.8400\n",
      "Epoch 30/30\n",
      "34/34 [==============================] - ETA: 0s - loss: 0.0795 - categorical_accuracy: 0.9849\n",
      "Epoch 00030: val_loss improved from 0.41631 to 0.40968, saving model to model_init_2021-07-2709_38_50.289749/model-00030-0.07950-0.98492-0.40968-0.85000.h5\n",
      "34/34 [==============================] - 156s 5s/step - loss: 0.0795 - categorical_accuracy: 0.9849 - val_loss: 0.4097 - val_categorical_accuracy: 0.8500\n"
     ]
    },
    {
     "data": {
      "text/plain": [
       "<tensorflow.python.keras.callbacks.History at 0x7f24646f0be0>"
      ]
     },
     "execution_count": 16,
     "metadata": {},
     "output_type": "execute_result"
    }
   ],
   "source": [
    "model.fit_generator(train_generator, steps_per_epoch=steps_per_epoch, epochs=num_epochs, verbose=1, \n",
    "                    callbacks=callbacks_list, validation_data=val_generator, \n",
    "                    validation_steps=validation_steps, class_weight=None, workers=-1,use_multiprocessing=True, initial_epoch=0)"
   ]
  },
  {
   "cell_type": "markdown",
   "metadata": {},
   "source": [
    "#### Accuracy: 98.49%\n",
    "#### Validation Accuracy: 85%\n",
    "\n",
    "#### Result: The model is overfitting the data"
   ]
  },
  {
   "cell_type": "markdown",
   "metadata": {},
   "source": [
    "## Model 6: MobileNet v2 with data augmentation"
   ]
  },
  {
   "cell_type": "markdown",
   "metadata": {},
   "source": [
    "#### Introducing data augmentation in generator to reduce overfitting"
   ]
  },
  {
   "cell_type": "code",
   "execution_count": 23,
   "metadata": {},
   "outputs": [
    {
     "name": "stdout",
     "output_type": "stream",
     "text": [
      "WARNING:tensorflow:`input_shape` is undefined or non-square, or `rows` is not in [96, 128, 160, 192, 224]. Weights for input shape (224, 224) will be loaded as the default.\n",
      "WARNING:tensorflow:Layer gru will not use cuDNN kernel since it doesn't meet the cuDNN kernel criteria. It will use generic GPU kernel as fallback when running on GPU\n"
     ]
    }
   ],
   "source": [
    "mobilenetModel = MobileNetV2(\n",
    "    include_top=False,\n",
    "    weights=\"imagenet\"\n",
    ")\n",
    "\n",
    "model = Sequential()\n",
    "\n",
    "model.add(TimeDistributed(mobilenetModel, input_shape=(x,y,z,3)))\n",
    "model.add(TimeDistributed(BatchNormalization()))\n",
    "model.add(TimeDistributed(MaxPooling2D(pool_size=(2, 2))))\n",
    "# model.add(MaxPooling3D(pool_size=(2, 2, 2)))\n",
    "model.add(TimeDistributed(Flatten()))\n",
    "\n",
    "model.add(GRU(64,activation='relu'))\n",
    "model.add(Dropout(0.25))\n",
    "\n",
    "model.add(Dense(64,activation='relu'))\n",
    "model.add(Dropout(0.25))\n",
    "\n",
    "model.add(Dense(5, activation='softmax'))"
   ]
  },
  {
   "cell_type": "markdown",
   "metadata": {},
   "source": [
    "Now that we have written the model, the next step is to `compile` the model. When `summary` of the model is printed, the total number of parameters is seen that has to be trained."
   ]
  },
  {
   "cell_type": "code",
   "execution_count": 24,
   "metadata": {
    "scrolled": true
   },
   "outputs": [
    {
     "name": "stdout",
     "output_type": "stream",
     "text": [
      "Model: \"sequential_1\"\n",
      "_________________________________________________________________\n",
      "Layer (type)                 Output Shape              Param #   \n",
      "=================================================================\n",
      "time_distributed (TimeDistri (None, 30, 3, 3, 1280)    2257984   \n",
      "_________________________________________________________________\n",
      "time_distributed_1 (TimeDist (None, 30, 3, 3, 1280)    5120      \n",
      "_________________________________________________________________\n",
      "time_distributed_2 (TimeDist (None, 30, 1, 1, 1280)    0         \n",
      "_________________________________________________________________\n",
      "time_distributed_3 (TimeDist (None, 30, 1280)          0         \n",
      "_________________________________________________________________\n",
      "gru (GRU)                    (None, 64)                258432    \n",
      "_________________________________________________________________\n",
      "dropout_2 (Dropout)          (None, 64)                0         \n",
      "_________________________________________________________________\n",
      "dense_3 (Dense)              (None, 64)                4160      \n",
      "_________________________________________________________________\n",
      "dropout_3 (Dropout)          (None, 64)                0         \n",
      "_________________________________________________________________\n",
      "dense_4 (Dense)              (None, 5)                 325       \n",
      "=================================================================\n",
      "Total params: 2,526,021\n",
      "Trainable params: 2,489,349\n",
      "Non-trainable params: 36,672\n",
      "_________________________________________________________________\n",
      "None\n"
     ]
    }
   ],
   "source": [
    "optimiser = optimizers.Adam()\n",
    "model.compile(optimizer=optimiser, loss='categorical_crossentropy', metrics=['categorical_accuracy'])\n",
    "print (model.summary())"
   ]
  },
  {
   "cell_type": "markdown",
   "metadata": {},
   "source": [
    "Let us create the `train_generator` and the `val_generator` which will be used in `.fit_generator`."
   ]
  },
  {
   "cell_type": "code",
   "execution_count": 25,
   "metadata": {},
   "outputs": [],
   "source": [
    "batch_size = 16\n",
    "\n",
    "train_generator = generator(train_path, train_doc, batch_size, 1)\n",
    "val_generator = generator(val_path, val_doc, batch_size)"
   ]
  },
  {
   "cell_type": "code",
   "execution_count": 26,
   "metadata": {},
   "outputs": [
    {
     "name": "stdout",
     "output_type": "stream",
     "text": [
      "WARNING:tensorflow:`period` argument is deprecated. Please use `save_freq` to specify the frequency in number of batches seen.\n"
     ]
    }
   ],
   "source": [
    "model_name = 'model_init' + '_' + str(curr_dt_time).replace(' ','').replace(':','_') + '/'\n",
    "    \n",
    "if not os.path.exists(model_name):\n",
    "    os.mkdir(model_name)\n",
    "        \n",
    "filepath = model_name + 'model-{epoch:05d}-{loss:.5f}-{categorical_accuracy:.5f}-{val_loss:.5f}-{val_categorical_accuracy:.5f}.h5'\n",
    "\n",
    "checkpoint = ModelCheckpoint(filepath, monitor='val_loss', verbose=1, save_best_only=True, save_weights_only=False, mode='auto', period=1)\n",
    "\n",
    "LR = ReduceLROnPlateau(patience=2,verbose=1)\n",
    "callbacks_list = [LR,checkpoint]"
   ]
  },
  {
   "cell_type": "markdown",
   "metadata": {},
   "source": [
    "The `steps_per_epoch` and `validation_steps` are used by `fit_generator` to decide the number of next() calls it need to make."
   ]
  },
  {
   "cell_type": "code",
   "execution_count": 27,
   "metadata": {},
   "outputs": [],
   "source": [
    "if (num_train_sequences%batch_size) == 0:\n",
    "    steps_per_epoch = int(num_train_sequences/batch_size)\n",
    "else:\n",
    "    steps_per_epoch = (num_train_sequences//batch_size) + 1\n",
    "\n",
    "if (num_val_sequences%batch_size) == 0:\n",
    "    validation_steps = int(num_val_sequences/batch_size)\n",
    "else:\n",
    "    validation_steps = (num_val_sequences//batch_size) + 1"
   ]
  },
  {
   "cell_type": "markdown",
   "metadata": {},
   "source": [
    "Let us now fit the model. This will start training the model and with the help of the checkpoints, you'll be able to save the model at the end of each epoch."
   ]
  },
  {
   "cell_type": "code",
   "execution_count": 28,
   "metadata": {
    "tags": []
   },
   "outputs": [
    {
     "name": "stdout",
     "output_type": "stream",
     "text": [
      "WARNING:tensorflow:From <ipython-input-28-bd77c9c60c14>:3: Model.fit_generator (from tensorflow.python.keras.engine.training) is deprecated and will be removed in a future version.\n",
      "Instructions for updating:\n",
      "Please use Model.fit, which supports generators.\n",
      "Source path =  datasets/Project_data/train ; batch size = 16\n",
      "Epoch 1/30\n",
      "42/42 [==============================] - ETA: 0s - loss: 1.4913 - categorical_accuracy: 0.4359Source path =  datasets/Project_data/val ; batch size = 16\n",
      "\n",
      "Epoch 00001: val_loss improved from inf to 1.77817, saving model to model_init_2021-07-2814_49_57.003681/model-00001-1.49132-0.43590-1.77817-0.25000.h5\n",
      "42/42 [==============================] - 406s 10s/step - loss: 1.4913 - categorical_accuracy: 0.4359 - val_loss: 1.7782 - val_categorical_accuracy: 0.2500\n",
      "Epoch 2/30\n",
      "42/42 [==============================] - ETA: 0s - loss: 0.8567 - categorical_accuracy: 0.7074\n",
      "Epoch 00002: val_loss did not improve from 1.77817\n",
      "42/42 [==============================] - 390s 9s/step - loss: 0.8567 - categorical_accuracy: 0.7074 - val_loss: 2.5805 - val_categorical_accuracy: 0.2300\n",
      "Epoch 3/30\n",
      "42/42 [==============================] - ETA: 0s - loss: 0.4985 - categorical_accuracy: 0.8401\n",
      "Epoch 00003: ReduceLROnPlateau reducing learning rate to 0.00010000000474974513.\n",
      "\n",
      "Epoch 00003: val_loss did not improve from 1.77817\n",
      "42/42 [==============================] - 404s 10s/step - loss: 0.4985 - categorical_accuracy: 0.8401 - val_loss: 6.4247 - val_categorical_accuracy: 0.2500\n",
      "Epoch 4/30\n",
      "42/42 [==============================] - ETA: 0s - loss: 0.2351 - categorical_accuracy: 0.9261\n",
      "Epoch 00004: val_loss did not improve from 1.77817\n",
      "42/42 [==============================] - 407s 10s/step - loss: 0.2351 - categorical_accuracy: 0.9261 - val_loss: 7.3552 - val_categorical_accuracy: 0.2700\n",
      "Epoch 5/30\n",
      "42/42 [==============================] - ETA: 0s - loss: 0.1170 - categorical_accuracy: 0.9691\n",
      "Epoch 00005: ReduceLROnPlateau reducing learning rate to 1.0000000474974514e-05.\n",
      "\n",
      "Epoch 00005: val_loss did not improve from 1.77817\n",
      "42/42 [==============================] - 403s 10s/step - loss: 0.1170 - categorical_accuracy: 0.9691 - val_loss: 7.5726 - val_categorical_accuracy: 0.2700\n",
      "Epoch 6/30\n",
      "42/42 [==============================] - ETA: 0s - loss: 0.0814 - categorical_accuracy: 0.9766\n",
      "Epoch 00006: val_loss did not improve from 1.77817\n",
      "42/42 [==============================] - 407s 10s/step - loss: 0.0814 - categorical_accuracy: 0.9766 - val_loss: 6.9904 - val_categorical_accuracy: 0.3000\n",
      "Epoch 7/30\n",
      "42/42 [==============================] - ETA: 0s - loss: 0.0784 - categorical_accuracy: 0.9781\n",
      "Epoch 00007: ReduceLROnPlateau reducing learning rate to 1.0000000656873453e-06.\n",
      "\n",
      "Epoch 00007: val_loss did not improve from 1.77817\n",
      "42/42 [==============================] - 401s 10s/step - loss: 0.0784 - categorical_accuracy: 0.9781 - val_loss: 6.1397 - val_categorical_accuracy: 0.3500\n",
      "Epoch 8/30\n",
      "42/42 [==============================] - ETA: 0s - loss: 0.0760 - categorical_accuracy: 0.9819\n",
      "Epoch 00008: val_loss did not improve from 1.77817\n",
      "42/42 [==============================] - 410s 10s/step - loss: 0.0760 - categorical_accuracy: 0.9819 - val_loss: 5.1726 - val_categorical_accuracy: 0.3600\n",
      "Epoch 9/30\n",
      "42/42 [==============================] - ETA: 0s - loss: 0.0676 - categorical_accuracy: 0.9872\n",
      "Epoch 00009: ReduceLROnPlateau reducing learning rate to 1.0000001111620805e-07.\n",
      "\n",
      "Epoch 00009: val_loss did not improve from 1.77817\n",
      "42/42 [==============================] - 403s 10s/step - loss: 0.0676 - categorical_accuracy: 0.9872 - val_loss: 4.2842 - val_categorical_accuracy: 0.4300\n",
      "Epoch 10/30\n",
      "42/42 [==============================] - ETA: 0s - loss: 0.0749 - categorical_accuracy: 0.9811\n",
      "Epoch 00010: val_loss did not improve from 1.77817\n",
      "42/42 [==============================] - 403s 10s/step - loss: 0.0749 - categorical_accuracy: 0.9811 - val_loss: 3.5997 - val_categorical_accuracy: 0.4900\n",
      "Epoch 11/30\n",
      "42/42 [==============================] - ETA: 0s - loss: 0.0815 - categorical_accuracy: 0.9811\n",
      "Epoch 00011: ReduceLROnPlateau reducing learning rate to 1.000000082740371e-08.\n",
      "\n",
      "Epoch 00011: val_loss did not improve from 1.77817\n",
      "42/42 [==============================] - 416s 10s/step - loss: 0.0815 - categorical_accuracy: 0.9811 - val_loss: 2.9836 - val_categorical_accuracy: 0.5400\n",
      "Epoch 12/30\n",
      "42/42 [==============================] - ETA: 0s - loss: 0.0677 - categorical_accuracy: 0.9887\n",
      "Epoch 00012: val_loss did not improve from 1.77817\n",
      "42/42 [==============================] - 419s 10s/step - loss: 0.0677 - categorical_accuracy: 0.9887 - val_loss: 2.4855 - val_categorical_accuracy: 0.5800\n",
      "Epoch 13/30\n",
      "42/42 [==============================] - ETA: 0s - loss: 0.0720 - categorical_accuracy: 0.9827\n",
      "Epoch 00013: ReduceLROnPlateau reducing learning rate to 1.000000082740371e-09.\n",
      "\n",
      "Epoch 00013: val_loss did not improve from 1.77817\n",
      "42/42 [==============================] - 408s 10s/step - loss: 0.0720 - categorical_accuracy: 0.9827 - val_loss: 2.0872 - val_categorical_accuracy: 0.6200\n",
      "Epoch 14/30\n",
      "42/42 [==============================] - ETA: 0s - loss: 0.0608 - categorical_accuracy: 0.9879\n",
      "Epoch 00014: val_loss improved from 1.77817 to 1.76807, saving model to model_init_2021-07-2814_49_57.003681/model-00014-0.06078-0.98793-1.76807-0.66000.h5\n",
      "42/42 [==============================] - 418s 10s/step - loss: 0.0608 - categorical_accuracy: 0.9879 - val_loss: 1.7681 - val_categorical_accuracy: 0.6600\n",
      "Epoch 15/30\n",
      "42/42 [==============================] - ETA: 0s - loss: 0.0731 - categorical_accuracy: 0.9804\n",
      "Epoch 00015: val_loss improved from 1.76807 to 1.51588, saving model to model_init_2021-07-2814_49_57.003681/model-00015-0.07306-0.98039-1.51588-0.72000.h5\n",
      "42/42 [==============================] - 420s 10s/step - loss: 0.0731 - categorical_accuracy: 0.9804 - val_loss: 1.5159 - val_categorical_accuracy: 0.7200\n",
      "Epoch 16/30\n",
      "42/42 [==============================] - ETA: 0s - loss: 0.0768 - categorical_accuracy: 0.9759\n",
      "Epoch 00016: val_loss improved from 1.51588 to 1.31491, saving model to model_init_2021-07-2814_49_57.003681/model-00016-0.07681-0.97587-1.31491-0.75000.h5\n",
      "42/42 [==============================] - 415s 10s/step - loss: 0.0768 - categorical_accuracy: 0.9759 - val_loss: 1.3149 - val_categorical_accuracy: 0.7500\n",
      "Epoch 17/30\n",
      "42/42 [==============================] - ETA: 0s - loss: 0.0622 - categorical_accuracy: 0.9872\n",
      "Epoch 00017: val_loss improved from 1.31491 to 1.14636, saving model to model_init_2021-07-2814_49_57.003681/model-00017-0.06216-0.98718-1.14636-0.78000.h5\n",
      "42/42 [==============================] - 413s 10s/step - loss: 0.0622 - categorical_accuracy: 0.9872 - val_loss: 1.1464 - val_categorical_accuracy: 0.7800\n",
      "Epoch 18/30\n",
      "42/42 [==============================] - ETA: 0s - loss: 0.0724 - categorical_accuracy: 0.9819\n",
      "Epoch 00018: val_loss improved from 1.14636 to 1.01758, saving model to model_init_2021-07-2814_49_57.003681/model-00018-0.07241-0.98190-1.01758-0.79000.h5\n",
      "42/42 [==============================] - 422s 10s/step - loss: 0.0724 - categorical_accuracy: 0.9819 - val_loss: 1.0176 - val_categorical_accuracy: 0.7900\n",
      "Epoch 19/30\n",
      "42/42 [==============================] - ETA: 0s - loss: 0.0708 - categorical_accuracy: 0.9827\n",
      "Epoch 00019: val_loss improved from 1.01758 to 0.91797, saving model to model_init_2021-07-2814_49_57.003681/model-00019-0.07081-0.98265-0.91797-0.80000.h5\n",
      "42/42 [==============================] - 413s 10s/step - loss: 0.0708 - categorical_accuracy: 0.9827 - val_loss: 0.9180 - val_categorical_accuracy: 0.8000\n",
      "Epoch 20/30\n",
      "42/42 [==============================] - ETA: 0s - loss: 0.0706 - categorical_accuracy: 0.9849\n",
      "Epoch 00020: val_loss improved from 0.91797 to 0.83709, saving model to model_init_2021-07-2814_49_57.003681/model-00020-0.07064-0.98492-0.83709-0.81000.h5\n",
      "42/42 [==============================] - 405s 10s/step - loss: 0.0706 - categorical_accuracy: 0.9849 - val_loss: 0.8371 - val_categorical_accuracy: 0.8100\n",
      "Epoch 21/30\n",
      "42/42 [==============================] - ETA: 0s - loss: 0.0710 - categorical_accuracy: 0.9842\n",
      "Epoch 00021: val_loss improved from 0.83709 to 0.76788, saving model to model_init_2021-07-2814_49_57.003681/model-00021-0.07096-0.98416-0.76788-0.81000.h5\n",
      "42/42 [==============================] - 401s 10s/step - loss: 0.0710 - categorical_accuracy: 0.9842 - val_loss: 0.7679 - val_categorical_accuracy: 0.8100\n",
      "Epoch 22/30\n",
      "42/42 [==============================] - ETA: 0s - loss: 0.0790 - categorical_accuracy: 0.9766\n",
      "Epoch 00022: val_loss improved from 0.76788 to 0.70870, saving model to model_init_2021-07-2814_49_57.003681/model-00022-0.07901-0.97662-0.70870-0.82000.h5\n",
      "42/42 [==============================] - 400s 10s/step - loss: 0.0790 - categorical_accuracy: 0.9766 - val_loss: 0.7087 - val_categorical_accuracy: 0.8200\n",
      "Epoch 23/30\n",
      "42/42 [==============================] - ETA: 0s - loss: 0.0767 - categorical_accuracy: 0.9781\n",
      "Epoch 00023: val_loss improved from 0.70870 to 0.65644, saving model to model_init_2021-07-2814_49_57.003681/model-00023-0.07668-0.97813-0.65644-0.82000.h5\n",
      "42/42 [==============================] - 408s 10s/step - loss: 0.0767 - categorical_accuracy: 0.9781 - val_loss: 0.6564 - val_categorical_accuracy: 0.8200\n",
      "Epoch 24/30\n",
      "42/42 [==============================] - ETA: 0s - loss: 0.0682 - categorical_accuracy: 0.9804\n",
      "Epoch 00024: val_loss improved from 0.65644 to 0.60944, saving model to model_init_2021-07-2814_49_57.003681/model-00024-0.06820-0.98039-0.60944-0.82000.h5\n",
      "42/42 [==============================] - 400s 10s/step - loss: 0.0682 - categorical_accuracy: 0.9804 - val_loss: 0.6094 - val_categorical_accuracy: 0.8200\n",
      "Epoch 25/30\n",
      "42/42 [==============================] - ETA: 0s - loss: 0.0658 - categorical_accuracy: 0.9834\n",
      "Epoch 00025: val_loss improved from 0.60944 to 0.57018, saving model to model_init_2021-07-2814_49_57.003681/model-00025-0.06576-0.98341-0.57018-0.84000.h5\n",
      "42/42 [==============================] - 385s 9s/step - loss: 0.0658 - categorical_accuracy: 0.9834 - val_loss: 0.5702 - val_categorical_accuracy: 0.8400\n",
      "Epoch 26/30\n",
      "42/42 [==============================] - ETA: 0s - loss: 0.0754 - categorical_accuracy: 0.9789\n",
      "Epoch 00026: val_loss improved from 0.57018 to 0.53865, saving model to model_init_2021-07-2814_49_57.003681/model-00026-0.07536-0.97888-0.53865-0.86000.h5\n",
      "42/42 [==============================] - 390s 9s/step - loss: 0.0754 - categorical_accuracy: 0.9789 - val_loss: 0.5386 - val_categorical_accuracy: 0.8600\n",
      "Epoch 27/30\n",
      "42/42 [==============================] - ETA: 0s - loss: 0.0782 - categorical_accuracy: 0.9766\n",
      "Epoch 00027: val_loss improved from 0.53865 to 0.51393, saving model to model_init_2021-07-2814_49_57.003681/model-00027-0.07819-0.97662-0.51393-0.85000.h5\n",
      "42/42 [==============================] - 383s 9s/step - loss: 0.0782 - categorical_accuracy: 0.9766 - val_loss: 0.5139 - val_categorical_accuracy: 0.8500\n",
      "Epoch 28/30\n",
      "42/42 [==============================] - ETA: 0s - loss: 0.0806 - categorical_accuracy: 0.9789\n",
      "Epoch 00028: val_loss improved from 0.51393 to 0.49501, saving model to model_init_2021-07-2814_49_57.003681/model-00028-0.08058-0.97888-0.49501-0.85000.h5\n",
      "42/42 [==============================] - 386s 9s/step - loss: 0.0806 - categorical_accuracy: 0.9789 - val_loss: 0.4950 - val_categorical_accuracy: 0.8500\n",
      "Epoch 29/30\n",
      "42/42 [==============================] - ETA: 0s - loss: 0.0728 - categorical_accuracy: 0.9804\n",
      "Epoch 00029: val_loss improved from 0.49501 to 0.47847, saving model to model_init_2021-07-2814_49_57.003681/model-00029-0.07277-0.98039-0.47847-0.85000.h5\n",
      "42/42 [==============================] - 376s 9s/step - loss: 0.0728 - categorical_accuracy: 0.9804 - val_loss: 0.4785 - val_categorical_accuracy: 0.8500\n",
      "Epoch 30/30\n",
      "42/42 [==============================] - ETA: 0s - loss: 0.0792 - categorical_accuracy: 0.9796\n",
      "Epoch 00030: val_loss improved from 0.47847 to 0.46280, saving model to model_init_2021-07-2814_49_57.003681/model-00030-0.07915-0.97964-0.46280-0.85000.h5\n",
      "42/42 [==============================] - 401s 10s/step - loss: 0.0792 - categorical_accuracy: 0.9796 - val_loss: 0.4628 - val_categorical_accuracy: 0.8500\n"
     ]
    },
    {
     "data": {
      "text/plain": [
       "<tensorflow.python.keras.callbacks.History at 0x7f23a4599588>"
      ]
     },
     "execution_count": 28,
     "metadata": {},
     "output_type": "execute_result"
    }
   ],
   "source": [
    "model.fit_generator(train_generator, steps_per_epoch=steps_per_epoch, epochs=num_epochs, verbose=1, \n",
    "                    callbacks=callbacks_list, validation_data=val_generator, \n",
    "                    validation_steps=validation_steps, class_weight=None, workers=1, initial_epoch=0)"
   ]
  },
  {
   "cell_type": "code",
   "execution_count": 29,
   "metadata": {},
   "outputs": [],
   "source": [
    "convAugModel = model"
   ]
  },
  {
   "cell_type": "code",
   "execution_count": 30,
   "metadata": {},
   "outputs": [
    {
     "data": {
      "image/png": "[encoded data removed]",
      "text/plain": [
       "<Figure size 1080x288 with 2 Axes>"
      ]
     },
     "metadata": {
      "needs_background": "light"
     },
     "output_type": "display_data"
    }
   ],
   "source": [
    "plot(convAugModel)"
   ]
  },
  {
   "cell_type": "markdown",
   "metadata": {},
   "source": [
    "#### Accuracy: 97.96%\n",
    "#### Validation Acc: 85%\n",
    "\n",
    "#### Result: The model is still overfitting the data"
   ]
  },
  {
   "cell_type": "markdown",
   "metadata": {},
   "source": [
    "## Loading model and Testing"
   ]
  },
  {
   "cell_type": "code",
   "execution_count": 4,
   "metadata": {},
   "outputs": [
    {
     "name": "stdout",
     "output_type": "stream",
     "text": [
      "WARNING:tensorflow:Layer gru will not use cuDNN kernel since it doesn't meet the cuDNN kernel criteria. It will use generic GPU kernel as fallback when running on GPU\n"
     ]
    }
   ],
   "source": [
    "import time\n",
    "from keras.models import load_model\n",
    "model = load_model('model_init_2021-07-2814_49_57.003681/model-00029-0.07277-0.98039-0.47847-0.85000.h5')"
   ]
  },
  {
   "cell_type": "markdown",
   "metadata": {},
   "source": [
    "Let us create the `val_generator` which will be used in predicting labels."
   ]
  },
  {
   "cell_type": "code",
   "execution_count": 14,
   "metadata": {},
   "outputs": [],
   "source": [
    "batch_size = 20\n",
    "\n",
    "val_generator = generator(val_path, val_doc, batch_size)"
   ]
  },
  {
   "cell_type": "code",
   "execution_count": 15,
   "metadata": {},
   "outputs": [
    {
     "name": "stdout",
     "output_type": "stream",
     "text": [
      "Source path =  datasets/Project_data/val ; batch size = 20\n"
     ]
    }
   ],
   "source": [
    "batch_data, batch_labels=next(val_generator)"
   ]
  },
  {
   "cell_type": "code",
   "execution_count": 16,
   "metadata": {},
   "outputs": [
    {
     "data": {
      "text/plain": [
       "array([[1., 0., 0., 0., 0.],\n",
       "       [0., 0., 1., 0., 0.],\n",
       "       [0., 1., 0., 0., 0.],\n",
       "       [0., 0., 1., 0., 0.],\n",
       "       [0., 1., 0., 0., 0.],\n",
       "       [1., 0., 0., 0., 0.],\n",
       "       [0., 0., 1., 0., 0.],\n",
       "       [0., 1., 0., 0., 0.],\n",
       "       [0., 0., 0., 1., 0.],\n",
       "       [0., 1., 0., 0., 0.],\n",
       "       [0., 0., 0., 0., 1.],\n",
       "       [0., 1., 0., 0., 0.],\n",
       "       [0., 0., 0., 1., 0.],\n",
       "       [0., 0., 1., 0., 0.],\n",
       "       [0., 0., 1., 0., 0.],\n",
       "       [1., 0., 0., 0., 0.],\n",
       "       [0., 1., 0., 0., 0.],\n",
       "       [0., 0., 0., 0., 1.],\n",
       "       [0., 1., 0., 0., 0.],\n",
       "       [1., 0., 0., 0., 0.]])"
      ]
     },
     "execution_count": 16,
     "metadata": {},
     "output_type": "execute_result"
    }
   ],
   "source": [
    "batch_labels"
   ]
  },
  {
   "cell_type": "code",
   "execution_count": 30,
   "metadata": {},
   "outputs": [
    {
     "data": {
      "text/plain": [
       "(30, 100, 100, 3)"
      ]
     },
     "execution_count": 30,
     "metadata": {},
     "output_type": "execute_result"
    }
   ],
   "source": [
    "batch_data[0][0].shape"
   ]
  },
  {
   "cell_type": "code",
   "execution_count": 35,
   "metadata": {},
   "outputs": [
    {
     "data": {
      "text/plain": [
       "30"
      ]
     },
     "execution_count": 35,
     "metadata": {},
     "output_type": "execute_result"
    }
   ],
   "source": [
    "batch_data[0].shape[0]"
   ]
  },
  {
   "cell_type": "code",
   "execution_count": 109,
   "metadata": {},
   "outputs": [
    {
     "data": {
      "text/html": [
       "<div>\n",
       "<style scoped>\n",
       "    .dataframe tbody tr th:only-of-type {\n",
       "        vertical-align: middle;\n",
       "    }\n",
       "\n",
       "    .dataframe tbody tr th {\n",
       "        vertical-align: top;\n",
       "    }\n",
       "\n",
       "    .dataframe thead th {\n",
       "        text-align: right;\n",
       "    }\n",
       "</style>\n",
       "<table border=\"1\" class=\"dataframe\">\n",
       "  <thead>\n",
       "    <tr style=\"text-align: right;\">\n",
       "      <th></th>\n",
       "      <th>Type</th>\n",
       "      <th>Tag</th>\n",
       "    </tr>\n",
       "  </thead>\n",
       "  <tbody>\n",
       "    <tr>\n",
       "      <th>0</th>\n",
       "      <td>Left_Swipe_new</td>\n",
       "      <td>0</td>\n",
       "    </tr>\n",
       "    <tr>\n",
       "      <th>1</th>\n",
       "      <td>Right_Swipe_new</td>\n",
       "      <td>1</td>\n",
       "    </tr>\n",
       "    <tr>\n",
       "      <th>2</th>\n",
       "      <td>Stop_new</td>\n",
       "      <td>2</td>\n",
       "    </tr>\n",
       "    <tr>\n",
       "      <th>3</th>\n",
       "      <td>Thumbs_Down_new</td>\n",
       "      <td>3</td>\n",
       "    </tr>\n",
       "    <tr>\n",
       "      <th>4</th>\n",
       "      <td>Thumbs_Up_new</td>\n",
       "      <td>4</td>\n",
       "    </tr>\n",
       "  </tbody>\n",
       "</table>\n",
       "</div>"
      ],
      "text/plain": [
       "              Type Tag\n",
       "0   Left_Swipe_new   0\n",
       "1  Right_Swipe_new   1\n",
       "2         Stop_new   2\n",
       "3  Thumbs_Down_new   3\n",
       "4    Thumbs_Up_new   4"
      ]
     },
     "execution_count": 109,
     "metadata": {},
     "output_type": "execute_result"
    }
   ],
   "source": [
    "temp = pd.DataFrame(columns=['Type','Tag'])\n",
    "\n",
    "temp = temp.append(td.iloc[0, [td.columns.get_loc(\"Type\"),td.columns.get_loc(\"Tag\")]])\n",
    "\n",
    "temp = temp.append(td.iloc[96, [td.columns.get_loc(\"Type\"),td.columns.get_loc(\"Tag\")]])\n",
    "\n",
    "temp = temp.append(td.iloc[199, [td.columns.get_loc(\"Type\"),td.columns.get_loc(\"Tag\")]])\n",
    "\n",
    "temp = temp.append(td.iloc[292, [td.columns.get_loc(\"Type\"),td.columns.get_loc(\"Tag\")]])\n",
    "\n",
    "temp = temp.append(td.iloc[392, [td.columns.get_loc(\"Type\"),td.columns.get_loc(\"Tag\")]])\n",
    "\n",
    "temp.reset_index(inplace=True)\n",
    "\n",
    "temp[['Type','Tag']]"
   ]
  },
  {
   "cell_type": "code",
   "execution_count": 41,
   "metadata": {},
   "outputs": [
    {
     "data": {
      "image/png": "[encoded data removed]",
      "text/plain": [
       "<Figure size 432x288 with 1 Axes>"
      ]
     },
     "metadata": {
      "needs_background": "light"
     },
     "output_type": "display_data"
    }
   ],
   "source": [
    "import matplotlib.pyplot as plt\n",
    "%matplotlib inline\n",
    "plt.imshow(batch_data[1][0].astype(np.uint8))\n",
    "plt.show()"
   ]
  },
  {
   "cell_type": "code",
   "execution_count": 110,
   "metadata": {},
   "outputs": [
    {
     "name": "stdout",
     "output_type": "stream",
     "text": [
      "2\n"
     ]
    }
   ],
   "source": [
    "print(np.argmax(model.predict(batch_data[:,:,:,:,:]),axis=1)[1])"
   ]
  },
  {
   "cell_type": "markdown",
   "metadata": {},
   "source": [
    "<b>As we can see that model predicted class of the image as 2 which belongs to \"Stop_new\" label.<br/> So our model predicted the class of the image accurately.</b>"
   ]
  },
  {
   "cell_type": "code",
   "execution_count": null,
   "metadata": {},
   "outputs": [],
   "source": []
  }
 ],
 "metadata": {
  "kernelspec": {
   "display_name": "Python 3",
   "language": "python",
   "name": "python3"
  },
  "language_info": {
   "codemirror_mode": {
    "name": "ipython",
    "version": 3
   },
   "file_extension": ".py",
   "mimetype": "text/x-python",
   "name": "python",
   "nbconvert_exporter": "python",
   "pygments_lexer": "ipython3",
   "version": "3.6.9"
  }
 },
 "nbformat": 4,
 "nbformat_minor": 4
}
