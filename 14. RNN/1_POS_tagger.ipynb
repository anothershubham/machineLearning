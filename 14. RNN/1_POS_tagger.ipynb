{
  "nbformat": 4,
  "nbformat_minor": 0,
  "metadata": {
    "kernelspec": {
      "display_name": "Python 3",
      "language": "python",
      "name": "python3"
    },
    "language_info": {
      "codemirror_mode": {
        "name": "ipython",
        "version": 3
      },
      "file_extension": ".py",
      "mimetype": "text/x-python",
      "name": "python",
      "nbconvert_exporter": "python",
      "pygments_lexer": "ipython3",
      "version": "3.7.10"
    },
    "colab": {
      "name": "1. POS_tagger.ipynb",
      "provenance": [],
      "collapsed_sections": []
    },
    "accelerator": "GPU"
  },
  "cells": [
    {
      "cell_type": "markdown",
      "metadata": {
        "id": "FQ9OliBQd_87"
      },
      "source": [
        "# POS Tagging - An Overview"
      ]
    },
    {
      "cell_type": "markdown",
      "metadata": {
        "id": "5VaFZhGod_9D"
      },
      "source": [
        "The process of classifying words into their __parts of speech__ and labeling them accordingly is known as **part-of-speech tagging**, or simply **POS-tagging**.\n",
        "\n",
        "The NLTK library has a number of corpora which contains word and its POS tag. The following table provide information about each tag:\n",
        "\n",
        "![POS tags](./jupyter resources/pos_tagging.png)"
      ]
    },
    {
      "cell_type": "markdown",
      "metadata": {
        "id": "H3MnvcHId_9F"
      },
      "source": [
        "# Notebook layout\n",
        "1. Preprocess data\n",
        "2. Vanilla RNN\n",
        "3. Word Embeddings\n",
        "4. LSTM\n",
        "5. GRU\n",
        "6. Bidirectional LSTM\n",
        "7. Model Evaluation"
      ]
    },
    {
      "cell_type": "code",
      "metadata": {
        "id": "p2l6w8Xkd_9I"
      },
      "source": [
        "# import necessary libraries\n",
        "import warnings\n",
        "warnings.filterwarnings(\"ignore\")\n",
        "\n",
        "import numpy as np\n",
        "\n",
        "from matplotlib import pyplot as plt\n",
        "\n",
        "from nltk.corpus import brown\n",
        "from nltk.corpus import treebank\n",
        "from nltk.corpus import conll2000\n",
        "\n",
        "import seaborn as sns\n",
        "\n",
        "from gensim.models import KeyedVectors\n",
        "\n",
        "from tensorflow.keras.preprocessing.sequence import pad_sequences\n",
        "from tensorflow.keras.utils import to_categorical\n",
        "from tensorflow.keras import Sequential, Input, Model\n",
        "from tensorflow.keras.layers import Embedding, Dense, TimeDistributed, LSTM, GRU, Bidirectional, SimpleRNN, RNN\n",
        "from tensorflow.keras.preprocessing.text import Tokenizer\n",
        "\n",
        "from sklearn.model_selection import train_test_split\n",
        "from sklearn.utils import shuffle"
      ],
      "execution_count": 1,
      "outputs": []
    },
    {
      "cell_type": "markdown",
      "metadata": {
        "id": "ko38wXbRd_9J"
      },
      "source": [
        "# 1. Preprocess data"
      ]
    },
    {
      "cell_type": "markdown",
      "metadata": {
        "id": "ZR-okw4cd_9K"
      },
      "source": [
        "## Load data"
      ]
    },
    {
      "cell_type": "code",
      "metadata": {
        "colab": {
          "base_uri": "https://localhost:8080/"
        },
        "id": "CfkOM24zd_9L",
        "outputId": "4c9d12bc-30c7-4dd1-89df-48bab80f420b"
      },
      "source": [
        "import nltk\n",
        "nltk.download('treebank')\n",
        "nltk.download('brown')\n",
        "nltk.download('conll2000')\n",
        "nltk.download('universal_tagset')\n",
        "\n",
        "# load POS tagged corpora from NLTK\n",
        "treebank_corpus = treebank.tagged_sents(tagset='universal')\n",
        "brown_corpus = brown.tagged_sents(tagset='universal')\n",
        "conll_corpus = conll2000.tagged_sents(tagset='universal')\n",
        "tagged_sentences = treebank_corpus + brown_corpus + conll_corpus"
      ],
      "execution_count": 2,
      "outputs": [
        {
          "output_type": "stream",
          "text": [
            "[nltk_data] Downloading package treebank to /root/nltk_data...\n",
            "[nltk_data]   Unzipping corpora/treebank.zip.\n",
            "[nltk_data] Downloading package brown to /root/nltk_data...\n",
            "[nltk_data]   Unzipping corpora/brown.zip.\n",
            "[nltk_data] Downloading package conll2000 to /root/nltk_data...\n",
            "[nltk_data]   Unzipping corpora/conll2000.zip.\n",
            "[nltk_data] Downloading package universal_tagset to /root/nltk_data...\n",
            "[nltk_data]   Unzipping taggers/universal_tagset.zip.\n"
          ],
          "name": "stdout"
        }
      ]
    },
    {
      "cell_type": "code",
      "metadata": {
        "colab": {
          "base_uri": "https://localhost:8080/"
        },
        "id": "HNkKh3-Md_9M",
        "outputId": "a3ec3cac-d90e-4b04-9cc1-6dba2985d617"
      },
      "source": [
        "# let's look at the data\n",
        "tagged_sentences[11]"
      ],
      "execution_count": 3,
      "outputs": [
        {
          "output_type": "execute_result",
          "data": {
            "text/plain": [
              "[('``', '.'),\n",
              " ('We', 'PRON'),\n",
              " ('have', 'VERB'),\n",
              " ('no', 'DET'),\n",
              " ('useful', 'ADJ'),\n",
              " ('information', 'NOUN'),\n",
              " ('on', 'ADP'),\n",
              " ('whether', 'ADP'),\n",
              " ('users', 'NOUN'),\n",
              " ('are', 'VERB'),\n",
              " ('at', 'ADP'),\n",
              " ('risk', 'NOUN'),\n",
              " (',', '.'),\n",
              " (\"''\", '.'),\n",
              " ('said', 'VERB'),\n",
              " ('*T*-1', 'X'),\n",
              " ('James', 'NOUN'),\n",
              " ('A.', 'NOUN'),\n",
              " ('Talcott', 'NOUN'),\n",
              " ('of', 'ADP'),\n",
              " ('Boston', 'NOUN'),\n",
              " (\"'s\", 'PRT'),\n",
              " ('Dana-Farber', 'NOUN'),\n",
              " ('Cancer', 'NOUN'),\n",
              " ('Institute', 'NOUN'),\n",
              " ('.', '.')]"
            ]
          },
          "metadata": {
            "tags": []
          },
          "execution_count": 3
        }
      ]
    },
    {
      "cell_type": "markdown",
      "metadata": {
        "id": "x6CemerJd_9N"
      },
      "source": [
        "## Divide data in words (X) and tags (Y)"
      ]
    },
    {
      "cell_type": "markdown",
      "metadata": {
        "id": "tTh0B9ild_9N"
      },
      "source": [
        "Since this is a **many-to-many** problem, each data point will be a different sentence of the corpora.\n",
        "\n",
        "Each data point will have multiple words in the **input sequence**. This is what we will refer to as **X**.\n",
        "\n",
        "Each word will have its correpsonding tag in the **output sequence**. This what we will refer to as **Y**.\n",
        "\n",
        "Sample dataset:\n",
        "\n",
        "|                    X                        |                 Y                |\n",
        "|---------------------------------------------|----------------------------------|\n",
        "|   Mr. Vinken is chairman of Elsevier        |   NOUN NOUN VERB NOUN ADP NOUN   |\n",
        "|     We have no useful information           |      PRON VERB DET ADJ NOUN      |"
      ]
    },
    {
      "cell_type": "code",
      "metadata": {
        "id": "a7wWO25gd_9O"
      },
      "source": [
        "X = [] # store input sequence\n",
        "Y = [] # store output sequence\n",
        "\n",
        "for sentence in tagged_sentences:\n",
        "    X_sentence = []\n",
        "    Y_sentence = []\n",
        "    for entity in sentence:         \n",
        "        X_sentence.append(entity[0])  # entity[0] contains the word\n",
        "        Y_sentence.append(entity[1])  # entity[1] contains corresponding tag\n",
        "        \n",
        "    X.append(X_sentence)\n",
        "    Y.append(Y_sentence)"
      ],
      "execution_count": 4,
      "outputs": []
    },
    {
      "cell_type": "code",
      "metadata": {
        "id": "jrVDHMtgd_9O"
      },
      "source": [
        "num_words = len(set([word.lower() for sentence in X for word in sentence]))\n",
        "num_tags   = len(set([word.lower() for sentence in Y for word in sentence]))"
      ],
      "execution_count": 5,
      "outputs": []
    },
    {
      "cell_type": "code",
      "metadata": {
        "colab": {
          "base_uri": "https://localhost:8080/"
        },
        "id": "lYAinwq3d_9O",
        "outputId": "282a8562-8b0a-4265-fdd0-a203103d41a0"
      },
      "source": [
        "print(\"Total number of tagged sentences: {}\".format(len(X)))\n",
        "print(\"Vocabulary size: {}\".format(num_words))\n",
        "print(\"Total number of tags: {}\".format(num_tags))"
      ],
      "execution_count": 6,
      "outputs": [
        {
          "output_type": "stream",
          "text": [
            "Total number of tagged sentences: 72202\n",
            "Vocabulary size: 59448\n",
            "Total number of tags: 12\n"
          ],
          "name": "stdout"
        }
      ]
    },
    {
      "cell_type": "code",
      "metadata": {
        "colab": {
          "base_uri": "https://localhost:8080/"
        },
        "id": "95eZFgEpd_9P",
        "outputId": "6cf2a7c5-af84-40d5-c35e-2db42f12bc4c"
      },
      "source": [
        "# let's look at first data point\n",
        "# this is one data point that will be fed to the RNN\n",
        "print('sample X: ', X[0], '\\n')\n",
        "print('sample Y: ', Y[0], '\\n')"
      ],
      "execution_count": 7,
      "outputs": [
        {
          "output_type": "stream",
          "text": [
            "sample X:  ['Pierre', 'Vinken', ',', '61', 'years', 'old', ',', 'will', 'join', 'the', 'board', 'as', 'a', 'nonexecutive', 'director', 'Nov.', '29', '.'] \n",
            "\n",
            "sample Y:  ['NOUN', 'NOUN', '.', 'NUM', 'NOUN', 'ADJ', '.', 'VERB', 'VERB', 'DET', 'NOUN', 'ADP', 'DET', 'ADJ', 'NOUN', 'NOUN', 'NUM', '.'] \n",
            "\n"
          ],
          "name": "stdout"
        }
      ]
    },
    {
      "cell_type": "code",
      "metadata": {
        "colab": {
          "base_uri": "https://localhost:8080/"
        },
        "id": "X10tX9qzd_9P",
        "outputId": "bbf48b2c-37fa-47a7-a13a-513d44dde234"
      },
      "source": [
        "# In this many-to-many problem, the length of each input and output sequence must be the same.\n",
        "# Since each word is tagged, it's important to make sure that the length of input sequence equals the output sequence\n",
        "print(\"Length of first input sequence  : {}\".format(len(X[0])))\n",
        "print(\"Length of first output sequence : {}\".format(len(Y[0])))"
      ],
      "execution_count": 8,
      "outputs": [
        {
          "output_type": "stream",
          "text": [
            "Length of first input sequence  : 18\n",
            "Length of first output sequence : 18\n"
          ],
          "name": "stdout"
        }
      ]
    },
    {
      "cell_type": "markdown",
      "metadata": {
        "id": "lRZdytdkd_9Q"
      },
      "source": [
        "## Vectorise X and Y"
      ]
    },
    {
      "cell_type": "markdown",
      "metadata": {
        "id": "qcG6rZBvd_9Q"
      },
      "source": [
        "#### Encode X and Y to integer values\n",
        "\n",
        "We'll use the Tokenizer() function from Keras library to encode text sequence to integer sequence"
      ]
    },
    {
      "cell_type": "code",
      "metadata": {
        "id": "IUk6WwpDd_9R"
      },
      "source": [
        "# encode X\n",
        "\n",
        "word_tokenizer = Tokenizer()                      # instantiate tokeniser\n",
        "word_tokenizer.fit_on_texts(X)                    # fit tokeniser on data\n",
        "X_encoded = word_tokenizer.texts_to_sequences(X)  # use the tokeniser to encode input sequence"
      ],
      "execution_count": 6,
      "outputs": []
    },
    {
      "cell_type": "code",
      "metadata": {
        "id": "EweIeUHvd_9d"
      },
      "source": [
        "# encode Y\n",
        "\n",
        "tag_tokenizer = Tokenizer()\n",
        "tag_tokenizer.fit_on_texts(Y)\n",
        "Y_encoded = tag_tokenizer.texts_to_sequences(Y)"
      ],
      "execution_count": 7,
      "outputs": []
    },
    {
      "cell_type": "code",
      "metadata": {
        "colab": {
          "base_uri": "https://localhost:8080/"
        },
        "id": "rAC_zPf6d_9e",
        "outputId": "b424119c-c2fc-45f5-9e8d-9d04d7c4253b"
      },
      "source": [
        "# look at first encoded data point\n",
        "\n",
        "print(\"** Raw data point **\", \"\\n\", \"-\"*100, \"\\n\")\n",
        "print('X: ', X[0], '\\n')\n",
        "print('Y: ', Y[0], '\\n')\n",
        "print()\n",
        "print(\"** Encoded data point **\", \"\\n\", \"-\"*100, \"\\n\")\n",
        "print('X: ', X_encoded[0], '\\n')\n",
        "print('Y: ', Y_encoded[0], '\\n')"
      ],
      "execution_count": 11,
      "outputs": [
        {
          "output_type": "stream",
          "text": [
            "** Raw data point ** \n",
            " ---------------------------------------------------------------------------------------------------- \n",
            "\n",
            "X:  ['Pierre', 'Vinken', ',', '61', 'years', 'old', ',', 'will', 'join', 'the', 'board', 'as', 'a', 'nonexecutive', 'director', 'Nov.', '29', '.'] \n",
            "\n",
            "Y:  ['NOUN', 'NOUN', '.', 'NUM', 'NOUN', 'ADJ', '.', 'VERB', 'VERB', 'DET', 'NOUN', 'ADP', 'DET', 'ADJ', 'NOUN', 'NOUN', 'NUM', '.'] \n",
            "\n",
            "\n",
            "** Encoded data point ** \n",
            " ---------------------------------------------------------------------------------------------------- \n",
            "\n",
            "X:  [6423, 24231, 2, 7652, 102, 170, 2, 47, 1898, 1, 269, 17, 7, 13230, 619, 1711, 2761, 3] \n",
            "\n",
            "Y:  [1, 1, 3, 11, 1, 6, 3, 2, 2, 5, 1, 4, 5, 6, 1, 1, 11, 3] \n",
            "\n"
          ],
          "name": "stdout"
        }
      ]
    },
    {
      "cell_type": "code",
      "metadata": {
        "colab": {
          "base_uri": "https://localhost:8080/"
        },
        "id": "kLGzcMXJd_9e",
        "outputId": "98616fc7-0739-43cc-fa74-7e48c071c59c"
      },
      "source": [
        "# make sure that each sequence of input and output is same length\n",
        "\n",
        "different_length = [1 if len(input) != len(output) else 0 for input, output in zip(X_encoded, Y_encoded)]\n",
        "print(\"{} sentences have disparate input-output lengths.\".format(sum(different_length)))"
      ],
      "execution_count": 8,
      "outputs": [
        {
          "output_type": "stream",
          "text": [
            "0 sentences have disparate input-output lengths.\n"
          ],
          "name": "stdout"
        }
      ]
    },
    {
      "cell_type": "markdown",
      "metadata": {
        "id": "MY1IS45Gd_-A"
      },
      "source": [
        "## Pad sequences"
      ]
    },
    {
      "cell_type": "markdown",
      "metadata": {
        "id": "dMSeXyCud_-B"
      },
      "source": [
        "The next step after encoding the data is to **define the sequence lengths**. As of now, the sentences present in the data are of various lengths. We need to either pad short sentences or truncate long sentences to a fixed length. This fixed length, however, is a **hyperparameter**."
      ]
    },
    {
      "cell_type": "code",
      "metadata": {
        "colab": {
          "base_uri": "https://localhost:8080/"
        },
        "id": "enSulyWrd_-C",
        "outputId": "117fb80d-8b58-41a0-a4a2-ad9eaa31afa3"
      },
      "source": [
        "# check length of longest sentence\n",
        "lengths = [len(seq) for seq in X_encoded]\n",
        "print(\"Length of longest sentence: {}\".format(max(lengths)))"
      ],
      "execution_count": 14,
      "outputs": [
        {
          "output_type": "stream",
          "text": [
            "Length of longest sentence: 271\n"
          ],
          "name": "stdout"
        }
      ]
    },
    {
      "cell_type": "code",
      "metadata": {
        "colab": {
          "base_uri": "https://localhost:8080/",
          "height": 265
        },
        "id": "c8DmaQp4d_-C",
        "outputId": "3b535b8a-2768-4ba5-921f-53ccbf92d2f7"
      },
      "source": [
        "sns.boxplot(lengths)\n",
        "plt.show()"
      ],
      "execution_count": 15,
      "outputs": [
        {
          "output_type": "display_data",
          "data": {
            "image/png": "[encoded data removed]",
            "text/plain": [
              "<Figure size 432x288 with 1 Axes>"
            ]
          },
          "metadata": {
            "tags": [],
            "needs_background": "light"
          }
        }
      ]
    },
    {
      "cell_type": "code",
      "metadata": {
        "id": "LMw7Okb0d_-D"
      },
      "source": [
        "# Pad each sequence to MAX_SEQ_LENGTH using KERAS' pad_sequences() function. \n",
        "# Sentences longer than MAX_SEQ_LENGTH are truncated.\n",
        "# Sentences shorter than MAX_SEQ_LENGTH are padded with zeroes.\n",
        "\n",
        "# Truncation and padding can either be 'pre' or 'post'. \n",
        "# For padding we are using 'pre' padding type, that is, add zeroes on the left side.\n",
        "# For truncation, we are using 'post', that is, truncate a sentence from right side.\n",
        "\n",
        "MAX_SEQ_LENGTH = 100  # sequences greater than 100 in length will be truncated\n",
        "\n",
        "X_padded = pad_sequences(X_encoded, maxlen=MAX_SEQ_LENGTH, padding=\"pre\", truncating=\"post\")\n",
        "Y_padded = pad_sequences(Y_encoded, maxlen=MAX_SEQ_LENGTH, padding=\"pre\", truncating=\"post\")"
      ],
      "execution_count": 9,
      "outputs": []
    },
    {
      "cell_type": "code",
      "metadata": {
        "scrolled": true,
        "colab": {
          "base_uri": "https://localhost:8080/"
        },
        "id": "D_vW5FY4d_-D",
        "outputId": "ecf84b97-f65f-4c8d-a095-b6af435b3daf"
      },
      "source": [
        "# print the first sequence\n",
        "print(X_padded[0], \"\\n\"*3)\n",
        "print(Y_padded[0])"
      ],
      "execution_count": 17,
      "outputs": [
        {
          "output_type": "stream",
          "text": [
            "[    0     0     0     0     0     0     0     0     0     0     0     0\n",
            "     0     0     0     0     0     0     0     0     0     0     0     0\n",
            "     0     0     0     0     0     0     0     0     0     0     0     0\n",
            "     0     0     0     0     0     0     0     0     0     0     0     0\n",
            "     0     0     0     0     0     0     0     0     0     0     0     0\n",
            "     0     0     0     0     0     0     0     0     0     0     0     0\n",
            "     0     0     0     0     0     0     0     0     0     0  6423 24231\n",
            "     2  7652   102   170     2    47  1898     1   269    17     7 13230\n",
            "   619  1711  2761     3] \n",
            "\n",
            "\n",
            "\n",
            "[ 0  0  0  0  0  0  0  0  0  0  0  0  0  0  0  0  0  0  0  0  0  0  0  0\n",
            "  0  0  0  0  0  0  0  0  0  0  0  0  0  0  0  0  0  0  0  0  0  0  0  0\n",
            "  0  0  0  0  0  0  0  0  0  0  0  0  0  0  0  0  0  0  0  0  0  0  0  0\n",
            "  0  0  0  0  0  0  0  0  0  0  1  1  3 11  1  6  3  2  2  5  1  4  5  6\n",
            "  1  1 11  3]\n"
          ],
          "name": "stdout"
        }
      ]
    },
    {
      "cell_type": "markdown",
      "metadata": {
        "id": "7v7YErXrd_-E"
      },
      "source": [
        "RNN will learn the zero to zero mapping while training. So we don't need to worry about the padded zeroes. Please note that zero is not reserved for any word or tag, it's only reserved for padding."
      ]
    },
    {
      "cell_type": "code",
      "metadata": {
        "id": "eEA3FSLKd_-E"
      },
      "source": [
        "# assign padded sequences to X and Y\n",
        "X, Y = X_padded, Y_padded"
      ],
      "execution_count": 10,
      "outputs": []
    },
    {
      "cell_type": "markdown",
      "metadata": {
        "id": "u5M-9XK2d_-F"
      },
      "source": [
        "## Word embeddings"
      ]
    },
    {
      "cell_type": "markdown",
      "metadata": {
        "id": "ww1phu1Gd_-F"
      },
      "source": [
        "Currently, each word and each tag is encoded as an integer. \n",
        "\n",
        "We'll use a more sophisticated technique to represent the input words (X) using what's known as **word embeddings**.\n",
        "\n",
        "However, to represent each tag in Y, we'll simply use **one-hot encoding** scheme since there are only 13 tags in the dataset and the LSTM will have no problems in learning its own representation of these tags."
      ]
    },
    {
      "cell_type": "markdown",
      "metadata": {
        "id": "NPlNPAJkd_-F"
      },
      "source": [
        "To use word embeddings, you can go for either of the following models:\n",
        "1. word2vec model: https://code.google.com/archive/p/word2vec/\n",
        "2. GloVe model : https://nlp.stanford.edu/projects/glove/\n",
        "\n",
        "We're using the word2vec model for no particular reason. Both of these are very efficient in representing words. You can try both and see which one works better.\n",
        "\n",
        "Dimensions of a word embedding is: (VOCABULARY_SIZE, EMBEDDING_DIMENSION)"
      ]
    },
    {
      "cell_type": "markdown",
      "metadata": {
        "id": "OrTxI-nnd_-F"
      },
      "source": [
        "### Use word embeddings for input sequences (X)"
      ]
    },
    {
      "cell_type": "code",
      "metadata": {
        "id": "f2IBGMRoezoG"
      },
      "source": [
        "from google.colab import drive"
      ],
      "execution_count": 11,
      "outputs": []
    },
    {
      "cell_type": "code",
      "metadata": {
        "colab": {
          "base_uri": "https://localhost:8080/"
        },
        "id": "09MB6fgEfI1S",
        "outputId": "726b29dc-f0ef-4de6-b9d3-3eb53538a0a9"
      },
      "source": [
        "drive.mount('/content/gdrive')"
      ],
      "execution_count": 12,
      "outputs": [
        {
          "output_type": "stream",
          "text": [
            "Mounted at /content/gdrive\n"
          ],
          "name": "stdout"
        }
      ]
    },
    {
      "cell_type": "code",
      "metadata": {
        "colab": {
          "base_uri": "https://localhost:8080/"
        },
        "id": "ZUpdr0d7fUpM",
        "outputId": "ea5237f2-2f3e-400e-e3de-766aa0baac3d"
      },
      "source": [
        "cd gdrive/MyDrive/'Colab Notebooks'/ \n"
      ],
      "execution_count": 13,
      "outputs": [
        {
          "output_type": "stream",
          "text": [
            "/content/gdrive/MyDrive/Colab Notebooks\n"
          ],
          "name": "stdout"
        }
      ]
    },
    {
      "cell_type": "code",
      "metadata": {
        "id": "Bs92-Wsbd_-G"
      },
      "source": [
        "# word2vec download link (Size ~ 1.5GB): https://drive.google.com/file/d/0B7XkCwpI5KDYNlNUTTlSS21pQmM/edit\n",
        "\n",
        "path = 'GoogleNews-vectors-negative300.bin.gz'\n",
        "\n",
        "# load word2vec using the following function present in the gensim library\n",
        "word2vec = KeyedVectors.load_word2vec_format(path, binary=True)"
      ],
      "execution_count": 14,
      "outputs": []
    },
    {
      "cell_type": "code",
      "metadata": {
        "colab": {
          "base_uri": "https://localhost:8080/"
        },
        "id": "kybfn5MKd_-G",
        "outputId": "e8670567-0b41-4388-bd24-e775b347f356"
      },
      "source": [
        "# word2vec effectiveness\n",
        "word2vec.most_similar(positive = [\"King\", \"Woman\"], negative = [\"Man\"])"
      ],
      "execution_count": 9,
      "outputs": [
        {
          "output_type": "execute_result",
          "data": {
            "text/plain": [
              "[('Queen', 0.4929388165473938),\n",
              " ('Tupou_V.', 0.45174291729927063),\n",
              " ('Oprah_BFF_Gayle', 0.4422132670879364),\n",
              " ('Jackson', 0.440250426530838),\n",
              " ('NECN_Alison', 0.43312832713127136),\n",
              " ('Whitfield', 0.42834725975990295),\n",
              " ('Ida_Vandross', 0.42084527015686035),\n",
              " ('prosecutor_Dan_Satterberg', 0.42075902223587036),\n",
              " ('martin_Luther_King', 0.42059648036956787),\n",
              " ('Coretta_King', 0.42027339339256287)]"
            ]
          },
          "metadata": {
            "tags": []
          },
          "execution_count": 9
        }
      ]
    },
    {
      "cell_type": "code",
      "metadata": {
        "id": "cuAkp_tJd_-G"
      },
      "source": [
        "# assign word vectors from word2vec model\n",
        "\n",
        "EMBEDDING_SIZE  = 300  # each word in word2vec model is represented using a 300 dimensional vector\n",
        "VOCABULARY_SIZE = len(word_tokenizer.word_index) + 1\n",
        "\n",
        "# create an empty embedding matix\n",
        "embedding_weights = np.zeros((VOCABULARY_SIZE, EMBEDDING_SIZE))\n",
        "\n",
        "# create a word to index dictionary mapping\n",
        "word2id = word_tokenizer.word_index\n",
        "\n",
        "# copy vectors from word2vec model to the words present in corpus\n",
        "for word, index in word2id.items():\n",
        "    try:\n",
        "        embedding_weights[index, :] = word2vec[word]\n",
        "    except KeyError:\n",
        "        pass"
      ],
      "execution_count": 15,
      "outputs": []
    },
    {
      "cell_type": "code",
      "metadata": {
        "colab": {
          "base_uri": "https://localhost:8080/"
        },
        "id": "M8RbWpEld_-H",
        "outputId": "c858adf4-1d20-4e94-a260-7966858d8911"
      },
      "source": [
        "# check embedding dimension\n",
        "print(\"Embeddings shape: {}\".format(embedding_weights.shape))"
      ],
      "execution_count": 23,
      "outputs": [
        {
          "output_type": "stream",
          "text": [
            "Embeddings shape: (59449, 300)\n"
          ],
          "name": "stdout"
        }
      ]
    },
    {
      "cell_type": "code",
      "metadata": {
        "id": "0W9Fjrsxd_-H",
        "outputId": "4b350b12-e27f-4df4-bb56-4f2c70c6b6b5"
      },
      "source": [
        "# let's look at an embedding of a word\n",
        "embedding_weights[word_tokenizer.word_index['joy']]"
      ],
      "execution_count": null,
      "outputs": [
        {
          "output_type": "execute_result",
          "data": {
            "text/plain": [
              "array([ 0.4453125 , -0.20019531,  0.20019531, -0.03149414,  0.078125  ,\n",
              "       -0.390625  ,  0.13671875, -0.13867188,  0.05395508,  0.10546875,\n",
              "       -0.05029297, -0.23730469,  0.19921875,  0.12597656, -0.12695312,\n",
              "        0.34179688,  0.06347656,  0.26757812, -0.07324219, -0.29101562,\n",
              "        0.10498047,  0.11914062,  0.23730469,  0.00640869,  0.12451172,\n",
              "       -0.00939941, -0.02770996,  0.03076172,  0.07421875, -0.22851562,\n",
              "       -0.08056641, -0.05273438,  0.16894531,  0.19824219, -0.15625   ,\n",
              "       -0.08740234,  0.10742188, -0.07177734,  0.05200195,  0.25976562,\n",
              "        0.171875  , -0.13574219,  0.06738281,  0.00531006,  0.15527344,\n",
              "       -0.03515625,  0.08789062,  0.3359375 , -0.12890625,  0.17578125,\n",
              "       -0.08642578,  0.32421875, -0.09033203,  0.35351562,  0.24316406,\n",
              "       -0.07470703, -0.06640625, -0.17578125,  0.06689453, -0.03833008,\n",
              "        0.0100708 , -0.21484375, -0.03686523,  0.04394531,  0.02209473,\n",
              "        0.00219727, -0.22460938,  0.03015137, -0.21582031,  0.16015625,\n",
              "        0.23339844, -0.16699219, -0.09228516,  0.10644531,  0.19335938,\n",
              "       -0.26757812,  0.15722656, -0.08691406,  0.11181641,  0.14941406,\n",
              "       -0.20507812,  0.04882812, -0.07519531, -0.21582031, -0.10107422,\n",
              "       -0.13378906, -0.06103516,  0.05444336,  0.07470703,  0.09521484,\n",
              "       -0.0144043 ,  0.27929688, -0.25585938, -0.05273438, -0.22460938,\n",
              "        0.10253906, -0.15136719,  0.21289062, -0.04711914, -0.12109375,\n",
              "        0.04663086,  0.25976562,  0.13574219,  0.00799561,  0.02001953,\n",
              "        0.1796875 ,  0.30664062,  0.06152344,  0.13574219, -0.09619141,\n",
              "       -0.07421875,  0.38671875,  0.20800781,  0.12695312,  0.05200195,\n",
              "        0.17675781, -0.16796875, -0.19335938, -0.06152344, -0.07568359,\n",
              "       -0.18457031,  0.06030273, -0.15136719, -0.1953125 , -0.23339844,\n",
              "        0.00738525, -0.02478027, -0.09765625, -0.06054688,  0.20214844,\n",
              "       -0.2734375 ,  0.00595093, -0.34570312, -0.12988281,  0.00418091,\n",
              "        0.09960938,  0.0246582 ,  0.15917969, -0.02038574,  0.30273438,\n",
              "       -0.20800781, -0.20214844, -0.03930664, -0.06494141,  0.00436401,\n",
              "       -0.02270508, -0.171875  ,  0.30273438, -0.16113281, -0.49414062,\n",
              "        0.3515625 ,  0.39257812,  0.09814453,  0.41796875,  0.05371094,\n",
              "        0.02392578, -0.03710938, -0.08251953, -0.38671875, -0.40625   ,\n",
              "       -0.05664062,  0.203125  , -0.01782227,  0.3359375 ,  0.19140625,\n",
              "       -0.44335938,  0.00927734,  0.24804688, -0.05102539,  0.19726562,\n",
              "        0.03881836,  0.03442383, -0.40039062, -0.09912109, -0.07128906,\n",
              "        0.21484375, -0.01422119,  0.04907227, -0.07421875, -0.21582031,\n",
              "       -0.41992188,  0.02172852,  0.11083984, -0.33398438, -0.2734375 ,\n",
              "       -0.05322266, -0.16601562, -0.28515625, -0.12207031,  0.04882812,\n",
              "       -0.0625    , -0.04077148, -0.16503906,  0.0480957 , -0.21191406,\n",
              "        0.20019531, -0.2109375 ,  0.10839844, -0.14648438, -0.07958984,\n",
              "       -0.05151367, -0.16601562, -0.24902344, -0.375     ,  0.05664062,\n",
              "       -0.13671875, -0.2578125 ,  0.28515625, -0.04736328,  0.13574219,\n",
              "       -0.14550781,  0.19433594, -0.21972656,  0.08447266, -0.10791016,\n",
              "       -0.11816406, -0.16015625,  0.12060547, -0.10888672,  0.04345703,\n",
              "        0.11474609, -0.08447266, -0.00720215,  0.03662109, -0.38671875,\n",
              "       -0.03881836, -0.03198242,  0.00344849,  0.22558594, -0.06787109,\n",
              "       -0.16699219,  0.2421875 ,  0.05712891,  0.27539062, -0.0456543 ,\n",
              "       -0.19042969, -0.17285156,  0.00836182, -0.03271484,  0.16992188,\n",
              "       -0.18554688, -0.0703125 , -0.32617188, -0.00668335, -0.02770996,\n",
              "        0.3359375 ,  0.125     , -0.2109375 ,  0.06005859, -0.07080078,\n",
              "        0.11132812,  0.125     ,  0.25390625,  0.29296875, -0.03125   ,\n",
              "        0.09033203, -0.20507812, -0.07861328,  0.02062988, -0.0546875 ,\n",
              "       -0.23339844,  0.00096893, -0.04516602,  0.16894531, -0.22167969,\n",
              "        0.08105469,  0.33398438,  0.09619141,  0.00866699, -0.03271484,\n",
              "        0.05493164,  0.12109375,  0.16210938, -0.10302734,  0.27148438,\n",
              "       -0.03344727, -0.30273438,  0.04223633,  0.08496094, -0.15527344,\n",
              "        0.10107422, -0.11474609, -0.13085938,  0.22949219,  0.12988281,\n",
              "        0.09863281, -0.03588867,  0.10693359, -0.24902344,  0.19238281,\n",
              "       -0.05322266, -0.09033203, -0.31640625, -0.5703125 , -0.15917969,\n",
              "        0.0291748 , -0.0246582 , -0.07714844, -0.04663086, -0.17578125])"
            ]
          },
          "metadata": {
            "tags": []
          },
          "execution_count": 29
        }
      ]
    },
    {
      "cell_type": "markdown",
      "metadata": {
        "id": "X0vLKmaed_-H"
      },
      "source": [
        "### Use one-hot encoding for output sequences (Y)"
      ]
    },
    {
      "cell_type": "code",
      "metadata": {
        "id": "Hb3xVVf6d_-H"
      },
      "source": [
        "# use Keras' to_categorical function to one-hot encode Y\n",
        "Y = to_categorical(Y)"
      ],
      "execution_count": 16,
      "outputs": []
    },
    {
      "cell_type": "code",
      "metadata": {
        "id": "SKs4eMuod_-I",
        "outputId": "979c1d7c-73d6-42f3-db65-033eebfb412a"
      },
      "source": [
        "# print Y of the first output sequqnce\n",
        "print(Y.shape)"
      ],
      "execution_count": null,
      "outputs": [
        {
          "output_type": "stream",
          "text": [
            "(72202, 100, 13)\n"
          ],
          "name": "stdout"
        }
      ]
    },
    {
      "cell_type": "markdown",
      "metadata": {
        "id": "JlW8A5d2d_-I"
      },
      "source": [
        "## Split data in training, validation and tesing sets"
      ]
    },
    {
      "cell_type": "code",
      "metadata": {
        "id": "AJFvE19id_-I"
      },
      "source": [
        "# split entire data into training and testing sets\n",
        "TEST_SIZE = 0.15\n",
        "X_train, X_test, Y_train, Y_test = train_test_split(X, Y, test_size=TEST_SIZE, random_state=4)"
      ],
      "execution_count": 17,
      "outputs": []
    },
    {
      "cell_type": "code",
      "metadata": {
        "id": "zeq5YExsd_-I"
      },
      "source": [
        "# split training data into training and validation sets\n",
        "VALID_SIZE = 0.15\n",
        "X_train, X_validation, Y_train, Y_validation = train_test_split(X_train, Y_train, test_size=VALID_SIZE, random_state=4)"
      ],
      "execution_count": 18,
      "outputs": []
    },
    {
      "cell_type": "code",
      "metadata": {
        "colab": {
          "base_uri": "https://localhost:8080/"
        },
        "id": "yNY-Shl2d_-I",
        "outputId": "6d967ab6-b6fb-4c40-ab54-bac032343afc"
      },
      "source": [
        "# print number of samples in each set\n",
        "print(\"TRAINING DATA\")\n",
        "print('Shape of input sequences: {}'.format(X_train.shape))\n",
        "print('Shape of output sequences: {}'.format(Y_train.shape))\n",
        "print(\"-\"*50)\n",
        "print(\"VALIDATION DATA\")\n",
        "print('Shape of input sequences: {}'.format(X_validation.shape))\n",
        "print('Shape of output sequences: {}'.format(Y_validation.shape))\n",
        "print(\"-\"*50)\n",
        "print(\"TESTING DATA\")\n",
        "print('Shape of input sequences: {}'.format(X_test.shape))\n",
        "print('Shape of output sequences: {}'.format(Y_test.shape))"
      ],
      "execution_count": 27,
      "outputs": [
        {
          "output_type": "stream",
          "text": [
            "TRAINING DATA\n",
            "Shape of input sequences: (52165, 100)\n",
            "Shape of output sequences: (52165, 100, 13)\n",
            "--------------------------------------------------\n",
            "VALIDATION DATA\n",
            "Shape of input sequences: (9206, 100)\n",
            "Shape of output sequences: (9206, 100, 13)\n",
            "--------------------------------------------------\n",
            "TESTING DATA\n",
            "Shape of input sequences: (10831, 100)\n",
            "Shape of output sequences: (10831, 100, 13)\n"
          ],
          "name": "stdout"
        }
      ]
    },
    {
      "cell_type": "markdown",
      "metadata": {
        "id": "-uvbdG1gd_-J"
      },
      "source": [
        "Before using RNN, we must make sure the dimensions of the data are what an RNN expects. In general, an RNN expects the following shape\n",
        "\n",
        "Shape of X:\n",
        "(#samples, #timesteps, #features)\n",
        "\n",
        "Shape of Y:\n",
        "(#samples, #timesteps, #features)\n",
        "\n",
        "![RNN tensor shape](./jupyter resources/rnn_tensor.png)\n",
        "\n",
        "Now, there can be various variations in the shape that you use to feed an RNN depending on the type of architecture. Since the problem we're working on has a many-to-many architecture, the input and the output both include number of timesteps which is nothing but the sequence length. But notice that the tensor X doesn't have the third dimension, that is, number of features. That's because we're going to use word embeddings before feeding in the data to an RNN, and hence there is no need to explicitly mention the third dimension. That's because when you use the Embedding() layer in Keras, you the training data will automatically be converted to (#samples, #timesteps, #features) where #features will be the embedding dimention (and note that the Embedding layer is always the very first layer of an RNN). While using the embedding layer we only need to reshape the data to (#samples, #timesteps) which is what we have done. However, note that you'll need to shape it to (#samples, #timesteps, #features) in case you don't use the Embedding() layer in Keras."
      ]
    },
    {
      "cell_type": "markdown",
      "metadata": {
        "id": "gL_nvOw0d_-M"
      },
      "source": [
        "# 2. Vanilla RNN"
      ]
    },
    {
      "cell_type": "markdown",
      "metadata": {
        "id": "tUKGEX8Cd_-N"
      },
      "source": [
        "### Uninitialised fixed embeddings\n",
        "First let's try running a vanilla RNN. For this RNN we won't use the pre-trained word embeddings. We'll use randomly inititalised embeddings. Moreover, we won't update the embeddings weights."
      ]
    },
    {
      "cell_type": "code",
      "metadata": {
        "id": "nrRy7q8Nd_-a"
      },
      "source": [
        "# total number of tags\n",
        "NUM_CLASSES = Y.shape[2]"
      ],
      "execution_count": 19,
      "outputs": []
    },
    {
      "cell_type": "code",
      "metadata": {
        "id": "xTrrds0td_-b"
      },
      "source": [
        "# create architecture\n",
        "\n",
        "rnn_model = Sequential()\n",
        "\n",
        "# create embedding layer - usually the first layer in text problems\n",
        "rnn_model.add(Embedding(input_dim     =  VOCABULARY_SIZE,         # vocabulary size - number of unique words in data\n",
        "                        output_dim    =  EMBEDDING_SIZE,          # length of vector with which each word is represented\n",
        "                        input_length  =  MAX_SEQ_LENGTH,          # length of input sequence\n",
        "                        trainable     =  False                    # False - don't update the embeddings\n",
        "))\n",
        "\n",
        "# add an RNN layer which contains 64 RNN cells\n",
        "rnn_model.add(SimpleRNN(64, \n",
        "              return_sequences=True  # True - return whole sequence; False - return single output of the end of the sequence\n",
        "))\n",
        "\n",
        "# add time distributed (output at each sequence) layer\n",
        "rnn_model.add(TimeDistributed(Dense(NUM_CLASSES, activation='softmax')))"
      ],
      "execution_count": 29,
      "outputs": []
    },
    {
      "cell_type": "markdown",
      "metadata": {
        "id": "0eWNw7X2d_-c"
      },
      "source": [
        "## Compile model"
      ]
    },
    {
      "cell_type": "code",
      "metadata": {
        "id": "s5KO2GDLd_-d"
      },
      "source": [
        "rnn_model.compile(loss      =  'categorical_crossentropy',\n",
        "                  optimizer =  'adam',\n",
        "                  metrics   =  ['acc'])"
      ],
      "execution_count": 54,
      "outputs": []
    },
    {
      "cell_type": "code",
      "metadata": {
        "colab": {
          "base_uri": "https://localhost:8080/"
        },
        "id": "9b0DquVBd_-d",
        "outputId": "ec626ef2-f84c-4205-ce5b-5c922cc7d135"
      },
      "source": [
        "# check summary of the model\n",
        "rnn_model.summary()"
      ],
      "execution_count": 55,
      "outputs": [
        {
          "output_type": "stream",
          "text": [
            "Model: \"sequential_1\"\n",
            "_________________________________________________________________\n",
            "Layer (type)                 Output Shape              Param #   \n",
            "=================================================================\n",
            "embedding_1 (Embedding)      (None, 100, 300)          17834700  \n",
            "_________________________________________________________________\n",
            "simple_rnn_1 (SimpleRNN)     (None, 100, 64)           23360     \n",
            "_________________________________________________________________\n",
            "time_distributed_1 (TimeDist (None, 100, 13)           845       \n",
            "=================================================================\n",
            "Total params: 17,858,905\n",
            "Trainable params: 17,858,905\n",
            "Non-trainable params: 0\n",
            "_________________________________________________________________\n"
          ],
          "name": "stdout"
        }
      ]
    },
    {
      "cell_type": "markdown",
      "metadata": {
        "id": "TDtch7F2d_-d"
      },
      "source": [
        "## Fit model"
      ]
    },
    {
      "cell_type": "code",
      "metadata": {
        "colab": {
          "base_uri": "https://localhost:8080/"
        },
        "id": "ZI97LDIud_-d",
        "outputId": "ad9f1ea5-e064-483a-cd0a-73fc81c13fad"
      },
      "source": [
        "rnn_training = rnn_model.fit(X_train, Y_train, batch_size=128, epochs=3, validation_data=(X_validation, Y_validation))"
      ],
      "execution_count": 56,
      "outputs": [
        {
          "output_type": "stream",
          "text": [
            "Epoch 1/3\n",
            "408/408 [==============================] - 108s 262ms/step - loss: 0.0165 - acc: 0.9940 - val_loss: 0.0246 - val_acc: 0.9912\n",
            "Epoch 2/3\n",
            "408/408 [==============================] - 107s 262ms/step - loss: 0.0141 - acc: 0.9948 - val_loss: 0.0251 - val_acc: 0.9912\n",
            "Epoch 3/3\n",
            "408/408 [==============================] - 106s 259ms/step - loss: 0.0118 - acc: 0.9958 - val_loss: 0.0267 - val_acc: 0.9909\n"
          ],
          "name": "stdout"
        }
      ]
    },
    {
      "cell_type": "code",
      "metadata": {
        "scrolled": true,
        "id": "J28_0qyad_-e",
        "outputId": "149f78c7-c323-4c14-98b8-d712be9a614a"
      },
      "source": [
        "# visualise training history\n",
        "plt.plot(rnn_training.history['acc'])\n",
        "plt.plot(rnn_training.history['val_acc'])\n",
        "plt.title('model accuracy')\n",
        "plt.ylabel('accuracy')\n",
        "plt.xlabel('epoch')\n",
        "plt.legend(['train', 'test'], loc=\"lower right\")\n",
        "plt.show()"
      ],
      "execution_count": null,
      "outputs": [
        {
          "output_type": "display_data",
          "data": {
            "image/png": "[encoded data removed]",
            "text/plain": [
              "<Figure size 432x288 with 1 Axes>"
            ]
          },
          "metadata": {
            "tags": [],
            "needs_background": "light"
          }
        }
      ]
    },
    {
      "cell_type": "markdown",
      "metadata": {
        "id": "_jEvxhGqd_-e"
      },
      "source": [
        "### Uninitialised trainable embeddings"
      ]
    },
    {
      "cell_type": "code",
      "metadata": {
        "id": "-nyWgtG0d_-e"
      },
      "source": [
        "# create architecture\n",
        "\n",
        "rnn_model = Sequential()\n",
        "\n",
        "# create embedding layer - usually the first layer in text problems\n",
        "rnn_model.add(Embedding(input_dim     =  VOCABULARY_SIZE,         # vocabulary size - number of unique words in data\n",
        "                        output_dim    =  EMBEDDING_SIZE,          # length of vector with which each word is represented\n",
        "                        input_length  =  MAX_SEQ_LENGTH,          # length of input sequence\n",
        "                        trainable     =  True                     # True - update the embeddings while training\n",
        "))\n",
        "\n",
        "# add an RNN layer which contains 64 RNN cells\n",
        "rnn_model.add(SimpleRNN(64, \n",
        "              return_sequences=True  # True - return whole sequence; False - return single output of the end of the sequence\n",
        "))\n",
        "\n",
        "# add time distributed (output at each sequence) layer\n",
        "rnn_model.add(TimeDistributed(Dense(NUM_CLASSES, activation='softmax')))"
      ],
      "execution_count": 20,
      "outputs": []
    },
    {
      "cell_type": "markdown",
      "metadata": {
        "id": "OriHGzTcd_-e"
      },
      "source": [
        "## Compile model"
      ]
    },
    {
      "cell_type": "code",
      "metadata": {
        "id": "8DDk66yfd_-f"
      },
      "source": [
        "rnn_model.compile(loss      =  'categorical_crossentropy',\n",
        "                  optimizer =  'adam',\n",
        "                  metrics   =  ['acc'])"
      ],
      "execution_count": 21,
      "outputs": []
    },
    {
      "cell_type": "code",
      "metadata": {
        "scrolled": true,
        "colab": {
          "base_uri": "https://localhost:8080/"
        },
        "id": "sGTIypkmd_-f",
        "outputId": "3c9fb79d-2bbf-4b9c-b953-588b2c763c78"
      },
      "source": [
        "# check summary of the model\n",
        "rnn_model.summary()"
      ],
      "execution_count": 22,
      "outputs": [
        {
          "output_type": "stream",
          "text": [
            "Model: \"sequential\"\n",
            "_________________________________________________________________\n",
            "Layer (type)                 Output Shape              Param #   \n",
            "=================================================================\n",
            "embedding (Embedding)        (None, 100, 300)          17834700  \n",
            "_________________________________________________________________\n",
            "simple_rnn (SimpleRNN)       (None, 100, 64)           23360     \n",
            "_________________________________________________________________\n",
            "time_distributed (TimeDistri (None, 100, 13)           845       \n",
            "=================================================================\n",
            "Total params: 17,858,905\n",
            "Trainable params: 17,858,905\n",
            "Non-trainable params: 0\n",
            "_________________________________________________________________\n"
          ],
          "name": "stdout"
        }
      ]
    },
    {
      "cell_type": "markdown",
      "metadata": {
        "id": "ibP0R1GWd_-f"
      },
      "source": [
        "## Fit model"
      ]
    },
    {
      "cell_type": "code",
      "metadata": {
        "colab": {
          "base_uri": "https://localhost:8080/"
        },
        "id": "SBpQ80Nnd_-f",
        "outputId": "0c40480b-1f4d-4736-81c3-4ed9811c2852"
      },
      "source": [
        "rnn_training = rnn_model.fit(X_train, Y_train, batch_size=128, epochs=2, validation_data=(X_validation, Y_validation))"
      ],
      "execution_count": 26,
      "outputs": [
        {
          "output_type": "stream",
          "text": [
            "Epoch 1/2\n",
            "408/408 [==============================] - 109s 266ms/step - loss: 0.0276 - acc: 0.9910 - val_loss: 0.0289 - val_acc: 0.9900\n",
            "Epoch 2/2\n",
            "408/408 [==============================] - 108s 266ms/step - loss: 0.0200 - acc: 0.9930 - val_loss: 0.0272 - val_acc: 0.9904\n"
          ],
          "name": "stdout"
        }
      ]
    },
    {
      "cell_type": "code",
      "metadata": {
        "scrolled": true,
        "colab": {
          "base_uri": "https://localhost:8080/",
          "height": 295
        },
        "id": "LpyPeQt3d_-i",
        "outputId": "86c9164f-4c17-4a63-e223-a0ac54b24962"
      },
      "source": [
        "# visualise training history\n",
        "plt.plot(rnn_training.history['acc'])\n",
        "plt.plot(rnn_training.history['val_acc'])\n",
        "plt.title('model accuracy')\n",
        "plt.ylabel('accuracy')\n",
        "plt.xlabel('epoch')\n",
        "plt.legend(['train', 'test'], loc=\"lower right\")\n",
        "plt.show()"
      ],
      "execution_count": 27,
      "outputs": [
        {
          "output_type": "display_data",
          "data": {
            "image/png": "[encoded data removed]",
            "text/plain": [
              "<Figure size 432x288 with 1 Axes>"
            ]
          },
          "metadata": {
            "tags": [],
            "needs_background": "light"
          }
        }
      ]
    },
    {
      "cell_type": "markdown",
      "metadata": {
        "id": "GOuC7iAvd_-i"
      },
      "source": [
        "### Using pre-trained embedding weights"
      ]
    },
    {
      "cell_type": "code",
      "metadata": {
        "id": "j_Rrvrc1d_-i"
      },
      "source": [
        "# create architecture\n",
        "\n",
        "rnn_model = Sequential()\n",
        "\n",
        "# create embedding layer - usually the first layer in text problems\n",
        "rnn_model.add(Embedding(input_dim     =  VOCABULARY_SIZE,         # vocabulary size - number of unique words in data\n",
        "                        output_dim    =  EMBEDDING_SIZE,          # length of vector with which each word is represented\n",
        "                        input_length  =  MAX_SEQ_LENGTH,          # length of input sequence\n",
        "                        weights       = [embedding_weights],      # word embedding matrix\n",
        "                        trainable     =  True                     # True - update the embeddings while training\n",
        "))\n",
        "\n",
        "# add an RNN layer which contains 64 RNN cells\n",
        "rnn_model.add(SimpleRNN(64, \n",
        "              return_sequences=True  # True - return whole sequence; False - return single output of the end of the sequence\n",
        "))\n",
        "\n",
        "# add time distributed (output at each sequence) layer\n",
        "rnn_model.add(TimeDistributed(Dense(NUM_CLASSES, activation='softmax')))"
      ],
      "execution_count": 28,
      "outputs": []
    },
    {
      "cell_type": "markdown",
      "metadata": {
        "id": "Et4orDckd_-j"
      },
      "source": [
        "## Compile model"
      ]
    },
    {
      "cell_type": "code",
      "metadata": {
        "id": "akhgDa7ud_-j"
      },
      "source": [
        "rnn_model.compile(loss      =  'categorical_crossentropy',\n",
        "                  optimizer =  'adam',\n",
        "                  metrics   =  ['acc'])"
      ],
      "execution_count": 29,
      "outputs": []
    },
    {
      "cell_type": "code",
      "metadata": {
        "scrolled": true,
        "colab": {
          "base_uri": "https://localhost:8080/"
        },
        "id": "t4baZGg8d_-j",
        "outputId": "c7694c34-f569-42bd-d752-9c1d4675f020"
      },
      "source": [
        "# check summary of the model\n",
        "rnn_model.summary()"
      ],
      "execution_count": 30,
      "outputs": [
        {
          "output_type": "stream",
          "text": [
            "Model: \"sequential_1\"\n",
            "_________________________________________________________________\n",
            "Layer (type)                 Output Shape              Param #   \n",
            "=================================================================\n",
            "embedding_1 (Embedding)      (None, 100, 300)          17834700  \n",
            "_________________________________________________________________\n",
            "simple_rnn_1 (SimpleRNN)     (None, 100, 64)           23360     \n",
            "_________________________________________________________________\n",
            "time_distributed_1 (TimeDist (None, 100, 13)           845       \n",
            "=================================================================\n",
            "Total params: 17,858,905\n",
            "Trainable params: 17,858,905\n",
            "Non-trainable params: 0\n",
            "_________________________________________________________________\n"
          ],
          "name": "stdout"
        }
      ]
    },
    {
      "cell_type": "markdown",
      "metadata": {
        "id": "sKr5fxXJd_-j"
      },
      "source": [
        "## Fit model"
      ]
    },
    {
      "cell_type": "code",
      "metadata": {
        "colab": {
          "base_uri": "https://localhost:8080/"
        },
        "id": "aTnBCLrbd_-k",
        "outputId": "aa4512c9-c047-46e2-cd8c-d5398ccf3f5e"
      },
      "source": [
        "rnn_training = rnn_model.fit(X_train, Y_train, batch_size=128, epochs=3, validation_data=(X_validation, Y_validation))"
      ],
      "execution_count": 31,
      "outputs": [
        {
          "output_type": "stream",
          "text": [
            "Epoch 1/3\n",
            "408/408 [==============================] - 109s 265ms/step - loss: 0.1859 - acc: 0.9619 - val_loss: 0.0355 - val_acc: 0.9889\n",
            "Epoch 2/3\n",
            "408/408 [==============================] - 109s 266ms/step - loss: 0.0271 - acc: 0.9910 - val_loss: 0.0272 - val_acc: 0.9904\n",
            "Epoch 3/3\n",
            "408/408 [==============================] - 108s 265ms/step - loss: 0.0201 - acc: 0.9928 - val_loss: 0.0256 - val_acc: 0.9908\n"
          ],
          "name": "stdout"
        }
      ]
    },
    {
      "cell_type": "code",
      "metadata": {
        "scrolled": true,
        "colab": {
          "base_uri": "https://localhost:8080/",
          "height": 295
        },
        "id": "pumc0yFzd_-k",
        "outputId": "7094675a-03eb-4420-9750-8c27eac43a54"
      },
      "source": [
        "# visualise training history\n",
        "plt.plot(rnn_training.history['acc'])\n",
        "plt.plot(rnn_training.history['val_acc'])\n",
        "plt.title('model accuracy')\n",
        "plt.ylabel('accuracy')\n",
        "plt.xlabel('epoch')\n",
        "plt.legend(['train', 'test'], loc=\"lower right\")\n",
        "plt.show()"
      ],
      "execution_count": 32,
      "outputs": [
        {
          "output_type": "display_data",
          "data": {
            "image/png": "[encoded data removed]",
            "text/plain": [
              "<Figure size 432x288 with 1 Axes>"
            ]
          },
          "metadata": {
            "tags": [],
            "needs_background": "light"
          }
        }
      ]
    },
    {
      "cell_type": "markdown",
      "metadata": {
        "id": "P6FYQQ_jd_-k"
      },
      "source": [
        "# 2. LSTM"
      ]
    },
    {
      "cell_type": "markdown",
      "metadata": {
        "id": "KKCsinJYd_-l"
      },
      "source": [
        "We'll use pre-trained word embeddings in following models and allow them to be updated as well. "
      ]
    },
    {
      "cell_type": "markdown",
      "metadata": {
        "id": "b3D8pnC-d_-l"
      },
      "source": [
        "## Create model architecture"
      ]
    },
    {
      "cell_type": "code",
      "metadata": {
        "id": "1qIVwOzad_-l"
      },
      "source": [
        "# create architecture\n",
        "\n",
        "lstm_model = Sequential()\n",
        "lstm_model.add(Embedding(input_dim     = VOCABULARY_SIZE,         # vocabulary size - number of unique words in data\n",
        "                         output_dim    = EMBEDDING_SIZE,          # length of vector with which each word is represented\n",
        "                         input_length  = MAX_SEQ_LENGTH,          # length of input sequence\n",
        "                         weights       = [embedding_weights],     # word embedding matrix\n",
        "                         trainable     = True                     # True - update embeddings_weight matrix\n",
        "))\n",
        "lstm_model.add(LSTM(64, return_sequences=True))\n",
        "lstm_model.add(TimeDistributed(Dense(NUM_CLASSES, activation='softmax')))"
      ],
      "execution_count": 33,
      "outputs": []
    },
    {
      "cell_type": "markdown",
      "metadata": {
        "id": "O9NMJvejd_-l"
      },
      "source": [
        "## Compile model"
      ]
    },
    {
      "cell_type": "code",
      "metadata": {
        "id": "y6tt2Q37d_-l"
      },
      "source": [
        "lstm_model.compile(loss      =  'categorical_crossentropy',\n",
        "                   optimizer =  'adam',\n",
        "                   metrics   =  ['acc'])"
      ],
      "execution_count": 34,
      "outputs": []
    },
    {
      "cell_type": "code",
      "metadata": {
        "colab": {
          "base_uri": "https://localhost:8080/"
        },
        "id": "vdr6CVzRd_-m",
        "outputId": "02310295-ab6d-437f-cc3b-7f3f928d2bd7"
      },
      "source": [
        "# check summary of the model\n",
        "lstm_model.summary()"
      ],
      "execution_count": 35,
      "outputs": [
        {
          "output_type": "stream",
          "text": [
            "Model: \"sequential_2\"\n",
            "_________________________________________________________________\n",
            "Layer (type)                 Output Shape              Param #   \n",
            "=================================================================\n",
            "embedding_2 (Embedding)      (None, 100, 300)          17834700  \n",
            "_________________________________________________________________\n",
            "lstm (LSTM)                  (None, 100, 64)           93440     \n",
            "_________________________________________________________________\n",
            "time_distributed_2 (TimeDist (None, 100, 13)           845       \n",
            "=================================================================\n",
            "Total params: 17,928,985\n",
            "Trainable params: 17,928,985\n",
            "Non-trainable params: 0\n",
            "_________________________________________________________________\n"
          ],
          "name": "stdout"
        }
      ]
    },
    {
      "cell_type": "markdown",
      "metadata": {
        "id": "tC10qZIdd_-m"
      },
      "source": [
        "## Fit model"
      ]
    },
    {
      "cell_type": "code",
      "metadata": {
        "colab": {
          "base_uri": "https://localhost:8080/"
        },
        "id": "zYPnY8aod_-m",
        "outputId": "df896b77-22fe-41dc-86bf-45fce80665a4"
      },
      "source": [
        "lstm_training = lstm_model.fit(X_train, Y_train, batch_size=128, epochs=3, validation_data=(X_validation, Y_validation))"
      ],
      "execution_count": 36,
      "outputs": [
        {
          "output_type": "stream",
          "text": [
            "Epoch 1/3\n",
            "408/408 [==============================] - 77s 177ms/step - loss: 0.3113 - acc: 0.9295 - val_loss: 0.0497 - val_acc: 0.9868\n",
            "Epoch 2/3\n",
            "408/408 [==============================] - 72s 177ms/step - loss: 0.0349 - acc: 0.9893 - val_loss: 0.0303 - val_acc: 0.9898\n",
            "Epoch 3/3\n",
            "408/408 [==============================] - 72s 177ms/step - loss: 0.0240 - acc: 0.9916 - val_loss: 0.0265 - val_acc: 0.9907\n"
          ],
          "name": "stdout"
        }
      ]
    },
    {
      "cell_type": "code",
      "metadata": {
        "colab": {
          "base_uri": "https://localhost:8080/",
          "height": 295
        },
        "id": "ZNXrLtW1d_-m",
        "outputId": "5486591e-510e-44cd-8f3a-e2de3c38a075"
      },
      "source": [
        "# visualise training history\n",
        "plt.plot(lstm_training.history['acc'])\n",
        "plt.plot(lstm_training.history['val_acc'])\n",
        "plt.title('model accuracy')\n",
        "plt.ylabel('accuracy')\n",
        "plt.xlabel('epoch')\n",
        "plt.legend(['train', 'test'], loc=\"lower right\")\n",
        "plt.show()"
      ],
      "execution_count": 37,
      "outputs": [
        {
          "output_type": "display_data",
          "data": {
            "image/png": "[encoded data removed]",
            "text/plain": [
              "<Figure size 432x288 with 1 Axes>"
            ]
          },
          "metadata": {
            "tags": [],
            "needs_background": "light"
          }
        }
      ]
    },
    {
      "cell_type": "markdown",
      "metadata": {
        "id": "LNofQIizd_-n"
      },
      "source": [
        "# 2. GRU"
      ]
    },
    {
      "cell_type": "markdown",
      "metadata": {
        "id": "al-rtlAnd_-n"
      },
      "source": [
        "## Create model architecture"
      ]
    },
    {
      "cell_type": "code",
      "metadata": {
        "id": "oguroKbTd_-n"
      },
      "source": [
        "# create architecture\n",
        "\n",
        "gru_model = Sequential()\n",
        "gru_model.add(Embedding(input_dim     = VOCABULARY_SIZE,\n",
        "                        output_dim    = EMBEDDING_SIZE,\n",
        "                        input_length  = MAX_SEQ_LENGTH,\n",
        "                        weights       = [embedding_weights],\n",
        "                        trainable     = True\n",
        "))\n",
        "gru_model.add(GRU(64, return_sequences=True))\n",
        "gru_model.add(TimeDistributed(Dense(NUM_CLASSES, activation='softmax')))"
      ],
      "execution_count": 38,
      "outputs": []
    },
    {
      "cell_type": "markdown",
      "metadata": {
        "id": "GG2mh1evd_-o"
      },
      "source": [
        "## Compile model"
      ]
    },
    {
      "cell_type": "code",
      "metadata": {
        "id": "8sFGZ2C4d_-o"
      },
      "source": [
        "gru_model.compile(loss='categorical_crossentropy',\n",
        "              optimizer='adam',\n",
        "              metrics=['acc'])"
      ],
      "execution_count": 39,
      "outputs": []
    },
    {
      "cell_type": "code",
      "metadata": {
        "colab": {
          "base_uri": "https://localhost:8080/"
        },
        "id": "9JZiBs9Vd_-o",
        "outputId": "12cf073b-92cd-49ad-f9ba-5f5dd1cdda6a"
      },
      "source": [
        "# check summary of model\n",
        "gru_model.summary()"
      ],
      "execution_count": 40,
      "outputs": [
        {
          "output_type": "stream",
          "text": [
            "Model: \"sequential_3\"\n",
            "_________________________________________________________________\n",
            "Layer (type)                 Output Shape              Param #   \n",
            "=================================================================\n",
            "embedding_3 (Embedding)      (None, 100, 300)          17834700  \n",
            "_________________________________________________________________\n",
            "gru (GRU)                    (None, 100, 64)           70272     \n",
            "_________________________________________________________________\n",
            "time_distributed_3 (TimeDist (None, 100, 13)           845       \n",
            "=================================================================\n",
            "Total params: 17,905,817\n",
            "Trainable params: 17,905,817\n",
            "Non-trainable params: 0\n",
            "_________________________________________________________________\n"
          ],
          "name": "stdout"
        }
      ]
    },
    {
      "cell_type": "markdown",
      "metadata": {
        "id": "qW59OlyZd_-o"
      },
      "source": [
        "## Fit model"
      ]
    },
    {
      "cell_type": "code",
      "metadata": {
        "colab": {
          "base_uri": "https://localhost:8080/"
        },
        "id": "LFRzcsqnd_-o",
        "outputId": "7f9c32b7-4db3-4a58-8bb3-70feada21dad"
      },
      "source": [
        "gru_training = gru_model.fit(X_train, Y_train, batch_size=128, epochs=3, validation_data=(X_validation, Y_validation))"
      ],
      "execution_count": 42,
      "outputs": [
        {
          "output_type": "stream",
          "text": [
            "Epoch 1/3\n",
            "408/408 [==============================] - 72s 177ms/step - loss: 0.1438 - acc: 0.9646 - val_loss: 0.0341 - val_acc: 0.9889\n",
            "Epoch 2/3\n",
            "408/408 [==============================] - 72s 177ms/step - loss: 0.0266 - acc: 0.9907 - val_loss: 0.0265 - val_acc: 0.9905\n",
            "Epoch 3/3\n",
            "408/408 [==============================] - 72s 176ms/step - loss: 0.0205 - acc: 0.9925 - val_loss: 0.0248 - val_acc: 0.9909\n"
          ],
          "name": "stdout"
        }
      ]
    },
    {
      "cell_type": "code",
      "metadata": {
        "colab": {
          "base_uri": "https://localhost:8080/",
          "height": 295
        },
        "id": "Tm9TAx2Pd_-p",
        "outputId": "f5d85df3-d4d0-48bf-ca64-b332c192e43c"
      },
      "source": [
        "# visualise training history\n",
        "plt.plot(gru_training.history['acc'])\n",
        "plt.plot(gru_training.history['val_acc'])\n",
        "plt.title('model accuracy')\n",
        "plt.ylabel('accuracy')\n",
        "plt.xlabel('epoch')\n",
        "plt.legend(['train', 'test'], loc=\"lower right\")\n",
        "plt.show()"
      ],
      "execution_count": 43,
      "outputs": [
        {
          "output_type": "display_data",
          "data": {
            "image/png": "[encoded data removed]",
            "text/plain": [
              "<Figure size 432x288 with 1 Axes>"
            ]
          },
          "metadata": {
            "tags": [],
            "needs_background": "light"
          }
        }
      ]
    },
    {
      "cell_type": "markdown",
      "metadata": {
        "id": "f7vO735Dd_-p"
      },
      "source": [
        "# 3. Bidirectional LSTM"
      ]
    },
    {
      "cell_type": "markdown",
      "metadata": {
        "id": "NsEnQcaWd_-p"
      },
      "source": [
        "## Create model architecture"
      ]
    },
    {
      "cell_type": "code",
      "metadata": {
        "id": "_TfAVzA7d_-p"
      },
      "source": [
        "# create architecture\n",
        "\n",
        "bidirect_model = Sequential()\n",
        "bidirect_model.add(Embedding(input_dim     = VOCABULARY_SIZE,\n",
        "                             output_dim    = EMBEDDING_SIZE,\n",
        "                             input_length  = MAX_SEQ_LENGTH,\n",
        "                             weights       = [embedding_weights],\n",
        "                             trainable     = True\n",
        "))\n",
        "bidirect_model.add(Bidirectional(LSTM(64, return_sequences=True)))\n",
        "bidirect_model.add(TimeDistributed(Dense(NUM_CLASSES, activation='softmax')))"
      ],
      "execution_count": 44,
      "outputs": []
    },
    {
      "cell_type": "markdown",
      "metadata": {
        "id": "WmmGKHK3d_-z"
      },
      "source": [
        "## Compile model"
      ]
    },
    {
      "cell_type": "code",
      "metadata": {
        "id": "N9sjbsdNd_-0"
      },
      "source": [
        "bidirect_model.compile(loss='categorical_crossentropy',\n",
        "              optimizer='adam',\n",
        "              metrics=['acc'])"
      ],
      "execution_count": 45,
      "outputs": []
    },
    {
      "cell_type": "code",
      "metadata": {
        "colab": {
          "base_uri": "https://localhost:8080/"
        },
        "id": "lwDhVZtvd__F",
        "outputId": "2307725b-0d55-4ca7-867d-7e708130e84f"
      },
      "source": [
        "# check summary of model\n",
        "bidirect_model.summary()"
      ],
      "execution_count": 46,
      "outputs": [
        {
          "output_type": "stream",
          "text": [
            "Model: \"sequential_4\"\n",
            "_________________________________________________________________\n",
            "Layer (type)                 Output Shape              Param #   \n",
            "=================================================================\n",
            "embedding_4 (Embedding)      (None, 100, 300)          17834700  \n",
            "_________________________________________________________________\n",
            "bidirectional (Bidirectional (None, 100, 128)          186880    \n",
            "_________________________________________________________________\n",
            "time_distributed_4 (TimeDist (None, 100, 13)           1677      \n",
            "=================================================================\n",
            "Total params: 18,023,257\n",
            "Trainable params: 18,023,257\n",
            "Non-trainable params: 0\n",
            "_________________________________________________________________\n"
          ],
          "name": "stdout"
        }
      ]
    },
    {
      "cell_type": "markdown",
      "metadata": {
        "id": "kTWfVi-ad__F"
      },
      "source": [
        "## Fit model"
      ]
    },
    {
      "cell_type": "code",
      "metadata": {
        "colab": {
          "base_uri": "https://localhost:8080/"
        },
        "id": "Q1VxbDY0d__G",
        "outputId": "6ac3a6cf-9ea6-487f-fa9d-1e6481cfa684"
      },
      "source": [
        "bidirect_training = bidirect_model.fit(X_train, Y_train, batch_size=128, epochs=3, validation_data=(X_validation, Y_validation))"
      ],
      "execution_count": 47,
      "outputs": [
        {
          "output_type": "stream",
          "text": [
            "Epoch 1/3\n",
            "408/408 [==============================] - 80s 190ms/step - loss: 0.2441 - acc: 0.9426 - val_loss: 0.0318 - val_acc: 0.9904\n",
            "Epoch 2/3\n",
            "408/408 [==============================] - 77s 189ms/step - loss: 0.0235 - acc: 0.9924 - val_loss: 0.0219 - val_acc: 0.9927\n",
            "Epoch 3/3\n",
            "408/408 [==============================] - 77s 190ms/step - loss: 0.0160 - acc: 0.9947 - val_loss: 0.0195 - val_acc: 0.9933\n"
          ],
          "name": "stdout"
        }
      ]
    },
    {
      "cell_type": "code",
      "metadata": {
        "colab": {
          "base_uri": "https://localhost:8080/",
          "height": 295
        },
        "id": "R3rL5Tbtd__G",
        "outputId": "6aa39e6d-143a-4867-965e-eed892fc5b2d"
      },
      "source": [
        "# visualise training history\n",
        "plt.plot(bidirect_training.history['acc'])\n",
        "plt.plot(bidirect_training.history['val_acc'])\n",
        "plt.title('model accuracy')\n",
        "plt.ylabel('accuracy')\n",
        "plt.xlabel('epoch')\n",
        "plt.legend(['train', 'test'], loc=\"lower right\")\n",
        "plt.show()"
      ],
      "execution_count": 48,
      "outputs": [
        {
          "output_type": "display_data",
          "data": {
            "image/png": "[encoded data removed]",
            "text/plain": [
              "<Figure size 432x288 with 1 Axes>"
            ]
          },
          "metadata": {
            "tags": [],
            "needs_background": "light"
          }
        }
      ]
    },
    {
      "cell_type": "markdown",
      "metadata": {
        "id": "d_A96yfYd__T"
      },
      "source": [
        "# 5. Model evaluation"
      ]
    },
    {
      "cell_type": "code",
      "metadata": {
        "colab": {
          "base_uri": "https://localhost:8080/"
        },
        "id": "NqW4yJPNd__U",
        "outputId": "2b3da609-cbe9-4da9-fbe2-a54ad7288854"
      },
      "source": [
        "loss, accuracy = rnn_model.evaluate(X_test, Y_test, verbose = 1)\n",
        "print(\"Loss: {0},\\nAccuracy: {1}\".format(loss, accuracy))"
      ],
      "execution_count": 49,
      "outputs": [
        {
          "output_type": "stream",
          "text": [
            "339/339 [==============================] - 3s 9ms/step - loss: 0.0255 - acc: 0.9908\n",
            "Loss: 0.025482458993792534,\n",
            "Accuracy: 0.9908180236816406\n"
          ],
          "name": "stdout"
        }
      ]
    },
    {
      "cell_type": "code",
      "metadata": {
        "colab": {
          "base_uri": "https://localhost:8080/"
        },
        "id": "fp6BkfAGd__U",
        "outputId": "1938e015-211e-40c2-c129-d739c125ffa8"
      },
      "source": [
        "loss, accuracy = lstm_model.evaluate(X_test, Y_test, verbose = 1)\n",
        "print(\"Loss: {0},\\nAccuracy: {1}\".format(loss, accuracy))"
      ],
      "execution_count": 50,
      "outputs": [
        {
          "output_type": "stream",
          "text": [
            "339/339 [==============================] - 2s 5ms/step - loss: 0.0263 - acc: 0.9907\n",
            "Loss: 0.026340952143073082,\n",
            "Accuracy: 0.9907081723213196\n"
          ],
          "name": "stdout"
        }
      ]
    },
    {
      "cell_type": "code",
      "metadata": {
        "colab": {
          "base_uri": "https://localhost:8080/"
        },
        "id": "Cr7IlOHUd__U",
        "outputId": "28f6b479-2111-42d9-b048-981ea67c4c43"
      },
      "source": [
        "loss, accuracy = gru_model.evaluate(X_test, Y_test, verbose = 1)\n",
        "print(\"Loss: {0},\\nAccuracy: {1}\".format(loss, accuracy))"
      ],
      "execution_count": 51,
      "outputs": [
        {
          "output_type": "stream",
          "text": [
            "339/339 [==============================] - 2s 5ms/step - loss: 0.0248 - acc: 0.9910\n",
            "Loss: 0.024775778874754906,\n",
            "Accuracy: 0.9909629821777344\n"
          ],
          "name": "stdout"
        }
      ]
    },
    {
      "cell_type": "code",
      "metadata": {
        "colab": {
          "base_uri": "https://localhost:8080/"
        },
        "id": "P7xZKLmLd__U",
        "outputId": "3e0d9e10-caea-465b-931c-f4f3423ac2d0"
      },
      "source": [
        "loss, accuracy = bidirect_model.evaluate(X_test, Y_test, verbose = 1)\n",
        "print(\"Loss: {0},\\nAccuracy: {1}\".format(loss, accuracy))"
      ],
      "execution_count": 52,
      "outputs": [
        {
          "output_type": "stream",
          "text": [
            "339/339 [==============================] - 2s 6ms/step - loss: 0.0197 - acc: 0.9932\n",
            "Loss: 0.01972976326942444,\n",
            "Accuracy: 0.9932249784469604\n"
          ],
          "name": "stdout"
        }
      ]
    }
  ]
}