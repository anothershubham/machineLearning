{
 "cells": [
  {
   "cell_type": "code",
   "execution_count": 57,
   "id": "handy-session",
   "metadata": {},
   "outputs": [],
   "source": [
    "import numpy as np\n",
    "import pandas as pd\n",
    "import seaborn as sns\n",
    "import matplotlib.pyplot as plt\n",
    "%matplotlib inline\n",
    "\n",
    "import warnings\n",
    "warnings.filterwarnings('ignore')"
   ]
  },
  {
   "cell_type": "code",
   "execution_count": 59,
   "id": "primary-finger",
   "metadata": {},
   "outputs": [],
   "source": [
    "df=pd.read_excel('Main.xlsx')"
   ]
  },
  {
   "cell_type": "code",
   "execution_count": 60,
   "id": "individual-iceland",
   "metadata": {},
   "outputs": [
    {
     "data": {
      "text/html": [
       "<div>\n",
       "<style scoped>\n",
       "    .dataframe tbody tr th:only-of-type {\n",
       "        vertical-align: middle;\n",
       "    }\n",
       "\n",
       "    .dataframe tbody tr th {\n",
       "        vertical-align: top;\n",
       "    }\n",
       "\n",
       "    .dataframe thead th {\n",
       "        text-align: right;\n",
       "    }\n",
       "</style>\n",
       "<table border=\"1\" class=\"dataframe\">\n",
       "  <thead>\n",
       "    <tr style=\"text-align: right;\">\n",
       "      <th></th>\n",
       "      <th>Area Name</th>\n",
       "      <th>Illiterate</th>\n",
       "      <th>Graduate &amp; above</th>\n",
       "      <th>Total - Population</th>\n",
       "      <th>Percentage Illiterate</th>\n",
       "      <th>Percentage Graduate &amp; above</th>\n",
       "    </tr>\n",
       "  </thead>\n",
       "  <tbody>\n",
       "    <tr>\n",
       "      <th>0</th>\n",
       "      <td>State - JAMMU &amp; KASHMIR</td>\n",
       "      <td>3378518</td>\n",
       "      <td>385463</td>\n",
       "      <td>12541302</td>\n",
       "      <td>26.939133</td>\n",
       "      <td>3.073549</td>\n",
       "    </tr>\n",
       "    <tr>\n",
       "      <th>1</th>\n",
       "      <td>State - HIMACHAL PRADESH</td>\n",
       "      <td>963742</td>\n",
       "      <td>267936</td>\n",
       "      <td>6864602</td>\n",
       "      <td>14.039299</td>\n",
       "      <td>3.903154</td>\n",
       "    </tr>\n",
       "    <tr>\n",
       "      <th>2</th>\n",
       "      <td>State - PUNJAB</td>\n",
       "      <td>4886265</td>\n",
       "      <td>979525</td>\n",
       "      <td>27743338</td>\n",
       "      <td>17.612390</td>\n",
       "      <td>3.530667</td>\n",
       "    </tr>\n",
       "    <tr>\n",
       "      <th>3</th>\n",
       "      <td>State - CHANDIGARH</td>\n",
       "      <td>175200</td>\n",
       "      <td>91276</td>\n",
       "      <td>1055450</td>\n",
       "      <td>16.599555</td>\n",
       "      <td>8.648065</td>\n",
       "    </tr>\n",
       "    <tr>\n",
       "      <th>4</th>\n",
       "      <td>State - UTTARAKHAND</td>\n",
       "      <td>1929236</td>\n",
       "      <td>525301</td>\n",
       "      <td>10086292</td>\n",
       "      <td>19.127307</td>\n",
       "      <td>5.208069</td>\n",
       "    </tr>\n",
       "  </tbody>\n",
       "</table>\n",
       "</div>"
      ],
      "text/plain": [
       "                  Area Name  Illiterate  Graduate & above  Total - Population  \\\n",
       "0   State - JAMMU & KASHMIR     3378518            385463            12541302   \n",
       "1  State - HIMACHAL PRADESH      963742            267936             6864602   \n",
       "2            State - PUNJAB     4886265            979525            27743338   \n",
       "3        State - CHANDIGARH      175200             91276             1055450   \n",
       "4       State - UTTARAKHAND     1929236            525301            10086292   \n",
       "\n",
       "   Percentage Illiterate  Percentage Graduate & above  \n",
       "0              26.939133                     3.073549  \n",
       "1              14.039299                     3.903154  \n",
       "2              17.612390                     3.530667  \n",
       "3              16.599555                     8.648065  \n",
       "4              19.127307                     5.208069  "
      ]
     },
     "execution_count": 60,
     "metadata": {},
     "output_type": "execute_result"
    }
   ],
   "source": [
    "df.head()"
   ]
  },
  {
   "cell_type": "code",
   "execution_count": 61,
   "id": "included-grant",
   "metadata": {},
   "outputs": [
    {
     "name": "stdout",
     "output_type": "stream",
     "text": [
      "<class 'pandas.core.frame.DataFrame'>\n",
      "RangeIndex: 35 entries, 0 to 34\n",
      "Data columns (total 6 columns):\n",
      " #   Column                       Non-Null Count  Dtype  \n",
      "---  ------                       --------------  -----  \n",
      " 0   Area Name                    35 non-null     object \n",
      " 1   Illiterate                   35 non-null     int64  \n",
      " 2   Graduate & above             35 non-null     int64  \n",
      " 3   Total - Population           35 non-null     int64  \n",
      " 4   Percentage Illiterate        35 non-null     float64\n",
      " 5   Percentage Graduate & above  35 non-null     float64\n",
      "dtypes: float64(2), int64(3), object(1)\n",
      "memory usage: 1.8+ KB\n"
     ]
    }
   ],
   "source": [
    "df.info()"
   ]
  },
  {
   "cell_type": "code",
   "execution_count": 62,
   "id": "naughty-comedy",
   "metadata": {},
   "outputs": [
    {
     "data": {
      "text/html": [
       "<div>\n",
       "<style scoped>\n",
       "    .dataframe tbody tr th:only-of-type {\n",
       "        vertical-align: middle;\n",
       "    }\n",
       "\n",
       "    .dataframe tbody tr th {\n",
       "        vertical-align: top;\n",
       "    }\n",
       "\n",
       "    .dataframe thead th {\n",
       "        text-align: right;\n",
       "    }\n",
       "</style>\n",
       "<table border=\"1\" class=\"dataframe\">\n",
       "  <thead>\n",
       "    <tr style=\"text-align: right;\">\n",
       "      <th></th>\n",
       "      <th>Illiterate</th>\n",
       "      <th>Graduate &amp; above</th>\n",
       "      <th>Total - Population</th>\n",
       "      <th>Percentage Illiterate</th>\n",
       "      <th>Percentage Graduate &amp; above</th>\n",
       "    </tr>\n",
       "  </thead>\n",
       "  <tbody>\n",
       "    <tr>\n",
       "      <th>count</th>\n",
       "      <td>3.500000e+01</td>\n",
       "      <td>3.500000e+01</td>\n",
       "      <td>3.500000e+01</td>\n",
       "      <td>35.000000</td>\n",
       "      <td>35.000000</td>\n",
       "    </tr>\n",
       "    <tr>\n",
       "      <th>mean</th>\n",
       "      <td>7.678103e+06</td>\n",
       "      <td>1.075194e+06</td>\n",
       "      <td>3.459586e+07</td>\n",
       "      <td>20.101981</td>\n",
       "      <td>3.483161</td>\n",
       "    </tr>\n",
       "    <tr>\n",
       "      <th>std</th>\n",
       "      <td>1.133721e+07</td>\n",
       "      <td>1.399289e+06</td>\n",
       "      <td>4.445234e+07</td>\n",
       "      <td>5.762072</td>\n",
       "      <td>1.661141</td>\n",
       "    </tr>\n",
       "    <tr>\n",
       "      <th>min</th>\n",
       "      <td>8.337000e+03</td>\n",
       "      <td>1.482000e+03</td>\n",
       "      <td>6.447300e+04</td>\n",
       "      <td>11.176535</td>\n",
       "      <td>1.454525</td>\n",
       "    </tr>\n",
       "    <tr>\n",
       "      <th>25%</th>\n",
       "      <td>3.098615e+05</td>\n",
       "      <td>5.948800e+04</td>\n",
       "      <td>1.421136e+06</td>\n",
       "      <td>16.076337</td>\n",
       "      <td>2.333452</td>\n",
       "    </tr>\n",
       "    <tr>\n",
       "      <th>50%</th>\n",
       "      <td>3.378518e+06</td>\n",
       "      <td>5.253010e+05</td>\n",
       "      <td>1.678794e+07</td>\n",
       "      <td>19.405567</td>\n",
       "      <td>3.073549</td>\n",
       "    </tr>\n",
       "    <tr>\n",
       "      <th>75%</th>\n",
       "      <td>1.036886e+07</td>\n",
       "      <td>1.596484e+06</td>\n",
       "      <td>6.076749e+07</td>\n",
       "      <td>24.170387</td>\n",
       "      <td>4.106503</td>\n",
       "    </tr>\n",
       "    <tr>\n",
       "      <th>max</th>\n",
       "      <td>5.422576e+07</td>\n",
       "      <td>5.741485e+06</td>\n",
       "      <td>1.998123e+08</td>\n",
       "      <td>33.460356</td>\n",
       "      <td>8.648065</td>\n",
       "    </tr>\n",
       "  </tbody>\n",
       "</table>\n",
       "</div>"
      ],
      "text/plain": [
       "         Illiterate  Graduate & above  Total - Population  \\\n",
       "count  3.500000e+01      3.500000e+01        3.500000e+01   \n",
       "mean   7.678103e+06      1.075194e+06        3.459586e+07   \n",
       "std    1.133721e+07      1.399289e+06        4.445234e+07   \n",
       "min    8.337000e+03      1.482000e+03        6.447300e+04   \n",
       "25%    3.098615e+05      5.948800e+04        1.421136e+06   \n",
       "50%    3.378518e+06      5.253010e+05        1.678794e+07   \n",
       "75%    1.036886e+07      1.596484e+06        6.076749e+07   \n",
       "max    5.422576e+07      5.741485e+06        1.998123e+08   \n",
       "\n",
       "       Percentage Illiterate  Percentage Graduate & above  \n",
       "count              35.000000                    35.000000  \n",
       "mean               20.101981                     3.483161  \n",
       "std                 5.762072                     1.661141  \n",
       "min                11.176535                     1.454525  \n",
       "25%                16.076337                     2.333452  \n",
       "50%                19.405567                     3.073549  \n",
       "75%                24.170387                     4.106503  \n",
       "max                33.460356                     8.648065  "
      ]
     },
     "execution_count": 62,
     "metadata": {},
     "output_type": "execute_result"
    }
   ],
   "source": [
    "df.describe()"
   ]
  },
  {
   "cell_type": "code",
   "execution_count": 63,
   "id": "surprising-bristol",
   "metadata": {},
   "outputs": [
    {
     "data": {
      "text/plain": [
       "Area Name                      0\n",
       "Illiterate                     0\n",
       "Graduate & above               0\n",
       "Total - Population             0\n",
       "Percentage Illiterate          0\n",
       "Percentage Graduate & above    0\n",
       "dtype: int64"
      ]
     },
     "execution_count": 63,
     "metadata": {},
     "output_type": "execute_result"
    }
   ],
   "source": [
    "df.isnull().sum()"
   ]
  },
  {
   "cell_type": "code",
   "execution_count": 64,
   "id": "hollywood-design",
   "metadata": {},
   "outputs": [
    {
     "data": {
      "text/plain": [
       "<AxesSubplot:xlabel='Percentage Graduate & above'>"
      ]
     },
     "execution_count": 64,
     "metadata": {},
     "output_type": "execute_result"
    },
    {
     "data": {
      "image/png": "[encoded data removed]",
      "text/plain": [
       "<Figure size 432x288 with 1 Axes>"
      ]
     },
     "metadata": {
      "needs_background": "light"
     },
     "output_type": "display_data"
    }
   ],
   "source": [
    "sns.boxplot(df['Percentage Graduate & above'])"
   ]
  },
  {
   "cell_type": "code",
   "execution_count": 65,
   "id": "willing-costs",
   "metadata": {},
   "outputs": [],
   "source": [
    "grouped_df=df[['Illiterate','Graduate & above']]"
   ]
  },
  {
   "cell_type": "code",
   "execution_count": 66,
   "id": "innocent-colorado",
   "metadata": {},
   "outputs": [
    {
     "data": {
      "text/html": [
       "<div>\n",
       "<style scoped>\n",
       "    .dataframe tbody tr th:only-of-type {\n",
       "        vertical-align: middle;\n",
       "    }\n",
       "\n",
       "    .dataframe tbody tr th {\n",
       "        vertical-align: top;\n",
       "    }\n",
       "\n",
       "    .dataframe thead th {\n",
       "        text-align: right;\n",
       "    }\n",
       "</style>\n",
       "<table border=\"1\" class=\"dataframe\">\n",
       "  <thead>\n",
       "    <tr style=\"text-align: right;\">\n",
       "      <th></th>\n",
       "      <th>Illiterate</th>\n",
       "      <th>Graduate &amp; above</th>\n",
       "    </tr>\n",
       "  </thead>\n",
       "  <tbody>\n",
       "    <tr>\n",
       "      <th>0</th>\n",
       "      <td>3378518</td>\n",
       "      <td>385463</td>\n",
       "    </tr>\n",
       "    <tr>\n",
       "      <th>1</th>\n",
       "      <td>963742</td>\n",
       "      <td>267936</td>\n",
       "    </tr>\n",
       "    <tr>\n",
       "      <th>2</th>\n",
       "      <td>4886265</td>\n",
       "      <td>979525</td>\n",
       "    </tr>\n",
       "    <tr>\n",
       "      <th>3</th>\n",
       "      <td>175200</td>\n",
       "      <td>91276</td>\n",
       "    </tr>\n",
       "    <tr>\n",
       "      <th>4</th>\n",
       "      <td>1929236</td>\n",
       "      <td>525301</td>\n",
       "    </tr>\n",
       "  </tbody>\n",
       "</table>\n",
       "</div>"
      ],
      "text/plain": [
       "   Illiterate  Graduate & above\n",
       "0     3378518            385463\n",
       "1      963742            267936\n",
       "2     4886265            979525\n",
       "3      175200             91276\n",
       "4     1929236            525301"
      ]
     },
     "execution_count": 66,
     "metadata": {},
     "output_type": "execute_result"
    }
   ],
   "source": [
    "grouped_df.head()"
   ]
  },
  {
   "cell_type": "code",
   "execution_count": 67,
   "id": "respected-democracy",
   "metadata": {},
   "outputs": [],
   "source": [
    "from sklearn.preprocessing import StandardScaler\n",
    "scalar = StandardScaler()"
   ]
  },
  {
   "cell_type": "code",
   "execution_count": 70,
   "id": "cognitive-screening",
   "metadata": {},
   "outputs": [],
   "source": [
    "scaled = scalar.fit_transform(grouped_df)\n",
    "scaled.shape\n",
    "scaled_df = pd.DataFrame(scaled)\n",
    "# grouped_df.reset_index()\n",
    "scaled_df.columns = ['Illiterate','Graduate & above']"
   ]
  },
  {
   "cell_type": "code",
   "execution_count": 72,
   "id": "instrumental-console",
   "metadata": {},
   "outputs": [
    {
     "data": {
      "text/html": [
       "<div>\n",
       "<style scoped>\n",
       "    .dataframe tbody tr th:only-of-type {\n",
       "        vertical-align: middle;\n",
       "    }\n",
       "\n",
       "    .dataframe tbody tr th {\n",
       "        vertical-align: top;\n",
       "    }\n",
       "\n",
       "    .dataframe thead th {\n",
       "        text-align: right;\n",
       "    }\n",
       "</style>\n",
       "<table border=\"1\" class=\"dataframe\">\n",
       "  <thead>\n",
       "    <tr style=\"text-align: right;\">\n",
       "      <th></th>\n",
       "      <th>Illiterate</th>\n",
       "      <th>Graduate &amp; above</th>\n",
       "    </tr>\n",
       "  </thead>\n",
       "  <tbody>\n",
       "    <tr>\n",
       "      <th>0</th>\n",
       "      <td>-0.384782</td>\n",
       "      <td>-0.500111</td>\n",
       "    </tr>\n",
       "    <tr>\n",
       "      <th>1</th>\n",
       "      <td>-0.600888</td>\n",
       "      <td>-0.585328</td>\n",
       "    </tr>\n",
       "    <tr>\n",
       "      <th>2</th>\n",
       "      <td>-0.249850</td>\n",
       "      <td>-0.069368</td>\n",
       "    </tr>\n",
       "    <tr>\n",
       "      <th>3</th>\n",
       "      <td>-0.671456</td>\n",
       "      <td>-0.713421</td>\n",
       "    </tr>\n",
       "    <tr>\n",
       "      <th>4</th>\n",
       "      <td>-0.514483</td>\n",
       "      <td>-0.398717</td>\n",
       "    </tr>\n",
       "    <tr>\n",
       "      <th>5</th>\n",
       "      <td>-0.234701</td>\n",
       "      <td>0.040217</td>\n",
       "    </tr>\n",
       "    <tr>\n",
       "      <th>6</th>\n",
       "      <td>-0.436459</td>\n",
       "      <td>0.207167</td>\n",
       "    </tr>\n",
       "    <tr>\n",
       "      <th>7</th>\n",
       "      <td>0.964174</td>\n",
       "      <td>0.547952</td>\n",
       "    </tr>\n",
       "    <tr>\n",
       "      <th>8</th>\n",
       "      <td>4.165684</td>\n",
       "      <td>3.383443</td>\n",
       "    </tr>\n",
       "    <tr>\n",
       "      <th>9</th>\n",
       "      <td>2.430085</td>\n",
       "      <td>0.318281</td>\n",
       "    </tr>\n",
       "    <tr>\n",
       "      <th>10</th>\n",
       "      <td>-0.678823</td>\n",
       "      <td>-0.764264</td>\n",
       "    </tr>\n",
       "    <tr>\n",
       "      <th>11</th>\n",
       "      <td>-0.650759</td>\n",
       "      <td>-0.756144</td>\n",
       "    </tr>\n",
       "    <tr>\n",
       "      <th>12</th>\n",
       "      <td>-0.645648</td>\n",
       "      <td>-0.736956</td>\n",
       "    </tr>\n",
       "    <tr>\n",
       "      <th>13</th>\n",
       "      <td>-0.632064</td>\n",
       "      <td>-0.704090</td>\n",
       "    </tr>\n",
       "    <tr>\n",
       "      <th>14</th>\n",
       "      <td>-0.668051</td>\n",
       "      <td>-0.759694</td>\n",
       "    </tr>\n",
       "    <tr>\n",
       "      <th>15</th>\n",
       "      <td>-0.634554</td>\n",
       "      <td>-0.735984</td>\n",
       "    </tr>\n",
       "    <tr>\n",
       "      <th>16</th>\n",
       "      <td>-0.607145</td>\n",
       "      <td>-0.741411</td>\n",
       "    </tr>\n",
       "    <tr>\n",
       "      <th>17</th>\n",
       "      <td>0.025259</td>\n",
       "      <td>-0.426347</td>\n",
       "    </tr>\n",
       "    <tr>\n",
       "      <th>18</th>\n",
       "      <td>0.870896</td>\n",
       "      <td>0.804694</td>\n",
       "    </tr>\n",
       "    <tr>\n",
       "      <th>19</th>\n",
       "      <td>0.143383</td>\n",
       "      <td>-0.274674</td>\n",
       "    </tr>\n",
       "    <tr>\n",
       "      <th>20</th>\n",
       "      <td>0.089205</td>\n",
       "      <td>-0.116414</td>\n",
       "    </tr>\n",
       "    <tr>\n",
       "      <th>21</th>\n",
       "      <td>-0.170377</td>\n",
       "      <td>-0.387772</td>\n",
       "    </tr>\n",
       "    <tr>\n",
       "      <th>22</th>\n",
       "      <td>0.931869</td>\n",
       "      <td>0.446674</td>\n",
       "    </tr>\n",
       "    <tr>\n",
       "      <th>23</th>\n",
       "      <td>0.362497</td>\n",
       "      <td>0.437675</td>\n",
       "    </tr>\n",
       "    <tr>\n",
       "      <th>24</th>\n",
       "      <td>-0.683611</td>\n",
       "      <td>-0.774248</td>\n",
       "    </tr>\n",
       "    <tr>\n",
       "      <th>25</th>\n",
       "      <td>-0.679987</td>\n",
       "      <td>-0.771338</td>\n",
       "    </tr>\n",
       "    <tr>\n",
       "      <th>26</th>\n",
       "      <td>0.938057</td>\n",
       "      <td>2.597357</td>\n",
       "    </tr>\n",
       "    <tr>\n",
       "      <th>27</th>\n",
       "      <td>0.806502</td>\n",
       "      <td>1.715531</td>\n",
       "    </tr>\n",
       "    <tr>\n",
       "      <th>28</th>\n",
       "      <td>0.287823</td>\n",
       "      <td>0.870981</td>\n",
       "    </tr>\n",
       "    <tr>\n",
       "      <th>29</th>\n",
       "      <td>-0.671127</td>\n",
       "      <td>-0.728213</td>\n",
       "    </tr>\n",
       "    <tr>\n",
       "      <th>30</th>\n",
       "      <td>-0.686390</td>\n",
       "      <td>-0.778529</td>\n",
       "    </tr>\n",
       "    <tr>\n",
       "      <th>31</th>\n",
       "      <td>-0.353001</td>\n",
       "      <td>0.241040</td>\n",
       "    </tr>\n",
       "    <tr>\n",
       "      <th>32</th>\n",
       "      <td>0.193785</td>\n",
       "      <td>1.602703</td>\n",
       "    </tr>\n",
       "    <tr>\n",
       "      <th>33</th>\n",
       "      <td>-0.672492</td>\n",
       "      <td>-0.720564</td>\n",
       "    </tr>\n",
       "    <tr>\n",
       "      <th>34</th>\n",
       "      <td>-0.682572</td>\n",
       "      <td>-0.770126</td>\n",
       "    </tr>\n",
       "  </tbody>\n",
       "</table>\n",
       "</div>"
      ],
      "text/plain": [
       "    Illiterate  Graduate & above\n",
       "0    -0.384782         -0.500111\n",
       "1    -0.600888         -0.585328\n",
       "2    -0.249850         -0.069368\n",
       "3    -0.671456         -0.713421\n",
       "4    -0.514483         -0.398717\n",
       "5    -0.234701          0.040217\n",
       "6    -0.436459          0.207167\n",
       "7     0.964174          0.547952\n",
       "8     4.165684          3.383443\n",
       "9     2.430085          0.318281\n",
       "10   -0.678823         -0.764264\n",
       "11   -0.650759         -0.756144\n",
       "12   -0.645648         -0.736956\n",
       "13   -0.632064         -0.704090\n",
       "14   -0.668051         -0.759694\n",
       "15   -0.634554         -0.735984\n",
       "16   -0.607145         -0.741411\n",
       "17    0.025259         -0.426347\n",
       "18    0.870896          0.804694\n",
       "19    0.143383         -0.274674\n",
       "20    0.089205         -0.116414\n",
       "21   -0.170377         -0.387772\n",
       "22    0.931869          0.446674\n",
       "23    0.362497          0.437675\n",
       "24   -0.683611         -0.774248\n",
       "25   -0.679987         -0.771338\n",
       "26    0.938057          2.597357\n",
       "27    0.806502          1.715531\n",
       "28    0.287823          0.870981\n",
       "29   -0.671127         -0.728213\n",
       "30   -0.686390         -0.778529\n",
       "31   -0.353001          0.241040\n",
       "32    0.193785          1.602703\n",
       "33   -0.672492         -0.720564\n",
       "34   -0.682572         -0.770126"
      ]
     },
     "execution_count": 72,
     "metadata": {},
     "output_type": "execute_result"
    }
   ],
   "source": [
    "scaled_df"
   ]
  },
  {
   "cell_type": "code",
   "execution_count": 73,
   "id": "olympic-position",
   "metadata": {},
   "outputs": [],
   "source": [
    "from sklearn.neighbors import NearestNeighbors\n",
    "from random import sample\n",
    "from numpy.random import uniform\n",
    "import numpy as np\n",
    "from math import isnan\n",
    " \n",
    "def hopkins(X):\n",
    "    d = X.shape[1]\n",
    "    #d = len(vars) # columns\n",
    "    n = len(X) # rows\n",
    "    m = int(0.1 * n) \n",
    "    nbrs = NearestNeighbors(n_neighbors=1).fit(X.values)\n",
    " \n",
    "    rand_X = sample(range(0, n, 1), m)\n",
    " \n",
    "    ujd = []\n",
    "    wjd = []\n",
    "    for j in range(0, m):\n",
    "        u_dist, _ = nbrs.kneighbors(uniform(np.amin(X,axis=0),np.amax(X,axis=0),d).reshape(1, -1), 2, return_distance=True)\n",
    "        ujd.append(u_dist[0][1])\n",
    "        w_dist, _ = nbrs.kneighbors(X.iloc[rand_X[j]].values.reshape(1, -1), 2, return_distance=True)\n",
    "        wjd.append(w_dist[0][1])\n",
    " \n",
    "    H = sum(ujd) / (sum(ujd) + sum(wjd))\n",
    "    if isnan(H):\n",
    "        print(ujd, wjd)\n",
    "        H = 0\n",
    " \n",
    "    return H"
   ]
  },
  {
   "cell_type": "code",
   "execution_count": 74,
   "id": "reflected-confusion",
   "metadata": {},
   "outputs": [
    {
     "data": {
      "text/plain": [
       "0.8905968423451257"
      ]
     },
     "execution_count": 74,
     "metadata": {},
     "output_type": "execute_result"
    }
   ],
   "source": [
    "#Use the Hopkins Statistic function by passing the above dataframe as a paramter\n",
    "hopkins(scaled_df)"
   ]
  },
  {
   "cell_type": "code",
   "execution_count": 76,
   "id": "sixth-broad",
   "metadata": {},
   "outputs": [
    {
     "data": {
      "text/plain": [
       "KMeans(algorithm='auto', copy_x=True, init='k-means++', max_iter=50,\n",
       "       n_clusters=4, n_init=10, n_jobs=None, precompute_distances='auto',\n",
       "       random_state=None, tol=0.0001, verbose=0)"
      ]
     },
     "execution_count": 76,
     "metadata": {},
     "output_type": "execute_result"
    }
   ],
   "source": [
    "from sklearn.cluster import KMeans\n",
    "kmeans = KMeans(n_clusters=4, max_iter=50)\n",
    "kmeans.fit(scaled_df)"
   ]
  },
  {
   "cell_type": "code",
   "execution_count": 77,
   "id": "tamil-research",
   "metadata": {},
   "outputs": [
    {
     "data": {
      "text/plain": [
       "array([0, 0, 0, 0, 0, 0, 0, 2, 1, 2, 0, 0, 0, 0, 0, 0, 0, 0, 2, 0, 0, 0,\n",
       "       2, 2, 0, 0, 3, 3, 2, 0, 0, 0, 3, 0, 0], dtype=int32)"
      ]
     },
     "execution_count": 77,
     "metadata": {},
     "output_type": "execute_result"
    }
   ],
   "source": [
    "kmeans.labels_"
   ]
  },
  {
   "cell_type": "code",
   "execution_count": 81,
   "id": "useful-ready",
   "metadata": {},
   "outputs": [
    {
     "data": {
      "text/plain": [
       "[<matplotlib.lines.Line2D at 0x7fa30b415250>]"
      ]
     },
     "execution_count": 81,
     "metadata": {},
     "output_type": "execute_result"
    },
    {
     "data": {
      "image/png": "[encoded data removed]",
      "text/plain": [
       "<Figure size 432x288 with 1 Axes>"
      ]
     },
     "metadata": {
      "needs_background": "light"
     },
     "output_type": "display_data"
    }
   ],
   "source": [
    "ssd = []\n",
    "range_n_clusters = [2, 3, 4, 5, 6, 7, 8]\n",
    "for num_clusters in range_n_clusters:\n",
    "    kmeans = KMeans(n_clusters=num_clusters, max_iter=50)\n",
    "    kmeans.fit(scaled_df)\n",
    "    \n",
    "    ssd.append(kmeans.inertia_)\n",
    "    \n",
    "plt.plot(ssd)"
   ]
  },
  {
   "cell_type": "code",
   "execution_count": 80,
   "id": "given-specialist",
   "metadata": {},
   "outputs": [
    {
     "data": {
      "text/plain": [
       "[27.32878843522272,\n",
       " 12.57676387307738,\n",
       " 8.436418340120643,\n",
       " 5.172462659885679,\n",
       " 2.553523134116675,\n",
       " 1.8388144550135128,\n",
       " 1.2773319216511037]"
      ]
     },
     "execution_count": 80,
     "metadata": {},
     "output_type": "execute_result"
    }
   ],
   "source": [
    "ssd"
   ]
  },
  {
   "cell_type": "code",
   "execution_count": 85,
   "id": "potential-target",
   "metadata": {},
   "outputs": [
    {
     "name": "stdout",
     "output_type": "stream",
     "text": [
      "For n_clusters=2, the silhouette score is 0.6406227204976573\n",
      "For n_clusters=3, the silhouette score is 0.6468193024547649\n",
      "For n_clusters=4, the silhouette score is 0.6190826406017081\n",
      "For n_clusters=5, the silhouette score is 0.5935825366104822\n",
      "For n_clusters=6, the silhouette score is 0.6116830796283876\n",
      "For n_clusters=7, the silhouette score is 0.5971141562379768\n",
      "For n_clusters=8, the silhouette score is 0.604111908202853\n"
     ]
    }
   ],
   "source": [
    "# silhouette analysis\n",
    "\n",
    "from sklearn.metrics import silhouette_score\n",
    "range_n_clusters = [2, 3, 4, 5, 6, 7, 8]\n",
    "\n",
    "for num_clusters in range_n_clusters:\n",
    "    \n",
    "    # intialise kmeans\n",
    "    kmeans = KMeans(n_clusters=num_clusters, max_iter=50)\n",
    "    kmeans.fit(scaled_df)\n",
    "    \n",
    "    cluster_labels = kmeans.labels_\n",
    "    \n",
    "    # silhouette score\n",
    "    silhouette_avg = silhouette_score(scaled_df, cluster_labels)\n",
    "    print(\"For n_clusters={0}, the silhouette score is {1}\".format(num_clusters, silhouette_avg))\n",
    "    \n",
    "    "
   ]
  },
  {
   "cell_type": "markdown",
   "id": "virtual-salem",
   "metadata": {},
   "source": [
    "### In graph we can see, at k=3, the graph which decreasing at a very high rate, starts to drop slowly.\n",
    "As well as using Sihouette score we can see that k=2 and k=3 has almost same score.\n",
    "So out of common point, we will take k=3 to calculate further"
   ]
  },
  {
   "cell_type": "code",
   "execution_count": 89,
   "id": "affiliated-partner",
   "metadata": {},
   "outputs": [
    {
     "data": {
      "text/html": [
       "<div>\n",
       "<style scoped>\n",
       "    .dataframe tbody tr th:only-of-type {\n",
       "        vertical-align: middle;\n",
       "    }\n",
       "\n",
       "    .dataframe tbody tr th {\n",
       "        vertical-align: top;\n",
       "    }\n",
       "\n",
       "    .dataframe thead th {\n",
       "        text-align: right;\n",
       "    }\n",
       "</style>\n",
       "<table border=\"1\" class=\"dataframe\">\n",
       "  <thead>\n",
       "    <tr style=\"text-align: right;\">\n",
       "      <th></th>\n",
       "      <th>Illiterate</th>\n",
       "      <th>Graduate &amp; above</th>\n",
       "      <th>cluster_id</th>\n",
       "    </tr>\n",
       "  </thead>\n",
       "  <tbody>\n",
       "    <tr>\n",
       "      <th>0</th>\n",
       "      <td>-0.384782</td>\n",
       "      <td>-0.500111</td>\n",
       "      <td>1</td>\n",
       "    </tr>\n",
       "    <tr>\n",
       "      <th>1</th>\n",
       "      <td>-0.600888</td>\n",
       "      <td>-0.585328</td>\n",
       "      <td>1</td>\n",
       "    </tr>\n",
       "    <tr>\n",
       "      <th>2</th>\n",
       "      <td>-0.249850</td>\n",
       "      <td>-0.069368</td>\n",
       "      <td>1</td>\n",
       "    </tr>\n",
       "    <tr>\n",
       "      <th>3</th>\n",
       "      <td>-0.671456</td>\n",
       "      <td>-0.713421</td>\n",
       "      <td>1</td>\n",
       "    </tr>\n",
       "    <tr>\n",
       "      <th>4</th>\n",
       "      <td>-0.514483</td>\n",
       "      <td>-0.398717</td>\n",
       "      <td>1</td>\n",
       "    </tr>\n",
       "  </tbody>\n",
       "</table>\n",
       "</div>"
      ],
      "text/plain": [
       "   Illiterate  Graduate & above  cluster_id\n",
       "0   -0.384782         -0.500111           1\n",
       "1   -0.600888         -0.585328           1\n",
       "2   -0.249850         -0.069368           1\n",
       "3   -0.671456         -0.713421           1\n",
       "4   -0.514483         -0.398717           1"
      ]
     },
     "execution_count": 89,
     "metadata": {},
     "output_type": "execute_result"
    }
   ],
   "source": [
    "kmeans = KMeans(n_clusters=3, max_iter=50)\n",
    "kmeans.fit(scaled_df)\n",
    "scaled_df['cluster_id'] = kmeans.labels_\n",
    "scaled_df.head()\n",
    "\n",
    "# Since we selected 3 clusters, all cluster id will be between 0 and 2"
   ]
  },
  {
   "cell_type": "code",
   "execution_count": 91,
   "id": "boxed-nursery",
   "metadata": {},
   "outputs": [
    {
     "data": {
      "text/plain": [
       "<AxesSubplot:xlabel='cluster_id', ylabel='Illiterate'>"
      ]
     },
     "execution_count": 91,
     "metadata": {},
     "output_type": "execute_result"
    },
    {
     "data": {
      "image/png": "[encoded data removed]",
      "text/plain": [
       "<Figure size 432x288 with 1 Axes>"
      ]
     },
     "metadata": {
      "needs_background": "light"
     },
     "output_type": "display_data"
    }
   ],
   "source": [
    "sns.boxplot(x='cluster_id', y='Illiterate', data=scaled_df)"
   ]
  },
  {
   "cell_type": "code",
   "execution_count": 92,
   "id": "lesbian-stanley",
   "metadata": {},
   "outputs": [
    {
     "data": {
      "text/plain": [
       "<AxesSubplot:xlabel='cluster_id', ylabel='Graduate & above'>"
      ]
     },
     "execution_count": 92,
     "metadata": {},
     "output_type": "execute_result"
    },
    {
     "data": {
      "image/png": "[encoded data removed]",
      "text/plain": [
       "<Figure size 432x288 with 1 Axes>"
      ]
     },
     "metadata": {
      "needs_background": "light"
     },
     "output_type": "display_data"
    }
   ],
   "source": [
    "sns.boxplot(x='cluster_id', y='Graduate & above', data=scaled_df)"
   ]
  },
  {
   "cell_type": "code",
   "execution_count": null,
   "id": "cathedral-atlantic",
   "metadata": {},
   "outputs": [],
   "source": []
  }
 ],
 "metadata": {
  "kernelspec": {
   "display_name": "Python 3",
   "language": "python",
   "name": "python3"
  },
  "language_info": {
   "codemirror_mode": {
    "name": "ipython",
    "version": 3
   },
   "file_extension": ".py",
   "mimetype": "text/x-python",
   "name": "python",
   "nbconvert_exporter": "python",
   "pygments_lexer": "ipython3",
   "version": "3.8.5"
  }
 },
 "nbformat": 4,
 "nbformat_minor": 5
}
